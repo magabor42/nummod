{
 "cells": [
  {
   "cell_type": "markdown",
   "id": "0",
   "metadata": {},
   "source": [
    "# 2. Feladatsor: megoldások\n",
    "*(Lineáris egyenletrendszerek, felbontások)*"
   ]
  },
  {
   "cell_type": "markdown",
   "id": "1",
   "metadata": {},
   "source": [
    "### P1. Feladat\n",
    "\n",
    "Írjunk programot, amely egy adott négyzetes mátrixra kiszámolja a sarokdeterminánsait!"
   ]
  },
  {
   "cell_type": "code",
   "execution_count": 34,
   "id": "2",
   "metadata": {},
   "outputs": [
    {
     "data": {
      "text/plain": [
       "array([ 1., -3.,  0.])"
      ]
     },
     "execution_count": 34,
     "metadata": {},
     "output_type": "execute_result"
    }
   ],
   "source": [
    "import numpy as np\n",
    "\n",
    "def sarok_det(A: np.ndarray) -> np.array:\n",
    "\n",
    "    v = np.zeros(np.size(A,0))\n",
    "\n",
    "    for j in range(np.size(A,0)):\n",
    "        v[j] = np.linalg.det(A[:j+1,:j+1])\n",
    "    \n",
    "    return(v)\n",
    "\n",
    "A = np.array([[1, 2, 3], [4, 5, 6], [7, 8, 9]])\n",
    "sarok_det(A)\n"
   ]
  },
  {
   "cell_type": "markdown",
   "id": "3",
   "metadata": {},
   "source": [
    " ### P2. Feladat\n",
    " \n",
    " Írjunk programot, amely eldönti, hogy a mátrix szigorúan diagonálisan domináns-e vagy sem!"
   ]
  },
  {
   "cell_type": "code",
   "execution_count": 36,
   "id": "4",
   "metadata": {},
   "outputs": [
    {
     "data": {
      "text/plain": [
       "np.True_"
      ]
     },
     "execution_count": 36,
     "metadata": {},
     "output_type": "execute_result"
    }
   ],
   "source": [
    "import numpy as np\n",
    "\n",
    "def diag_dom(A: np.ndarray) -> bool:\n",
    "    abs_sum = np.sum(np.abs(A), axis=1)\n",
    "    diag_abs = 2*np.abs(np.diag(A))\n",
    "\n",
    "    is_SD=np.all(diag_abs > abs_sum)\n",
    "    return is_SD\n",
    "\n",
    "# A = np.array([[1, 2, 5], [2, 1, 3], [5, 3, 4]])\n",
    "# A = np.array([[-1, 0, 2], [0, 1, 3], [0, 1, 5]])\n",
    "A = np.array([[4, 1, 1], [1, 3, 0], [2, -1, -7]])\n",
    "#A = np.array([[-4, 1, 1], [1, 3, -3], [2, -1, -7]])\n",
    "\n",
    "diag_dom(A)\n"
   ]
  },
  {
   "cell_type": "markdown",
   "id": "5",
   "metadata": {},
   "source": [
    "### P3. Feladat\n",
    "\n",
    "Írjunk programot, amely kiszámítja az alábbi egyenletrendszer megoldását a Gauss-módszer segítségével! \n",
    "\n",
    "$$\\left[\\matrix{\n",
    "8 & -6 & -7 & 5 \\cr\n",
    "2 & -1 & -2 & 1 \\cr\n",
    "6 & 1 & -9 & 2 \\cr\n",
    "-2 & -5 & 4 & 0 \\cr\n",
    "}\\right]\n",
    "\\left[ \\matrix{\n",
    "x_1 \\cr x_2 \\cr x_3 \\cr x_4}\\right] = \\left[ \\matrix{\n",
    "-28 \\cr -7 \\cr-23 \\cr 8}\\right]\n",
    "$$\n"
   ]
  },
  {
   "cell_type": "code",
   "execution_count": 37,
   "id": "6",
   "metadata": {},
   "outputs": [],
   "source": [
    "import numpy as np\n",
    "\n",
    "# Maga a mátrix:\n",
    "A = np.array([[8, -6, -7, 5],\n",
    "              [2, -1, -2, 1],\n",
    "              [6, 1, -9, 2],\n",
    "              [-2, -5, 4, 0]], dtype='f')\n",
    "\n",
    "# A jobb oldal:\n",
    "b = np.array([-28, -7, -23, 8],  dtype='f').reshape(-1, 1)  # 1D tömbből 2D tömbbé alakítás"
   ]
  },
  {
   "cell_type": "code",
   "execution_count": 28,
   "id": "7",
   "metadata": {},
   "outputs": [],
   "source": [
    "# Gauss-elimináció\n",
    "\n",
    "def lu_felb(A,b):\n",
    "    M = np.hstack((A, b))\n",
    "    L=np.eye(np.size(A,0))\n",
    "    D=np.zeros(np.shape(A))\n",
    "    print('A rendszert leíró kiegészített mátrix')\n",
    "    print(M)\n",
    "    # U meghatározása\n",
    "    for i in range(np.size(A,0)):\n",
    "        # i. sor normalizálása\n",
    "        L[i,i]=np.copy(M[i,i])\n",
    "        M[i,i:]=M[i,i:]/M[i,i]\n",
    "        \n",
    "        # i. sor megfelelő együtthatókkal súlyozott változatainak\n",
    "        # kivonása az alatta lévő sorokból    \n",
    "        for j in range(i+1, M.shape[0]):\n",
    "            L[j,i]=np.copy(M[j,i])\n",
    "            M[j,:]=M[j,:]-M[j,i]*M[i,:]\n",
    "        \n",
    "\n",
    "    print('M immár felsőháromszög alakú, leszámítva az utolsó oszlopot:')\n",
    "    print(M)\n",
    "    print('L:')\n",
    "    print(L)\n",
    "    U=np.copy(M[:,:-1])\n",
    "\n",
    "    # Visszahelyettesítés\n",
    "    for j in range(np.size(A,0)-1, -1, -1):\n",
    "        # j. oszlopbeli elemek kiütése;\n",
    "        # ugyanezen múvelet elvégzése a hozzácsatolt, utolsó oszlopon\n",
    "        M[:j, -1] -= M[j, -1] * M[:j, j]\n",
    "        # ismerve a kimenetelt, nem muszáj elvégeznünk a műveletet\n",
    "        M[:j, j] = 0\n",
    "\n",
    "    print('A Gauss(-Jordan) elimináció (ideértve a visszahelyettesítést) eredménye:')\n",
    "    print(M)\n",
    "    return(L,U,M[:,-1])"
   ]
  },
  {
   "cell_type": "code",
   "execution_count": 39,
   "id": "8",
   "metadata": {},
   "outputs": [
    {
     "name": "stdout",
     "output_type": "stream",
     "text": [
      "A rendszert leíró kiegészített mátrix\n",
      "[[  8.  -6.  -7.   5. -28.]\n",
      " [  2.  -1.  -2.   1.  -7.]\n",
      " [  6.   1.  -9.   2. -23.]\n",
      " [ -2.  -5.   4.   0.   8.]]\n",
      "M immár felsőháromszög alakú, leszámítva az utolsó oszlopot:\n",
      "[[ 1.    -0.75  -0.875  0.625 -3.5  ]\n",
      " [ 0.     1.    -0.5   -0.5    0.   ]\n",
      " [ 0.     0.     1.    -1.     2.   ]\n",
      " [ 0.     0.     0.     1.    -1.   ]]\n",
      "L:\n",
      "[[ 8.   0.   0.   0. ]\n",
      " [ 2.   0.5  0.   0. ]\n",
      " [ 6.   5.5 -1.   0. ]\n",
      " [-2.  -6.5 -1.  -3. ]]\n",
      "A Gauss(-Jordan) elimináció (ideértve a visszahelyettesítést) eredménye:\n",
      "[[ 1.  0.  0.  0. -2.]\n",
      " [ 0.  1.  0.  0.  0.]\n",
      " [ 0.  0.  1.  0.  1.]\n",
      " [ 0.  0.  0.  1. -1.]]\n"
     ]
    },
    {
     "data": {
      "text/plain": [
       "array([[ 8., -6., -7.,  5.],\n",
       "       [ 2., -1., -2.,  1.],\n",
       "       [ 6.,  1., -9.,  2.],\n",
       "       [-2., -5.,  4.,  0.]])"
      ]
     },
     "execution_count": 39,
     "metadata": {},
     "output_type": "execute_result"
    }
   ],
   "source": [
    " [L,U,x]=lu_felb(A,b)\n",
    "L@U\n"
   ]
  },
  {
   "cell_type": "code",
   "execution_count": 32,
   "id": "1be092ac-cc8e-42f1-b631-87f27a769135",
   "metadata": {},
   "outputs": [
    {
     "name": "stdout",
     "output_type": "stream",
     "text": [
      "A rendszert leíró kiegészített mátrix\n",
      "[[ 2. -1.  3.  1.]\n",
      " [ 4.  2.  1.  1.]\n",
      " [-6. -1.  2.  1.]]\n",
      "M immár felsőháromszög alakú, leszámítva az utolsó oszlopot:\n",
      "[[ 1.   -0.5   1.5   0.5 ]\n",
      " [ 0.    1.   -1.25 -0.25]\n",
      " [ 0.    0.    1.    0.5 ]]\n",
      "L:\n",
      "[[ 2.  0.  0.]\n",
      " [ 4.  4.  0.]\n",
      " [-6. -4.  6.]]\n",
      "A Gauss(-Jordan) elimináció (ideértve a visszahelyettesítést) eredménye:\n",
      "[[ 1.      0.      0.     -0.0625]\n",
      " [ 0.      1.      0.      0.375 ]\n",
      " [ 0.      0.      1.      0.5   ]]\n"
     ]
    },
    {
     "data": {
      "text/plain": [
       "array([[ 2., -1.,  3.],\n",
       "       [ 4.,  2.,  1.],\n",
       "       [-6., -1.,  2.]])"
      ]
     },
     "execution_count": 32,
     "metadata": {},
     "output_type": "execute_result"
    }
   ],
   "source": [
    "A = np.array([[2, -1, 3],\n",
    "              [4, 2, 1],\n",
    "              [-6, -1, 2]], dtype='f')\n",
    "b = np.array([1,1,1],  dtype='f').reshape(-1, 1)\n",
    "[L,U,x]=lu_felb(A,b)\n",
    "L@U"
   ]
  },
  {
   "cell_type": "markdown",
   "id": "9",
   "metadata": {},
   "source": [
    "### P4. Feladat\n",
    "\n",
    "Adjuk meg az előző feladat mátrixának LDU-felbontását!"
   ]
  },
  {
   "cell_type": "code",
   "execution_count": 40,
   "id": "10",
   "metadata": {},
   "outputs": [],
   "source": [
    "# Gauss-elimináció\n",
    "\n",
    "def ldu_felb(A,b):\n",
    "    M = np.hstack((A, b))\n",
    "    L=np.eye(np.size(A,0))\n",
    "    D=np.zeros(np.shape(A))\n",
    "    print('A rendszert leíró kiegészített mátrix')\n",
    "    print(M)\n",
    "    # U meghatározása\n",
    "    for i in range(np.size(A,0)):\n",
    "        # i. sor normalizálása\n",
    "        D[i,i]=np.copy(M[i,i])\n",
    "        M[i,i:]=M[i,i:]/M[i,i]\n",
    "        \n",
    "        # i. sor megfelelő együtthatókkal súlyozott változatainak\n",
    "        # kivonása az alatta lévő sorokból    \n",
    "        for j in range(i+1, M.shape[0]):\n",
    "            L[j,i]=np.copy(M[j,i]/D[i,i])\n",
    "            M[j,:]=M[j,:]-M[j,i]*M[i,:]\n",
    "        \n",
    "\n",
    "    print('M immár felsőháromszög alakú, leszámítva az utolsó oszlopot:')\n",
    "    print(M)\n",
    "    print('L:')\n",
    "    print(L)\n",
    "    U=np.copy(M[:,:-1])\n",
    "\n",
    "    # Visszahelyettesítés\n",
    "    for j in range(np.size(A,0)-1, -1, -1):\n",
    "        # j. oszlopbeli elemek kiütése;\n",
    "        # ugyanezen múvelet elvégzése a hozzácsatolt, utolsó oszlopon\n",
    "        M[:j, -1] -= M[j, -1] * M[:j, j]\n",
    "        # ismerve a kimenetelt, nem muszáj elvégeznünk a műveletet\n",
    "        M[:j, j] = 0\n",
    "\n",
    "    print('A Gauss(-Jordan) elimináció (ideértve a visszahelyettesítést) eredménye:')\n",
    "    print(M)\n",
    "    return(L,D,U,M[:,-1])"
   ]
  },
  {
   "cell_type": "code",
   "execution_count": 46,
   "id": "5c563d33-4682-4e77-9bc4-df7ec44a4b59",
   "metadata": {},
   "outputs": [
    {
     "name": "stdout",
     "output_type": "stream",
     "text": [
      "A rendszert leíró kiegészített mátrix\n",
      "[[ 2. -1.  3.  1.]\n",
      " [ 4.  2.  1.  1.]\n",
      " [-6. -1.  2.  1.]]\n",
      "M immár felsőháromszög alakú, leszámítva az utolsó oszlopot:\n",
      "[[ 1.   -0.5   1.5   0.5 ]\n",
      " [ 0.    1.   -1.25 -0.25]\n",
      " [ 0.    0.    1.    0.5 ]]\n",
      "L:\n",
      "[[ 1.  0.  0.]\n",
      " [ 2.  1.  0.]\n",
      " [-3. -1.  1.]]\n",
      "A Gauss(-Jordan) elimináció (ideértve a visszahelyettesítést) eredménye:\n",
      "[[ 1.      0.      0.     -0.0625]\n",
      " [ 0.      1.      0.      0.375 ]\n",
      " [ 0.      0.      1.      0.5   ]]\n"
     ]
    },
    {
     "data": {
      "text/plain": [
       "array([[ 2., -1.,  3.],\n",
       "       [ 4.,  2.,  1.],\n",
       "       [-6., -1.,  2.]])"
      ]
     },
     "execution_count": 46,
     "metadata": {},
     "output_type": "execute_result"
    }
   ],
   "source": [
    "A = np.array([[2, -1, 3],\n",
    "              [4, 2, 1],\n",
    "              [-6, -1, 2]], dtype='f')\n",
    "b = np.array([1,1,1],  dtype='f').reshape(-1, 1)\n",
    "[L,D,U,x]=ldu_felb(A,b)\n",
    "L@D@U"
   ]
  },
  {
   "cell_type": "markdown",
   "id": "11",
   "metadata": {},
   "source": [
    "### P5. Feladat\n",
    "\n",
    "Írjunk programot, amely megadja az alábbi mátrix  Cholesky-felbontását!\n",
    "\n",
    "$$A =  \\left[\\matrix{ \n",
    "4 & 2 & 1\\cr\n",
    "2 & 17 & 13/2 \\cr\n",
    "1 & 13/2 & 23/2\n",
    "}\\right]$$"
   ]
  },
  {
   "cell_type": "code",
   "execution_count": 50,
   "id": "12",
   "metadata": {},
   "outputs": [
    {
     "name": "stdout",
     "output_type": "stream",
     "text": [
      "A rendszert leíró kiegészített mátrix\n",
      "[[ 4.   2.   1.   1. ]\n",
      " [ 2.  17.   6.5  1. ]\n",
      " [ 1.   6.5 11.5  1. ]]\n",
      "M immár felsőháromszög alakú, leszámítva az utolsó oszlopot:\n",
      "[[1.      0.5     0.25    0.25   ]\n",
      " [0.      1.      0.375   0.03125]\n",
      " [0.      0.      1.      0.0625 ]]\n",
      "L:\n",
      "[[1.    0.    0.   ]\n",
      " [0.5   1.    0.   ]\n",
      " [0.25  0.375 1.   ]]\n",
      "A Gauss(-Jordan) elimináció (ideértve a visszahelyettesítést) eredménye:\n",
      "[[1.         0.         0.         0.23046875]\n",
      " [0.         1.         0.         0.0078125 ]\n",
      " [0.         0.         1.         0.0625    ]]\n",
      "[[2.  0.  0. ]\n",
      " [1.  4.  0. ]\n",
      " [0.5 1.5 3. ]]\n",
      "[[ 4.   2.   1. ]\n",
      " [ 2.  17.   6.5]\n",
      " [ 1.   6.5 11.5]]\n"
     ]
    }
   ],
   "source": [
    "A=np.array([[4,2,1],[2,17,13/2],[1,13/2,23/2]])\n",
    "[L,D,U,x]=ldu_felb(A,np.ones([3,1]))\n",
    "\n",
    "G=L@D**(1/2)\n",
    "print(G)\n",
    "print(G@G.T)"
   ]
  },
  {
   "cell_type": "code",
   "execution_count": null,
   "id": "d3de83f3-1089-4f15-b11a-0127f474dd14",
   "metadata": {},
   "outputs": [],
   "source": []
  }
 ],
 "metadata": {
  "kernelspec": {
   "display_name": "Python 3 (ipykernel)",
   "language": "python",
   "name": "python3"
  },
  "language_info": {
   "codemirror_mode": {
    "name": "ipython",
    "version": 3
   },
   "file_extension": ".py",
   "mimetype": "text/x-python",
   "name": "python",
   "nbconvert_exporter": "python",
   "pygments_lexer": "ipython3",
   "version": "3.13.2"
  }
 },
 "nbformat": 4,
 "nbformat_minor": 5
}
