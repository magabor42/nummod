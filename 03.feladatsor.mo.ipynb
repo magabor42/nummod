{
 "cells": [
  {
   "cell_type": "markdown",
   "metadata": {},
   "source": [
    "# 3. Feladatsor: megoldások\n",
    "*(Normálegyenlet, iteratív megoldók, gradiens-ereszkedés)*"
   ]
  },
  {
   "cell_type": "markdown",
   "metadata": {},
   "source": [
    "### Hogyan készíthetünk ilyen fixpont-iterációt I.\n",
    "\n",
    "Legegyszerűbb megközelités (egyszerű- vagy **Richardson-iteráció**)\n",
    "$$\n",
    "\\begin{align}\n",
    "Ax &= b\\\\\n",
    "0 &= b - Ax \\\\\n",
    "x &= x - Ax + b \\\\\n",
    "\\\\\n",
    "f(x) &= (I-A)x +b\n",
    "\\end{align}\n",
    "$$\n",
    "\n",
    "Egy gond ezzel, hogy sokszor az $I-A$ mátrix spektrálsugara még nem elég kicsi. Ezen segithetünk egy $\\omega$ paraméter bevezetésével:\n",
    "$$\n",
    "\\begin{align}\n",
    "Ax &= b\\\\\n",
    "0 &= \\omega(b - Ax) \\\\\n",
    "x &= x - \\omega Ax + \\omega b \\\\\n",
    "\\\\\n",
    "f_{\\omega}(x) &= (I-\\omega A)x +\\omega b\n",
    "\\end{align}\n",
    "$$\n",
    "\n",
    "Itt $\\rho(I-\\omega A) < 1$ pontosan akkor teljesül, ha az $A$ mátrix $\\lambda$ sajátértékeire $| 1 - \\omega \\lambda | < 1$. A konvergencia akkor a leggyorsabb, ha ez a spektrálsugár minél kisebb. Például ha az $A$ mátrix szimmetrikus és pozitiv definit akkor az optimális választás $\\omega$-ra: \n",
    "\n",
    "$$\\omega_{\\text{opt}} = \\frac{2}{\\lambda_{\\min} + \\lambda_{\\max}}.$$"
   ]
  },
  {
   "cell_type": "markdown",
   "metadata": {},
   "source": [
    "### 2. Feladat\n",
    "\n",
    "Miért ez az $\\omega_{\\text{opt}}$?"
   ]
  },
  {
   "cell_type": "markdown",
   "metadata": {},
   "source": [
    "Megoldás: $\\rho(I-\\omega A)=\\max\\{|1-\\omega \\lambda_{\\min}|,|1-\\omega \\lambda_{\\max}|\\}$ SZPD $A$ esetén, ezt az értéket szeretnénk minimalizálni. $\\omega_{\\text{opt}} = \\frac{2}{\\lambda_{\\min} + \\lambda_{\\max}}$ esetén ezek\n",
    "\n",
    "$$|1-\\omega_{\\text{opt}} \\lambda_{\\min}|=\\bigg|1- \\dfrac{2\\lambda_{\\min}}{\\lambda_{\\min}+\\lambda_{\\max}}\\bigg|=\\bigg|\\dfrac{\\lambda_{\\max}-\\lambda_{\\min}}{\\lambda_{\\min}+\\lambda_{\\max}}\\bigg|=\\bigg|\\dfrac{\\lambda_{\\min}-\\lambda_{\\max}}{\\lambda_{\\min}+\\lambda_{\\max}}\\bigg|=\\bigg|1- \\dfrac{2\\lambda_{\\max}}{\\lambda_{\\min}+\\lambda_{\\max}}\\bigg|=|1-\\omega_{\\text{opt}} \\lambda_{\\max}|,$$\n",
    "\n",
    "azaz a 2 érték megegyezik, és egyszerűen látható, hogy itt lesz minimális a kettő maximuma."
   ]
  },
  {
   "cell_type": "markdown",
   "metadata": {},
   "source": [
    "### P1. Feladat\n",
    "Írjunk programot, amely egy $A$ SZPD mátrix esetén egy ábrán ábrázolja az $I-\\omega A$ mátrix sajátértékeinek abszolútértékét az $\\omega$ függvényeként. Bemeneti paraméterek lehetnek a mátrix sajátértékei."
   ]
  },
  {
   "cell_type": "code",
   "execution_count": 18,
   "metadata": {},
   "outputs": [
    {
     "data": {
      "image/png": "[encoded data removed]",
      "text/plain": [
       "<Figure size 432x288 with 1 Axes>"
      ]
     },
     "metadata": {
      "needs_background": "light"
     },
     "output_type": "display_data"
    }
   ],
   "source": [
    "import numpy as np\n",
    "import matplotlib.pyplot as plt\n",
    "\n",
    "def vplot(*lambdas: float, omega_min: float = 0., omega_max: float = 1.):\n",
    "    assert len(lambdas) >= 1\n",
    "    assert omega_max > omega_min\n",
    "    \n",
    "    ax = plt.axes()\n",
    "    \n",
    "    omegas = np.linspace(omega_min, omega_max, int(101*abs(omega_max - omega_min)))\n",
    "    for lam in lambdas:\n",
    "        ax.plot(omegas,  abs(1 - omegas*lam), label=fr\"$\\lambda$={lam}\")\n",
    "\n",
    "    ax.legend()\n",
    "    ax.set_xlabel(r\"$\\omega$\")\n",
    "    ax.set_ylabel(r\"$|1-\\omega\\lambda|$\")\n",
    "\n",
    "vplot(1,2,3,4)"
   ]
  },
  {
   "cell_type": "markdown",
   "metadata": {},
   "source": [
    "### P2. Feladat\n",
    "Írjunk általános függvényt a fenti, $A = M-N$ felbontással adódó iterációkhoz, majd ezzel implementáljuk a tanult iterációkat.\n",
    "\n",
    "Alkalmazzunk is ezek közül egy olyat, amit értelmes az\n",
    "$$\n",
    "\\left[\\matrix{2 & -1 \\cr -1 & 2}\\right] x= \\left[ \\matrix{1 \\cr 3} \\right]\n",
    "$$\n",
    "egyenlet megoldására. Addig iteráljunk, míg két szomszédos iterált $\\| \\cdot \\|_2$ szerinti távolsága $10^{-4}$ alá nem csökken."
   ]
  },
  {
   "cell_type": "code",
   "execution_count": 19,
   "metadata": {},
   "outputs": [
    {
     "ename": "TypeError",
     "evalue": "Callable[args, result]: args must be a list. Got (<class 'numpy.ndarray'>,)",
     "output_type": "error",
     "traceback": [
      "\u001b[1;31m---------------------------------------------------------------------------\u001b[0m",
      "\u001b[1;31mTypeError\u001b[0m                                 Traceback (most recent call last)",
      "\u001b[1;32m<ipython-input-19-4ff7e89bd0a8>\u001b[0m in \u001b[0;36m<module>\u001b[1;34m\u001b[0m\n\u001b[0;32m     15\u001b[0m \u001b[1;33m\u001b[0m\u001b[0m\n\u001b[0;32m     16\u001b[0m \u001b[1;33m@\u001b[0m\u001b[0mdataclass\u001b[0m\u001b[1;33m\u001b[0m\u001b[1;33m\u001b[0m\u001b[0m\n\u001b[1;32m---> 17\u001b[1;33m \u001b[1;32mclass\u001b[0m \u001b[0mStoppingCondition\u001b[0m\u001b[1;33m:\u001b[0m\u001b[1;33m\u001b[0m\u001b[1;33m\u001b[0m\u001b[0m\n\u001b[0m\u001b[0;32m     18\u001b[0m     \u001b[0mnorm\u001b[0m\u001b[1;33m:\u001b[0m \u001b[0mCallable\u001b[0m\u001b[1;33m[\u001b[0m\u001b[1;33m(\u001b[0m\u001b[0mVector\u001b[0m\u001b[1;33m,\u001b[0m\u001b[1;33m)\u001b[0m\u001b[1;33m,\u001b[0m \u001b[0mfloat\u001b[0m\u001b[1;33m]\u001b[0m\u001b[1;33m\u001b[0m\u001b[1;33m\u001b[0m\u001b[0m\n\u001b[0;32m     19\u001b[0m     \u001b[0matol\u001b[0m\u001b[1;33m:\u001b[0m \u001b[0mfloat\u001b[0m\u001b[1;33m\u001b[0m\u001b[1;33m\u001b[0m\u001b[0m\n",
      "\u001b[1;32m<ipython-input-19-4ff7e89bd0a8>\u001b[0m in \u001b[0;36mStoppingCondition\u001b[1;34m()\u001b[0m\n\u001b[0;32m     16\u001b[0m \u001b[1;33m@\u001b[0m\u001b[0mdataclass\u001b[0m\u001b[1;33m\u001b[0m\u001b[1;33m\u001b[0m\u001b[0m\n\u001b[0;32m     17\u001b[0m \u001b[1;32mclass\u001b[0m \u001b[0mStoppingCondition\u001b[0m\u001b[1;33m:\u001b[0m\u001b[1;33m\u001b[0m\u001b[1;33m\u001b[0m\u001b[0m\n\u001b[1;32m---> 18\u001b[1;33m     \u001b[0mnorm\u001b[0m\u001b[1;33m:\u001b[0m \u001b[0mCallable\u001b[0m\u001b[1;33m[\u001b[0m\u001b[1;33m(\u001b[0m\u001b[0mVector\u001b[0m\u001b[1;33m,\u001b[0m\u001b[1;33m)\u001b[0m\u001b[1;33m,\u001b[0m \u001b[0mfloat\u001b[0m\u001b[1;33m]\u001b[0m\u001b[1;33m\u001b[0m\u001b[1;33m\u001b[0m\u001b[0m\n\u001b[0m\u001b[0;32m     19\u001b[0m     \u001b[0matol\u001b[0m\u001b[1;33m:\u001b[0m \u001b[0mfloat\u001b[0m\u001b[1;33m\u001b[0m\u001b[1;33m\u001b[0m\u001b[0m\n\u001b[0;32m     20\u001b[0m     \u001b[0mrtol\u001b[0m\u001b[1;33m:\u001b[0m \u001b[0mfloat\u001b[0m\u001b[1;33m\u001b[0m\u001b[1;33m\u001b[0m\u001b[0m\n",
      "\u001b[1;32mC:\\ProgramData\\Anaconda3\\lib\\typing.py\u001b[0m in \u001b[0;36m__getitem__\u001b[1;34m(self, params)\u001b[0m\n\u001b[0;32m    811\u001b[0m         \u001b[1;32melse\u001b[0m\u001b[1;33m:\u001b[0m\u001b[1;33m\u001b[0m\u001b[1;33m\u001b[0m\u001b[0m\n\u001b[0;32m    812\u001b[0m             \u001b[1;32mif\u001b[0m \u001b[1;32mnot\u001b[0m \u001b[0misinstance\u001b[0m\u001b[1;33m(\u001b[0m\u001b[0margs\u001b[0m\u001b[1;33m,\u001b[0m \u001b[0mlist\u001b[0m\u001b[1;33m)\u001b[0m\u001b[1;33m:\u001b[0m\u001b[1;33m\u001b[0m\u001b[1;33m\u001b[0m\u001b[0m\n\u001b[1;32m--> 813\u001b[1;33m                 raise TypeError(f\"Callable[args, result]: args must be a list.\"\n\u001b[0m\u001b[0;32m    814\u001b[0m                                 f\" Got {args}\")\n\u001b[0;32m    815\u001b[0m             \u001b[0mparams\u001b[0m \u001b[1;33m=\u001b[0m \u001b[1;33m(\u001b[0m\u001b[0mtuple\u001b[0m\u001b[1;33m(\u001b[0m\u001b[0margs\u001b[0m\u001b[1;33m)\u001b[0m\u001b[1;33m,\u001b[0m \u001b[0mresult\u001b[0m\u001b[1;33m)\u001b[0m\u001b[1;33m\u001b[0m\u001b[1;33m\u001b[0m\u001b[0m\n",
      "\u001b[1;31mTypeError\u001b[0m: Callable[args, result]: args must be a list. Got (<class 'numpy.ndarray'>,)"
     ]
    }
   ],
   "source": [
    "from dataclasses import dataclass\n",
    "from functools import wraps\n",
    "from typing import Callable\n",
    "\n",
    "Matrix = np.ndarray\n",
    "Vector = np.ndarray\n",
    "\n",
    "@dataclass\n",
    "class IterationResult:\n",
    "    x: Vector\n",
    "    success: bool\n",
    "    abs_err: float\n",
    "    rel_err: float\n",
    "    step_num: int\n",
    "\n",
    "@dataclass\n",
    "class StoppingCondition:\n",
    "    norm: Callable[(Vector,), float]\n",
    "    atol: float\n",
    "    rtol: float\n",
    "    max_steps: int\n",
    "\n",
    "def mn_iteration(\n",
    "    extract_m: Callable[(Matrix,), Matrix],\n",
    "    A: Matrix,\n",
    "    b: Vector, \n",
    "    x0: Vector, \n",
    "    stopping_condition: StoppingCondition\n",
    ") -> IterationResult:\n",
    "    \n",
    "    M = extract_m(A)\n",
    "    N = M - A\n",
    "    # M^{-1}N\n",
    "    B = np.linalg.solve(M, N)\n",
    "    # M^{-1}b\n",
    "    r = np.linalg.solve(M, b)\n",
    "\n",
    "    is_success = False\n",
    "    x = x0\n",
    "    for step_num in range(1, stopping_condition.max_steps+1):\n",
    "        d = B@x + r - x;\n",
    "        x = x + d\n",
    "        \n",
    "        # Ha d kicsi, azaz x_n es x_{n+1} kozel vannak, \n",
    "        # azaz x_n es f(x_n) kozel vannak,\n",
    "        # azaz kozel vagyunk a fixponthoz.\n",
    "        abs_err = stopping_condition.norm(d);\n",
    "\n",
    "        if all([\n",
    "            abs_err <= stopping_condition.atol,\n",
    "            abs_err <= stopping_condition.rtol * stopping_condition.norm(x)\n",
    "        ]):\n",
    "            is_success = True\n",
    "            break\n",
    "\n",
    "    # tul sok lepes eseten sikertelen\n",
    "    is_success &= (step_num <= stopping_condition.max_steps)\n",
    "\n",
    "    return IterationResult(\n",
    "        x,\n",
    "        is_success,\n",
    "        abs_err,\n",
    "        abs_err/stopping_condition.norm(x),\n",
    "        step_num\n",
    "    )"
   ]
  },
  {
   "cell_type": "code",
   "execution_count": 20,
   "metadata": {},
   "outputs": [],
   "source": [
    "from functools import partial\n",
    "\n",
    "def make_jor_iteration(omega):\n",
    "    return partial(mn_iteration, lambda A: 1/omega*np.diag(np.diag(A)))\n",
    "\n",
    "def make_sor_iteration(omega):\n",
    "    return partial(mn_iteration, lambda A: 1/omega*np.diag(np.diag(A)) + np.tril(A, -1))"
   ]
  },
  {
   "cell_type": "code",
   "execution_count": 21,
   "metadata": {},
   "outputs": [
    {
     "ename": "NameError",
     "evalue": "name 'mn_iteration' is not defined",
     "output_type": "error",
     "traceback": [
      "\u001b[1;31m---------------------------------------------------------------------------\u001b[0m",
      "\u001b[1;31mNameError\u001b[0m                                 Traceback (most recent call last)",
      "\u001b[1;32m<ipython-input-21-baa8e1a7be8d>\u001b[0m in \u001b[0;36m<module>\u001b[1;34m\u001b[0m\n\u001b[1;32m----> 1\u001b[1;33m \u001b[0mjacobi_it\u001b[0m \u001b[1;33m=\u001b[0m \u001b[0mmake_jor_iteration\u001b[0m\u001b[1;33m(\u001b[0m\u001b[0momega\u001b[0m\u001b[1;33m=\u001b[0m\u001b[1;36m1\u001b[0m\u001b[1;33m)\u001b[0m\u001b[1;33m\u001b[0m\u001b[1;33m\u001b[0m\u001b[0m\n\u001b[0m",
      "\u001b[1;32m<ipython-input-20-144f3de56b2b>\u001b[0m in \u001b[0;36mmake_jor_iteration\u001b[1;34m(omega)\u001b[0m\n\u001b[0;32m      2\u001b[0m \u001b[1;33m\u001b[0m\u001b[0m\n\u001b[0;32m      3\u001b[0m \u001b[1;32mdef\u001b[0m \u001b[0mmake_jor_iteration\u001b[0m\u001b[1;33m(\u001b[0m\u001b[0momega\u001b[0m\u001b[1;33m)\u001b[0m\u001b[1;33m:\u001b[0m\u001b[1;33m\u001b[0m\u001b[1;33m\u001b[0m\u001b[0m\n\u001b[1;32m----> 4\u001b[1;33m     \u001b[1;32mreturn\u001b[0m \u001b[0mpartial\u001b[0m\u001b[1;33m(\u001b[0m\u001b[0mmn_iteration\u001b[0m\u001b[1;33m,\u001b[0m \u001b[1;32mlambda\u001b[0m \u001b[0mA\u001b[0m\u001b[1;33m:\u001b[0m \u001b[1;36m1\u001b[0m\u001b[1;33m/\u001b[0m\u001b[0momega\u001b[0m\u001b[1;33m*\u001b[0m\u001b[0mnp\u001b[0m\u001b[1;33m.\u001b[0m\u001b[0mdiag\u001b[0m\u001b[1;33m(\u001b[0m\u001b[0mnp\u001b[0m\u001b[1;33m.\u001b[0m\u001b[0mdiag\u001b[0m\u001b[1;33m(\u001b[0m\u001b[0mA\u001b[0m\u001b[1;33m)\u001b[0m\u001b[1;33m)\u001b[0m\u001b[1;33m)\u001b[0m\u001b[1;33m\u001b[0m\u001b[1;33m\u001b[0m\u001b[0m\n\u001b[0m\u001b[0;32m      5\u001b[0m \u001b[1;33m\u001b[0m\u001b[0m\n\u001b[0;32m      6\u001b[0m \u001b[1;32mdef\u001b[0m \u001b[0mmake_sor_iteration\u001b[0m\u001b[1;33m(\u001b[0m\u001b[0momega\u001b[0m\u001b[1;33m)\u001b[0m\u001b[1;33m:\u001b[0m\u001b[1;33m\u001b[0m\u001b[1;33m\u001b[0m\u001b[0m\n",
      "\u001b[1;31mNameError\u001b[0m: name 'mn_iteration' is not defined"
     ]
    }
   ],
   "source": [
    "jacobi_it = make_jor_iteration(omega=1)"
   ]
  },
  {
   "cell_type": "code",
   "execution_count": 8,
   "metadata": {},
   "outputs": [
    {
     "ename": "NameError",
     "evalue": "name 'StoppingCondition' is not defined",
     "output_type": "error",
     "traceback": [
      "\u001b[1;31m---------------------------------------------------------------------------\u001b[0m",
      "\u001b[1;31mNameError\u001b[0m                                 Traceback (most recent call last)",
      "\u001b[1;32m<ipython-input-8-366cc5d1b557>\u001b[0m in \u001b[0;36m<module>\u001b[1;34m\u001b[0m\n\u001b[0;32m      7\u001b[0m \u001b[0mx0\u001b[0m \u001b[1;33m=\u001b[0m \u001b[0mnp\u001b[0m\u001b[1;33m.\u001b[0m\u001b[0mzeros\u001b[0m\u001b[1;33m(\u001b[0m\u001b[1;33m(\u001b[0m\u001b[1;36m2\u001b[0m\u001b[1;33m,\u001b[0m\u001b[1;33m)\u001b[0m\u001b[1;33m)\u001b[0m\u001b[1;33m\u001b[0m\u001b[1;33m\u001b[0m\u001b[0m\n\u001b[0;32m      8\u001b[0m \u001b[1;33m\u001b[0m\u001b[0m\n\u001b[1;32m----> 9\u001b[1;33m stopping_condition = StoppingCondition(\n\u001b[0m\u001b[0;32m     10\u001b[0m     \u001b[0mpartial\u001b[0m\u001b[1;33m(\u001b[0m\u001b[0mnp\u001b[0m\u001b[1;33m.\u001b[0m\u001b[0mlinalg\u001b[0m\u001b[1;33m.\u001b[0m\u001b[0mnorm\u001b[0m\u001b[1;33m,\u001b[0m \u001b[0mord\u001b[0m\u001b[1;33m=\u001b[0m\u001b[1;36m2\u001b[0m\u001b[1;33m)\u001b[0m\u001b[1;33m,\u001b[0m \u001b[1;31m# nem kell a partial ha 2-es norma\u001b[0m\u001b[1;33m\u001b[0m\u001b[1;33m\u001b[0m\u001b[0m\n\u001b[0;32m     11\u001b[0m     \u001b[0matol\u001b[0m\u001b[1;33m=\u001b[0m\u001b[1;36m1e-4\u001b[0m\u001b[1;33m,\u001b[0m\u001b[1;33m\u001b[0m\u001b[1;33m\u001b[0m\u001b[0m\n",
      "\u001b[1;31mNameError\u001b[0m: name 'StoppingCondition' is not defined"
     ]
    }
   ],
   "source": [
    "A = np.array([\n",
    "    [2, -1],\n",
    "    [-1, 2],\n",
    "])\n",
    "\n",
    "b = np.array([1, 3])\n",
    "x0 = np.zeros((2,))\n",
    "\n",
    "stopping_condition = StoppingCondition(\n",
    "    partial(np.linalg.norm, ord=2), # nem kell a partial ha 2-es norma\n",
    "    atol=1e-4,\n",
    "    rtol=np.inf,\n",
    "    max_steps=10**10,\n",
    ")"
   ]
  },
  {
   "cell_type": "code",
   "execution_count": 9,
   "metadata": {},
   "outputs": [
    {
     "ename": "NameError",
     "evalue": "name 'jacobi_it' is not defined",
     "output_type": "error",
     "traceback": [
      "\u001b[1;31m---------------------------------------------------------------------------\u001b[0m",
      "\u001b[1;31mNameError\u001b[0m                                 Traceback (most recent call last)",
      "\u001b[1;32m<ipython-input-9-8873ffac91b7>\u001b[0m in \u001b[0;36m<module>\u001b[1;34m\u001b[0m\n\u001b[1;32m----> 1\u001b[1;33m \u001b[0miteration_result\u001b[0m \u001b[1;33m=\u001b[0m \u001b[0mjacobi_it\u001b[0m\u001b[1;33m(\u001b[0m\u001b[0mA\u001b[0m\u001b[1;33m,\u001b[0m \u001b[0mb\u001b[0m\u001b[1;33m,\u001b[0m \u001b[0mx0\u001b[0m\u001b[1;33m,\u001b[0m \u001b[0mstopping_condition\u001b[0m\u001b[1;33m)\u001b[0m\u001b[1;33m\u001b[0m\u001b[1;33m\u001b[0m\u001b[0m\n\u001b[0m",
      "\u001b[1;31mNameError\u001b[0m: name 'jacobi_it' is not defined"
     ]
    }
   ],
   "source": [
    "iteration_result = jacobi_it(A, b, x0, stopping_condition)"
   ]
  },
  {
   "cell_type": "code",
   "execution_count": 10,
   "metadata": {},
   "outputs": [
    {
     "ename": "NameError",
     "evalue": "name 'iteration_result' is not defined",
     "output_type": "error",
     "traceback": [
      "\u001b[1;31m---------------------------------------------------------------------------\u001b[0m",
      "\u001b[1;31mNameError\u001b[0m                                 Traceback (most recent call last)",
      "\u001b[1;32m<ipython-input-10-5aae0f94e3ff>\u001b[0m in \u001b[0;36m<module>\u001b[1;34m\u001b[0m\n\u001b[1;32m----> 1\u001b[1;33m \u001b[0miteration_result\u001b[0m\u001b[1;33m\u001b[0m\u001b[1;33m\u001b[0m\u001b[0m\n\u001b[0m",
      "\u001b[1;31mNameError\u001b[0m: name 'iteration_result' is not defined"
     ]
    }
   ],
   "source": [
    "iteration_result"
   ]
  },
  {
   "cell_type": "code",
   "execution_count": 11,
   "metadata": {},
   "outputs": [
    {
     "ename": "NameError",
     "evalue": "name 'iteration_result' is not defined",
     "output_type": "error",
     "traceback": [
      "\u001b[1;31m---------------------------------------------------------------------------\u001b[0m",
      "\u001b[1;31mNameError\u001b[0m                                 Traceback (most recent call last)",
      "\u001b[1;32m<ipython-input-11-a1bdfc6ca3fc>\u001b[0m in \u001b[0;36m<module>\u001b[1;34m\u001b[0m\n\u001b[1;32m----> 1\u001b[1;33m \u001b[0mA\u001b[0m \u001b[1;33m@\u001b[0m \u001b[0miteration_result\u001b[0m\u001b[1;33m.\u001b[0m\u001b[0mx\u001b[0m\u001b[1;33m\u001b[0m\u001b[1;33m\u001b[0m\u001b[0m\n\u001b[0m",
      "\u001b[1;31mNameError\u001b[0m: name 'iteration_result' is not defined"
     ]
    }
   ],
   "source": [
    "A @ iteration_result.x"
   ]
  },
  {
   "cell_type": "code",
   "execution_count": null,
   "metadata": {},
   "outputs": [],
   "source": []
  },
  {
   "cell_type": "code",
   "execution_count": 29,
   "metadata": {},
   "outputs": [
    {
     "name": "stdout",
     "output_type": "stream",
     "text": [
      "Solution: [ 1.37500006 -2.24999934  1.87500031]\n",
      "Number of iterations: 74\n",
      "Success: True\n",
      "[ 4.99999945 -6.00000049  5.99999997]\n"
     ]
    }
   ],
   "source": [
    "import numpy as np\n",
    "\n",
    "def gradient_descent(A, b, x0, tol=1e-6, max_iter=1000):\n",
    "    \"\"\"\n",
    "    Gradient Descent method for solving symmetric positive definite (SPD) linear systems.\n",
    "\n",
    "    Parameters:\n",
    "        A (numpy.ndarray): The symmetric positive definite matrix.\n",
    "        b (numpy.ndarray): The right-hand side vector.\n",
    "        x0 (numpy.ndarray): Initial guess for the solution.\n",
    "        tol (float): Tolerance for convergence.\n",
    "        max_iter (int): Maximum number of iterations.\n",
    "\n",
    "    Returns:\n",
    "        x (numpy.ndarray): Solution vector.\n",
    "        iter (int): Number of iterations performed.\n",
    "        is_success (bool): True if the method was successful, False otherwise.\n",
    "    \"\"\"\n",
    "    is_success = False\n",
    "    x = x0.copy()\n",
    "    for iter in range(max_iter):\n",
    "        r = A @ x - b  # Compute residual\n",
    "        if np.linalg.norm(r) < tol:\n",
    "            is_success = True\n",
    "            break  # Convergence achieved\n",
    "\n",
    "        # Compute step size\n",
    "        omega = r @ r / (r @ (A @ r))\n",
    "        d = -omega * r\n",
    "\n",
    "        x = x + d  # Update solution\n",
    "\n",
    "    return x, iter + 1, is_success\n",
    "\n",
    "# Example usage: (nem szimmetrikus mátrix esetén a normálegyenlettel használható a gradiens ereszkedés : A^T*A*x=A^T*b megoldása megegyezik az A*x=b megoldásával, ha A invertálható)\n",
    "A = np.array([[2, -1, 0],\n",
    "              [-3, 0, -1],\n",
    "              [0, -1, 2]])\n",
    "b = np.array([5, -6, 6])\n",
    "x0 = np.zeros_like(b)\n",
    "\n",
    "solution, iterations, is_success = gradient_descent(A.T@A, A.T@b, x0)\n",
    "print(\"Solution:\", solution)\n",
    "print(\"Number of iterations:\", iterations)\n",
    "print(\"Success:\", is_success)\n",
    "print(A@solution)"
   ]
  },
  {
   "cell_type": "code",
   "execution_count": null,
   "metadata": {},
   "outputs": [],
   "source": []
  }
 ],
 "metadata": {
  "kernelspec": {
   "display_name": "Python 3",
   "language": "python",
   "name": "python3"
  },
  "language_info": {
   "codemirror_mode": {
    "name": "ipython",
    "version": 3
   },
   "file_extension": ".py",
   "mimetype": "text/x-python",
   "name": "python",
   "nbconvert_exporter": "python",
   "pygments_lexer": "ipython3",
   "version": "3.8.5"
  }
 },
 "nbformat": 4,
 "nbformat_minor": 5
}
