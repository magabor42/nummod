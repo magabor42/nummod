{
 "cells": [
  {
   "cell_type": "markdown",
   "id": "2dba0082",
   "metadata": {},
   "source": [
    "# 4. Feladatsor: megoldások\n",
    "\n",
    "*(Nemlineáris egyenletek: intervallumfelezés, fixpont iteráció)*"
   ]
  },
  {
   "cell_type": "markdown",
   "id": "66231b21",
   "metadata": {},
   "source": [
    "### 4. Feladat\n",
    "Keressük meg az $f(x) = x^3 + 2 x^2 + 10 x - 20$ egyenlet gyökét, ha valahonnan sejtjük, hogy a $K=[1,2]$  intervallumban van. Alkalmazzunk fixpont-iterációt és addig iteráljunk, míg a szomszédos iteráltak távolsága $10^{-10}$ alá nem csökken."
   ]
  },
  {
   "cell_type": "markdown",
   "id": "16e27559",
   "metadata": {},
   "source": [
    "Megoldás: Az iterációs függvény a következő lesz: $F(x)=x-\\omega(x^3 + 2 x^2 + 10 x - 20)$ megfelelő $\\omega$ mellett, hiszen ennek fixpontja $x=x-\\omega(x^3 + 2 x^2 + 10 x - 20)$ megoldja az $x^3 + 2 x^2 + 10 x - 20=0$ egyenletet, és megfelelő $\\omega$ mellett kontrakció lesz. Számoljunk ki egy megfelelő $\\omega$-át! Ha $\\max_{K}|F'(x)|=L<1$ és $F$ ráképezés, akkor kontrakció is, hiszen ekkor $F$ Lipschitz folytonos is $L$ Lipschitz konstanssal. Minimalizáljuk ezt. \n",
    "\n",
    "$$F'(x)=1-\\omega(3x^2+4x+10)$$\n",
    "\n",
    "Mivel $f$ monoton növő $K$-n így $\\max_{[1,2]}|F'(x)|=\\max \\{|1-\\omega (3\\cdot 1^2+4\\cdot 1 +10)|,|1-\\omega (3\\cdot 2^2+4\\cdot 2 +10|)\\} =\\max\\{|1-\\omega \\cdot 17|,|1-\\omega\\cdot 30|\\}$, ez $\\omega=\\dfrac{2}{17+30}$ esetén lesz minimális. "
   ]
  },
  {
   "cell_type": "code",
   "execution_count": 3,
   "id": "2d9ace34",
   "metadata": {},
   "outputs": [
    {
     "name": "stdout",
     "output_type": "stream",
     "text": [
      "1.3688081078142509 11\n",
      "6.3933303096064265e-12\n"
     ]
    }
   ],
   "source": [
    "import numpy as np\n",
    "\n",
    "def fixpont_it(x0, f, atol, max_it):\n",
    "    x = x0\n",
    "    for num_steps in range(1, max_it + 1):\n",
    "        dx = -(x - f(x))\n",
    "        x = x + dx\n",
    "        if np.abs(dx) < atol:\n",
    "            break\n",
    "    return x, num_steps\n",
    "\n",
    "\n",
    "def f(x):\n",
    "    return x-2/47*(x**3+2*x**2+10*x-20)\n",
    "\n",
    "a, num = fixpont_it(2,f,10**(-10),100)\n",
    "\n",
    "print(a,num)\n",
    "print(f(a)-a)"
   ]
  },
  {
   "cell_type": "markdown",
   "id": "f6855304",
   "metadata": {},
   "source": [
    "### P1. Feladat\n",
    "\n",
    "Implementáljuk a gradiens-módszert az optimális lépéshosszválasztással az SZPD-baloldalú lineáris egyenletrendszer iteratív megoldására.\n",
    "\n",
    "Alkalmazzuk is ezt a módszert az \n",
    "$$\n",
    "\\left[\\matrix{2 & -1 \\cr -1 & 2}\\right] x= \\left[ \\matrix{1 \\cr 3} \\right]\n",
    "$$\n",
    "egyenlet megoldására. Addig iteráljunk, míg két szomszédos iterált $\\| \\cdot \\|_\\infty$ szerinti távolsága $10^{-6}$ alá nem csökken."
   ]
  },
  {
   "cell_type": "code",
   "execution_count": 4,
   "id": "fb1099a0",
   "metadata": {},
   "outputs": [
    {
     "name": "stdout",
     "output_type": "stream",
     "text": [
      "Solution: [ 2.24999884 -0.50000156  2.74999884]\n",
      "Number of iterations: 223\n",
      "Success: True\n",
      "[ 4.99999925 -6.00000081  5.99999925]\n"
     ]
    }
   ],
   "source": [
    "import numpy as np\n",
    "\n",
    "def gradient_descent(A, b, x0, tol=1e-6, max_iter=1000):\n",
    "    \n",
    "    is_success = False\n",
    "    x = x0.copy()\n",
    "    for iter in range(max_iter):\n",
    "        r = A @ x - b  # Compute residual\n",
    "        if np.linalg.norm(r) < tol:\n",
    "            is_success = True\n",
    "            break  # Convergence achieved\n",
    "\n",
    "        # Compute step size\n",
    "        omega = r @ r / (r @ (A @ r))\n",
    "        d = -omega * r\n",
    "\n",
    "        x = x + d  # Update solution\n",
    "\n",
    "    return x, iter + 1, is_success\n",
    "\n",
    "# Example usage: (nem szimmetrikus mátrix esetén a normálegyenlettel használható a gradiens ereszkedés : A^T*A*x=A^T*b megoldása megegyezik az A*x=b megoldásával, ha A invertálható)\n",
    "A = np.array([[2, -1, 0],\n",
    "              [-1, 2, -1],\n",
    "              [0, -1, 2]])\n",
    "b = np.array([5, -6, 6])\n",
    "x0 = np.zeros_like(b)\n",
    "\n",
    "solution, iterations, is_success = gradient_descent(A.T@A, A.T@b, x0)\n",
    "print(\"Solution:\", solution)\n",
    "print(\"Number of iterations:\", iterations)\n",
    "print(\"Success:\", is_success)\n",
    "print(A@solution)"
   ]
  },
  {
   "cell_type": "markdown",
   "id": "52e63896",
   "metadata": {},
   "source": [
    "### P2. Feladat \n",
    "Oldjuk meg a $\\cos(x) = x$ egyenletet a valós számok halmazán. Keressünk alkalmas halmazon alkalmas kontrakciót, majd írjunk kódot amivel addig iteráljunk, míg két szomszédos lépés távolsága nem lesz -nél kisebb."
   ]
  },
  {
   "cell_type": "code",
   "execution_count": 5,
   "id": "dd9ff178",
   "metadata": {},
   "outputs": [
    {
     "name": "stdout",
     "output_type": "stream",
     "text": [
      "Fixpont: 0.7390822985224023\n",
      "Iterációk száma: 30\n"
     ]
    }
   ],
   "source": [
    "x, num_steps = fixpont_it(0, np.cos, 1e-5, 100)\n",
    "\n",
    "print(\"Fixpont:\", x)\n",
    "print(\"Iterációk száma:\", num_steps)\n"
   ]
  },
  {
   "cell_type": "code",
   "execution_count": null,
   "id": "f5340cc2-5b4e-4ef5-8681-674c811411e0",
   "metadata": {},
   "outputs": [],
   "source": []
  }
 ],
 "metadata": {
  "kernelspec": {
   "display_name": "Python 3 (ipykernel)",
   "language": "python",
   "name": "python3"
  },
  "language_info": {
   "codemirror_mode": {
    "name": "ipython",
    "version": 3
   },
   "file_extension": ".py",
   "mimetype": "text/x-python",
   "name": "python",
   "nbconvert_exporter": "python",
   "pygments_lexer": "ipython3",
   "version": "3.13.2"
  }
 },
 "nbformat": 4,
 "nbformat_minor": 5
}
