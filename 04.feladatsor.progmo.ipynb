{
 "cells": [
  {
   "cell_type": "markdown",
   "id": "2dba0082",
   "metadata": {},
   "source": [
    "# 4. Feladatsor: megoldások\n",
    "\n",
    "*(Nemlineáris egyenletek: intervallumfelezés, fixpont iteráció)*"
   ]
  },
  {
   "cell_type": "markdown",
   "id": "28591f25-27aa-4fff-8b71-bc39807a6cbc",
   "metadata": {},
   "source": [
    "### P1. Feladat\n",
    "\n",
    "Implementáljuk a gradiens-módszert az optimális lépéshosszválasztással az SZPD-baloldalú lineáris egyenletrendszer iteratív megoldására.\n",
    "\n",
    "Alkalmazzuk is ezt a módszert az \n",
    "$$\n",
    "\\left[\\matrix{2 & -1 \\cr -1 & 2}\\right] x= \\left[ \\matrix{1 \\cr 3} \\right]\n",
    "$$\n",
    "egyenlet megoldására. Addig iteráljunk, míg két szomszédos iterált $\\| \\cdot \\|_\\infty$ szerinti távolsága $10^{-6}$ alá nem csökken."
   ]
  },
  {
   "cell_type": "code",
   "execution_count": 8,
   "id": "b8b8cb0c-d746-4254-bc5f-2198ace2214c",
   "metadata": {},
   "outputs": [
    {
     "name": "stdout",
     "output_type": "stream",
     "text": [
      "Solution: [ 2.24999884 -0.50000156  2.74999884]\n",
      "Number of iterations: 223\n",
      "Success: True\n",
      "[ 4.99999925 -6.00000081  5.99999925]\n"
     ]
    }
   ],
   "source": [
    "import numpy as np\n",
    "\n",
    "def gradient_descent(A, b, x0, tol=1e-6, max_iter=1000):\n",
    "    \n",
    "    ...\n",
    "\n",
    "# Example usage: (nem szimmetrikus mátrix esetén a normálegyenlettel használható a gradiens ereszkedés : A^T*A*x=A^T*b megoldása megegyezik az A*x=b megoldásával, ha A invertálható)\n",
    "A = np.array([[2, -1, 0],\n",
    "              [-1, 2, -1],\n",
    "              [0, -1, 2]])\n",
    "b = np.array([5, -6, 6])\n",
    "x0 = np.zeros_like(b)\n",
    "\n",
    "solution, iterations, is_success = gradient_descent(A.T@A, A.T@b, x0)\n",
    "print(\"Solution:\", solution)\n",
    "print(\"Number of iterations:\", iterations)\n",
    "print(\"Success:\", is_success)\n",
    "print(A@solution)"
   ]
  },
  {
   "cell_type": "markdown",
   "id": "66231b21",
   "metadata": {},
   "source": [
    "### P2. Feladat\n",
    "Keressük meg az $f(x) = x^3 + 2 x^2 + 10 x - 20$ egyenlet gyökét, ha valahonnan sejtjük, hogy a $K=[1,2]$  intervallumban van. Alkalmazzunk fixpont-iterációt és addig iteráljunk, míg a szomszédos iteráltak távolsága $10^{-10}$ alá nem csökken."
   ]
  },
  {
   "cell_type": "markdown",
   "id": "16e27559",
   "metadata": {},
   "source": [
    "Az iterációs függvény a következő lesz: $F(x)=x-\\omega(x^3 + 2 x^2 + 10 x - 20)$ megfelelő $\\omega$ mellett, hiszen ennek fixpontja $x=x-\\omega(x^3 + 2 x^2 + 10 x - 20)$ megoldja az $x^3 + 2 x^2 + 10 x - 20=0$ egyenletet, és megfelelő $\\omega$ mellett kontrakció lesz."
   ]
  },
  {
   "cell_type": "code",
   "execution_count": 7,
   "id": "2d9ace34",
   "metadata": {},
   "outputs": [
    {
     "name": "stdout",
     "output_type": "stream",
     "text": [
      "1.3688081078142509 11\n",
      "6.3933303096064265e-12\n"
     ]
    }
   ],
   "source": [
    "import numpy as np\n",
    "\n",
    "def fixpont_it(x0, f, atol, max_it):\n",
    "    ...\n",
    "\n",
    "print(a,num)\n",
    "print(f(a)-a)"
   ]
  },
  {
   "cell_type": "markdown",
   "id": "52e63896",
   "metadata": {},
   "source": [
    "### P3. Feladat \n",
    "Oldjuk meg a $\\cos(x) = x$ egyenletet a valós számok halmazán. Keressünk alkalmas halmazon alkalmas kontrakciót, majd írjunk kódot amivel addig iteráljunk, míg két szomszédos lépés távolsága nem lesz -nél kisebb."
   ]
  },
  {
   "cell_type": "code",
   "execution_count": null,
   "id": "dd9ff178",
   "metadata": {},
   "outputs": [],
   "source": [
    "..."
   ]
  }
 ],
 "metadata": {
  "kernelspec": {
   "display_name": "Python 3 (ipykernel)",
   "language": "python",
   "name": "python3"
  },
  "language_info": {
   "codemirror_mode": {
    "name": "ipython",
    "version": 3
   },
   "file_extension": ".py",
   "mimetype": "text/x-python",
   "name": "python",
   "nbconvert_exporter": "python",
   "pygments_lexer": "ipython3",
   "version": "3.13.2"
  }
 },
 "nbformat": 4,
 "nbformat_minor": 5
}
