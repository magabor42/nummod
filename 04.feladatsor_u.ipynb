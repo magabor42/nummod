{
 "cells": [
  {
   "cell_type": "markdown",
   "id": "c7715008",
   "metadata": {},
   "source": [
    "# 4. Feladatsor\n",
    "\n",
    "*(Nemlineáris egyenletek: intervallumfelezés, fixpont iteráció)*"
   ]
  },
  {
   "cell_type": "markdown",
   "id": "74ee6f7f-4b0b-468a-9af2-c839ad8ed35d",
   "metadata": {},
   "source": [
    "## Gradiens-alapú módszerek\n",
    "\n",
    "Bizonyos esetekben egy lineáris algebrai egyenletrendszer megoldása előáll mint egy megfelelő függvény minimumhelye."
   ]
  },
  {
   "cell_type": "markdown",
   "id": "04e0ab88-e0a4-45ce-9e45-622e2464d020",
   "metadata": {},
   "source": [
    "### 1. Feladat\n",
    "\n",
    "Legyen $\\phi: V \\mapsto \\mathbb{R}$ definíciója \n",
    "$$\\phi_{A,b}(x) = \\dfrac{x^T A x}{2} - b^Tx.$$\n",
    "\n",
    "Mutassuk meg az alábbiakat.\n",
    "\n",
    "a) \n",
    "$$\n",
    "\\phi'_{A,b}(x) = \\nabla \\phi_{A,b} (x) =  \\dfrac{x^T(A + A^T)}{2} - b^T\n",
    "$$\n",
    "\n",
    "b)\n",
    "\n",
    "$$\n",
    "\\phi_{A,b}''(x) = \\frac{A + A^T}{2}\n",
    "$$"
   ]
  },
  {
   "cell_type": "code",
   "execution_count": null,
   "id": "8932476a-5695-45d7-8405-c8d5ef7b38a2",
   "metadata": {},
   "outputs": [],
   "source": []
  },
  {
   "cell_type": "markdown",
   "id": "601d8146-e628-4369-bd71-e46f77763797",
   "metadata": {},
   "source": [
    "### 2. Feladat\n",
    "\n",
    "Láttuk, hogy ha $A$ SZPD, akkor a Richardson-iteráció alkalmazható. Ebben az esetben gondoljuk meg a következőket.\n",
    "\n",
    "a) Az $x$ megoldása az $Ax = b$ egyenletnek pontosan akkor, ha $x$ az $\\phi_{A, b}$ funkcionál kritikus pontja. \n",
    "\n",
    "b) A Richardson-iteráció egy lépése valójában a \n",
    "$$x_{k+1} = x_k - \\omega \\phi'_{A, b} (x_k) $$\n",
    "formulával írható le."
   ]
  },
  {
   "cell_type": "code",
   "execution_count": null,
   "id": "a3301653-c6cb-4947-a85e-6a832b165085",
   "metadata": {},
   "outputs": [],
   "source": []
  },
  {
   "cell_type": "markdown",
   "id": "bc4de502-6bc7-4729-957a-038d3bed9a2a",
   "metadata": {},
   "source": [
    "#### Gradiens-ereszkedés (vagy -módszer)\n",
    "Legyen $\\phi: V \\to \\mathbb{R}$. Ekkor az\n",
    "\n",
    "$$\n",
    "x_{k+1} = x_k - \\alpha_k \\nabla \\phi(x_k)\n",
    "$$\n",
    "\n",
    "iterációt gradiens-ereszkedésnek nevezzük. Itt $\\phi$ például konvex, folytonosan differenciálható funkcionál, melynek gradiense Lipschitz-folytonos; $\\alpha_k > 0$ pedig a lépéshosszok.\n",
    "\n",
    "A Richardson-iteráció tehát tekinthető egy állandó lépéshosszú gradiens-ereszkedésnek, melyet a $\\phi_{A, b}$ függvényre alkalmazunk. Hogyan válaszhatnánk meg ennél ügyesebben a lépéshosszainkat? Mutassuk meg, hogy egy $x$ ponton átmenő, $p$ irányvektorú egyenes mentén a $\\phi_{A, b}$ függvény minimumhelye (előadás jegyzetben!)\n",
    "\n",
    "$$x - \\frac{p^T r}{p^T A p} p,$$\n",
    "\n",
    "ahol $r = Ax - b$."
   ]
  },
  {
   "cell_type": "code",
   "execution_count": null,
   "id": "81639e64-9d72-4fcf-98bc-bbc9c2a51202",
   "metadata": {},
   "outputs": [],
   "source": []
  },
  {
   "cell_type": "markdown",
   "id": "7ba18fad-3250-4c4e-b8a9-56adf401241e",
   "metadata": {},
   "source": [
    "### P1. Feladat\n",
    "\n",
    "Implementáljuk a gradiens-módszert az optimális lépéshosszválasztással az SZPD-baloldalú lineáris egyenletrendszer iteratív megoldására.\n",
    "\n",
    "Alkalmazzuk is ezt a módszert az \n",
    "$$\n",
    "\\left[\\matrix{2 & -1 \\cr -1 & 2}\\right] x= \\left[ \\matrix{1 \\cr 3} \\right]\n",
    "$$\n",
    "egyenlet megoldására. Addig iteráljunk, míg két szomszédos iterált $\\| \\cdot \\|_\\infty$ szerinti távolsága $10^{-6}$ alá nem csökken."
   ]
  },
  {
   "cell_type": "markdown",
   "id": "a6a7f5d7",
   "metadata": {},
   "source": [
    "## Nemlineáris egyenletek megoldása egyszerű iterációval\n",
    "\n",
    "**Cél:** Az $f(x)=0$ egyenlet megoldása, ahol  adott, szép tulajdonságú (pl. folytonosan deriválható) függvény, azaz keressük az $f$ függvény gyökeit/zérushelyeit. Ekvivalensen $g(x)=b$  megoldása az $f = g-b$ függvényre alkamazott gyökkereséssel.\n",
    "\n"
   ]
  },
  {
   "cell_type": "markdown",
   "id": "ca1b9357",
   "metadata": {},
   "source": [
    "### Fixpont-iteráció\n",
    "\n",
    "**Emlék:** A Banach-féle fixponttétel következtében ha $X$ Banach-tér és $f:X\\rightarrow X$ kontrakció $0\\leq q<1$ együtthatóval, akkor van $x^*$ fixpontja, amire $f(x^*) = x^*$; továbbá az $x_{n+1} = f(x_n)$ sorozat tetszőleges $X$-beli pontból indítva $x^*$-hoz fog tartani; továbbá $e_n = x_n - x^*$ választással látható, hogy\n",
    "\n",
    "$$\\|e_{n+1}\\| = \\| x_{n+1} - x^* \\| =  \\| f(x_{n}) - f(x^*) \\| \\leq q \\|x_n - x^*\\| = q \\| e_n\\|$$\n",
    "és\n",
    "$$\\|e_n\\| = \\|  (f\\circ \\ldots \\circ f)(x_0) - (f\\circ \\ldots \\circ f)(x^*) \\| \\leq q^n\\|x_0 - x^*\\| = q^n\\|e_0\\|$$\n",
    "\n",
    "**Emlék:** Legyen $X$ végesdimenziós valós vektortér, $U \\subseteq X$ nyílt halmaz, $f: U \\to X$ folytonosan differenciálható és legyen $x, h \\in U$ olyan, hogy az $x+h\\cdot[0,1] \\subseteq U$, azaz az $x$-ből induló $x+h$ végű szakasz része $U$-nak; ekkor\n",
    "\n",
    "$$f(x+h) - f(x) = \\int_{0}^1 f'(x+th) \\cdot h\\, dt.$$\n",
    "\n",
    "Ebből kapjuk a középérték-tétel magasabbdimenziós változatát:\n",
    "\n",
    "$$\\|f(x+h) - f(x)\\| \\leq \\left(\\sup_{0\\leq t \\leq 1}\\|f'(x+th)\\| \\right) \\|h\\|.$$\n",
    "\n",
    "Ha $K \\subseteq U\\subseteq X$ és $K$ kompakt, akkor\n",
    "\n",
    "$$M = \\sup_{K}\\|f'\\|$$\n",
    "\n",
    "választással $x, y \\in K$ esetén ha az $x$ és $y$ pontok által határolt szakasz $K$-ban van (pl. ha  konvex), akkor\n",
    "\n",
    "$$\\| f(x) - f(y) \\| \\leq M \\|x -y\\|.$$\n",
    "\n",
    "Ha $f(K) \\subseteq K$ (hívjuk ezt ráképezésnek) és $M<1$, akkor $f|_K:K \\to K$ kontrakció. Mivel teljes tér zárt részhalmaza teljes, $K$ ezért teljes, tehát $f|_K$-ra is alkalmazható a Banach-féle fixponttétel. Érdemes lehet megjegyezni, hogy $K$ általában nem vektortér, azonban az eredeti tér normája által generált metrikával a halmaz teljes metrikus tér, tehát a Banach-féle fixponttétel valóban alkalmazható."
   ]
  },
  {
   "cell_type": "code",
   "execution_count": null,
   "id": "72e1d4f0",
   "metadata": {},
   "outputs": [],
   "source": []
  },
  {
   "cell_type": "markdown",
   "id": "ff09bf72",
   "metadata": {},
   "source": [
    "\n",
    "A lineáris esettel analóg módon bizonyos feltételek mellett fixpontiterációt készíthetünk az alábbi átalakítással:\n",
    "\n",
    "$$\n",
    "\\begin{align}\n",
    "f(x) &= b\\\\\n",
    "0 &= b - f(x) \\\\\n",
    "x &= x - f(x) + b \\\\\n",
    "\\end{align}\n",
    "$$\n",
    "\n",
    "Az iterációt ugyanolyan módon el tudjuk végezni mint a lineáris esetben, amíg $f(x)=x-(f(x)-b)$ kontrakció. Ha nem az, akkor valamely $c$ megválasztása mellett még lehet esélyünk arra, hogy az $f_c(x)=x-c(f(x)-b)$ függvény kontrakció legyen, a kérdés, hogy ezt hogy válasszuk meg. "
   ]
  },
  {
   "cell_type": "code",
   "execution_count": null,
   "id": "1fa630c5",
   "metadata": {},
   "outputs": [],
   "source": []
  },
  {
   "cell_type": "markdown",
   "id": "5acc34c7",
   "metadata": {},
   "source": [
    "### 3. Feladat\n",
    "\n",
    "Legyen  $H=\\mathbb{R}$. Ellenőrizzük, hogy ha $F(u)=u-c (f(u)-b)$ ráképezés egy $K$ kompakt halmazon és itt $f'(u)\\geq 0$, akkor bármely $0<c<\\dfrac{2}{M_f}$ választás jó."
   ]
  },
  {
   "cell_type": "code",
   "execution_count": null,
   "id": "1f8106ad",
   "metadata": {},
   "outputs": [],
   "source": []
  },
  {
   "cell_type": "markdown",
   "id": "4f3fb0e0",
   "metadata": {},
   "source": [
    "### 4. Feladat (+P2)\n",
    "Keressük meg az $f(x) = x^3 + 2 x^2 + 10 x - 20$ egyenlet gyökét, ha valahonnan sejtjük, hogy a $K=[1,2]$  intervallumban van. Alkalmazzunk fixpont-iterációt és addig iteráljunk, míg a szomszédos iteráltak távolsága $10^{-10}$ alá nem csökken."
   ]
  },
  {
   "cell_type": "code",
   "execution_count": null,
   "id": "3fc5f1ee",
   "metadata": {},
   "outputs": [],
   "source": []
  },
  {
   "cell_type": "markdown",
   "id": "937d0156",
   "metadata": {},
   "source": [
    "### 5*. Feladat \n",
    "Tekintsük az alábbi függvényt, ahol $c \\in \\mathbb{R}^+$:\n",
    "\n",
    "$$f(x) = \\frac{1}{x} - \\frac{x}{c}$$\n",
    "\n",
    "Keressük a függvény $x^*>0$ zérushelyét fixpont iteráció segítségével! Írjuk fel alkalmas $F(x) $ függvényt, és bizonyítsuk be, hogy valóban konvergál minden $c>0$ esetén! Hová fog tartani?"
   ]
  },
  {
   "cell_type": "markdown",
   "id": "504536c8-efb0-4dbf-b5f0-566c64b913ba",
   "metadata": {},
   "source": [
    "### P3. Feladat \n",
    "Oldjuk meg a $\\cos(x) = x$ egyenletet a valós számok halmazán. Keressünk alkalmas halmazon alkalmas kontrakciót, majd írjunk kódot amivel addig iteráljunk, míg két szomszédos lépés távolsága nem lesz $10^{-10}$-nél kisebb."
   ]
  },
  {
   "cell_type": "code",
   "execution_count": null,
   "id": "99c8a41f",
   "metadata": {},
   "outputs": [],
   "source": []
  }
 ],
 "metadata": {
  "kernelspec": {
   "display_name": "Python 3 (ipykernel)",
   "language": "python",
   "name": "python3"
  },
  "language_info": {
   "codemirror_mode": {
    "name": "ipython",
    "version": 3
   },
   "file_extension": ".py",
   "mimetype": "text/x-python",
   "name": "python",
   "nbconvert_exporter": "python",
   "pygments_lexer": "ipython3",
   "version": "3.13.2"
  }
 },
 "nbformat": 4,
 "nbformat_minor": 5
}
