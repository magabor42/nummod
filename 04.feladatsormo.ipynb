{
 "cells": [
  {
   "cell_type": "markdown",
   "metadata": {},
   "source": [
    "# 4. Feladatsor\n",
    "Gradiens-módszer, nemlineáris egyenletek: intervallumfelezés, fixpont iteráció"
   ]
  },
  {
   "cell_type": "markdown",
   "metadata": {},
   "source": [
    "## Gradiens-alapú módszerek\n",
    "\n",
    "Bizonyos esetekben egy lineáris algebrai egyenletrendszer megoldása előáll mint egy megfelelő függvény minimumhelye."
   ]
  },
  {
   "cell_type": "markdown",
   "metadata": {},
   "source": [
    "#### Gradiens-ereszkedés (vagy -módszer)\n",
    "Legyen $\\phi: V \\to \\mathbb{R}$. Ekkor az\n",
    "\n",
    "$$\n",
    "x_{k+1} = x_k - \\alpha_k \\nabla \\phi(x_k)\n",
    "$$\n",
    "\n",
    "iterációt gradiens-ereszkedésnek nevezzük. Itt $\\phi$ például konvex, folytonosan differenciálható funkcionál, melynek gradiense Lipschitz-folytonos; $\\alpha_k > 0$ pedig a lépéshosszok."
   ]
  },
  {
   "cell_type": "markdown",
   "metadata": {},
   "source": [
    "Legyen $\\phi: V \\mapsto \\mathbb{R}$ egy $A$ SZPD mátrix esetén \n",
    "$$\\phi_{A,b}(x) = \\frac{1}{2}  \\langle x ,Ax \\rangle - \\langle b, x \\rangle.$$\n",
    "\n",
    "Gondoljuk meg, hogy\n",
    " \n",
    "$$\n",
    "\\phi'_{A,b}(x) = \\nabla \\phi_{A,b} (x) =  Ax-b\n",
    "$$\n",
    "\n",
    "$$\n",
    "\\phi_{A,b}''(x) = A\n",
    "$$"
   ]
  },
  {
   "cell_type": "markdown",
   "metadata": {},
   "source": [
    "Azt mondjuk, hogy a $\\phi: V \\to \\mathbb{R}$ funkcionál konvex, ha minden $x, y \\in V$ és $0 \\leq t \\leq 1$ esetén \n",
    "$$\n",
    "\\phi(tx + (1-t)y) \\leq t \\phi(x) + (1-t)\\phi(y),\n",
    "$$\n",
    "azaz az $x$ és $y$ pontokat összekötő szakasz $\\phi$ függvény általi képe nem helyezkedik el feljebb, mint az $\\phi(x)$ és $\\phi(y)$ pontokat összekötő szakasz."
   ]
  },
  {
   "cell_type": "markdown",
   "metadata": {},
   "source": [
    "\n",
    "\n",
    "Láttuk, hogy ha $A$ SZPD, akkor a Richardson-iteráció alkalmazható. Ebben az esetben gondoljuk meg a következőket.\n",
    "\n",
    "a) Az $x$ megoldása az $Ax = b$ egyenletnek pontosan akkor, ha $x$ az $\\phi_{A, b}$ funkcionál kritikus pontja. \n",
    "\n",
    "b) A Richardson-iteráció egy lépése valójában a \n",
    "$$x_{k+1} = x_k - \\omega \\phi'_{A, b} (x_k) $$\n",
    "formulával írható le."
   ]
  },
  {
   "cell_type": "markdown",
   "metadata": {},
   "source": [
    "\n",
    "\n",
    "A Richardson-iteráció tehát tekinthető egy állandó lépéshosszú gradiens-ereszkedésnek, melyet a $\\phi_{A, b}$ függvényre alkalmazunk. Hogyan válaszhatnánk meg ennél ügyesebben a lépéshosszainkat? Mutassuk meg, hogy egy $x$ ponton átmenő, $p$ irányvektorú egyenes mentén a $\\phi_{A, b}$ függvény minimumhelye \n",
    "\n",
    "$$x - \\frac{p^T r}{p^T A p} p,$$\n",
    "\n",
    "ahol $r = Ax - b$."
   ]
  },
  {
   "cell_type": "markdown",
   "metadata": {},
   "source": [
    "### 1. Feladat\n",
    "Mutassuk meg, hogy ha $A$ pozitív szemidefinit, akkor $\\phi_{A, b}$ konvex."
   ]
  },
  {
   "cell_type": "markdown",
   "metadata": {},
   "source": [
    "### 2. Feladat\n",
    "\n",
    "Ha $\\phi$ konvex és folyt. diff.ható, akkor mutassuk meg az alábbiakat.\n",
    "\n",
    "a*)\n",
    "\n",
    "$$\n",
    "\\phi(y) \\geq \\phi(x) + \\langle \\phi'(x), y- x\\rangle,\n",
    "$$\n",
    "\n",
    "azaz az érintősíkok a függvény grafikonja alatt helyezkednek el.\n",
    "\n",
    "b) \n",
    "Ha $\\phi'(x) = 0$, akkor $x$ globális minimumhely.\n",
    "\n",
    "\n"
   ]
  },
  {
   "cell_type": "markdown",
   "metadata": {},
   "source": [
    "### 2.+ Feladat\n",
    "\n",
    "a) Mutassunk egy olyan $\\phi_{\\tilde A, \\tilde b}$ függvényt, melynek minimumhelye egybeesik az\n",
    "$$\n",
    "\\| Ax - b \\|^2_2\n",
    "$$\n",
    "függvény minimumhelyével.\n",
    "\n",
    "b) Mutassuk meg, hogy $\\| Ax - b \\|^2_2$ konvex.\n",
    "\n",
    "c) Mutassuk meg, hogy a normálegyenlet megoldása egybeesik a $\\phi_{\\tilde A, \\tilde b}$ függvény gradiensének zérushelyével."
   ]
  },
  {
   "cell_type": "markdown",
   "metadata": {},
   "source": [
    "## Nemlineáris egyenletek"
   ]
  },
  {
   "cell_type": "markdown",
   "metadata": {},
   "source": [
    "Cél: Az $f(x)=0$ egyenlet megoldása, ahol  adott, szép tulajdonságú (pl. folytonosan deriválható) függvény, azaz keressük az  függvény gyökeit/zérushelyeit. Ekvivalensen $g(x)=b$  megoldása az $f = g-b$ függvényre alkamazott gyökkereséssel.\n",
    "\n"
   ]
  },
  {
   "cell_type": "markdown",
   "metadata": {},
   "source": [
    "## Intervallumfelezés\n",
    "Tegyük fel, hogy tudjuk, hogy egy adott $[a,b]$ intervallumon a függvényünknek van egy gyöke; például ezt onnan tudhatjuk, hogy a végpontokban különböző előjelű a függvény, pontosabban: $f(a) \\cdot f(b) < 0$. Tegyük fel, hogy ez fennáll és hogy $f(a) > 0, f(b)<0$. Ez utóbbi nem megszorítás, mert $f$ és  $-f$ gyökei ugyanott vannak.\n",
    "\n",
    "**Alapgondolat**: Vizsgáljuk meg a függvény előjelét az $\\frac{a+b}{2}$ pontban! Ha itt pozitív, az azt jelenti, hogy a keresett zérushely az $\\left[a,\\; \\frac{a+b}{2}\\right)$ intervallumban van, azaz itt érdemes folytatni a keresést. Ugyanakkor ha itt negatív, akkor a zérushely az $\\left( \\frac{a+b}{2},\\; b\\right]$ intervallumban található, és itt kell tovább keresnünk. Ezt követően az előbbi gondolatot folytatjuk az új, kisebb intervallumokon, azaz vagy az $\\frac{a+b}{4}$, vagy a $\\frac{3 (a+b)}{4}$ pontban vizsgáljuk a előjelet, és így tovább. \n",
    "Az algoritmus addig fut, amíg  értéke a vizsgált pontban nulla nem lesz (ez programok esetén a gépi hibák miatt ritkán következik be), vagy amikor a vizsgált intervallum már nagyon kicsi/rövid, de természetesen megadhatunk maximális lépésszámot is, amely után álljon le mindenképpen a program. Határértékben ez a módszer mindenképpen megtalál egy zérushelyet (ha több is van, akkor a zérushelyek közül valamelyiket)."
   ]
  },
  {
   "cell_type": "markdown",
   "metadata": {},
   "source": [
    "### 3. Feladat\n",
    "Fibonacci egyik cikkében szerepel az alábbi állítás: az\n",
    "\n",
    "$$f(x) = x^3 + 2 x^2 + 10 x - 20$$\n",
    "\n",
    "egyenlet gyöke $x = 1.368808107...$ Ellenőrizzük le az intervallumfelezéses módszerrel, hogy jól számolt-e!\n",
    "Megoldás: Legyen a toleranciánk , és indítsuk az iterációt az  intervallumon!"
   ]
  },
  {
   "cell_type": "code",
   "execution_count": 23,
   "metadata": {},
   "outputs": [
    {
     "name": "stdout",
     "output_type": "stream",
     "text": [
      "1.368808107858058\n",
      "34\n"
     ]
    }
   ],
   "source": [
    "import numpy as np\n",
    "\n",
    "tol = 10**(-10)\n",
    "\n",
    "a = 1\n",
    "b = 2\n",
    "\n",
    "k = 0\n",
    "\n",
    "while np.abs(b - a) > tol:\n",
    "    x = (a + b) / 2\n",
    "    f = x**3 + 2*x**2 + 10*x - 20\n",
    "    if f == 0:\n",
    "        break\n",
    "    else:\n",
    "        if f > 0:\n",
    "            b = x\n",
    "        else:\n",
    "            a = x\n",
    "    k += 1\n",
    "\n",
    "print(x)\n",
    "print(k)"
   ]
  },
  {
   "cell_type": "markdown",
   "metadata": {},
   "source": [
    "### Fixpont-iteráció\n",
    "\n",
    "Emlék: A Banach-féle fixponttétel következtében ha $X$ Banach-tér és $f:X\\rightarrow X$ kontrakció $0\\leq q<1$ együtthatóval, akkor van $x^*$ fixpontja, amire $f(x^*) = x^*$; továbbá az $x_{n+1} = f(x_n)$ sorozat tetszőleges $X$-beli pontból indítva $x^*$-hoz fog tartani; továbbá $e_n = x_n - x^*$ választással látható, hogy\n",
    "\n",
    "$$\\|e_{n+1}\\| = \\| x_{n+1} - x^* \\| =  \\| f(x_{n}) - f(x^*) \\| \\leq q \\|x_n - x^*\\| = q \\| e_n\\|$$\n",
    "és\n",
    "$$\\|e_n\\| = \\|  (f\\circ \\ldots \\circ f)(x_0) - (f\\circ \\ldots \\circ f)(x^*) \\| \\leq q^n\\|x_0 - x^*\\| = q^n\\|e_0\\|$$\n",
    "\n",
    "**Emlék:** Legyen $X$ végesdimenziós valós vektortér, $U \\subseteq X$ nyílt halmaz, $f: U \\to X$ folytonosan differenciálható és legyen $x, h \\in U$ olyan, hogy az $x+h\\cdot[0,1] \\subseteq U$, azaz az $x$-ből induló $x+h$ végű szakasz része $U$-nak, akkor\n",
    "\n",
    "$$f(x+h) - f(x) = \\int_{0}^1 f'(x+th) \\cdot h\\, dt.$$\n",
    "\n",
    "Ebből kapjuk a középérték-tétel magasabbdimenziós változatát:\n",
    "\n",
    "$$\\|f(x+h) - f(x)\\| \\leq \\left(\\sup_{0\\leq t \\leq 1}\\|f'(x+th)\\| \\right) \\|h\\|.$$\n",
    "\n",
    "Ha $K \\subseteq U\\subseteq X$ és $K$ kompakt, akkor\n",
    "\n",
    "$$M = \\sup_{K}\\|f'\\|$$\n",
    "\n",
    "választással $x, y \\in K$ esetén ha az $x$ és $y$ pontok által határolt szakasz $K$-ban van (pl. ha  konvex), akkor\n",
    "\n",
    "$$\\| f(x) - f(y) \\| \\leq M \\|x -y\\|.$$\n",
    "\n",
    "Ha $f(K) \\subseteq K$ (hívjuk ezt ráképezésnek) és $M<1$, akkor $f|_K:K \\to K$ kontrakció. Mivel teljes tér zárt részhalmaza teljes, $K$ ezért teljes, tehát $f|_K$-ra is alkalmazható a Banach-féle fixponttétel. Érdemes lehet megjegyezni, hogy $K$ általában nem vektortér, azonban az eredeti tér normája által generált metrikával a halmaz teljes metrikus tér, tehát a Banach-féle fixponttétel valóban alkalmazható."
   ]
  },
  {
   "cell_type": "markdown",
   "metadata": {},
   "source": [
    "### 4. Feladat \n",
    "Oldjuk meg a $\\cos(x) = x$ egyenletet a valós számok halmazán. Keressünk alkalmas halmazon alkalmas kontrakciót, majd írjunk kódot amivel addig iteráljunk, míg két szomszédos lépés távolsága nem lesz -nél kisebb."
   ]
  },
  {
   "cell_type": "code",
   "execution_count": 21,
   "metadata": {},
   "outputs": [
    {
     "name": "stdout",
     "output_type": "stream",
     "text": [
      "Fixpont: 0.7390822985224023\n",
      "Iterációk száma: 30\n",
      "4.744172929949109e-06\n"
     ]
    }
   ],
   "source": [
    "def fixpont_it(x0, f, atol, max_it):\n",
    "    x = x0\n",
    "    for num_steps in range(1, max_it + 1):\n",
    "        dx = -(x - f(x))\n",
    "        x = x + dx\n",
    "        if np.abs(dx) < atol:\n",
    "            break\n",
    "    return x, num_steps\n",
    "\n",
    "x, num_steps = fixpont_it(0, np.cos, 1e-5, 100)\n",
    "\n",
    "print(\"Fixpont:\", x)\n",
    "print(\"Iterációk száma:\", num_steps)\n",
    "print(np.cos(x)-x)"
   ]
  },
  {
   "cell_type": "markdown",
   "metadata": {},
   "source": [
    "\n",
    "A lineáris esettel analóg módon az iterációt megadhatjuk az alábbi módon is általában.\n",
    "\n",
    "$$\n",
    "\\begin{align}\n",
    "f(x) &= b\\\\\n",
    "0 &= b - f(x) \\\\\n",
    "x &= x - f(x) + b \\\\\n",
    "\\end{align}\n",
    "$$\n",
    "\n",
    "Az iterációt ugyanolyan módon el tudjuk végezni mint a lineáris esetben, amíg $f(x)=x-(f(x)+b)$ kontrakció. Ha nem az, akkor valamely $c$ megválasztása mellett még lehet esélyünk arra, hogy az $f_c(x)=x-c(f(x)+b)$ függvény kontrakció legyen, a kérdés, hogy ezt hogy válasszuk meg. A választ erre kérdésre a gradiens módszer leírásánál kapjuk meg, láttuk a lineáris esetben, hogy a Richardson iteráció tulajdonképpen egy állandó lépésközű Gradiens-ereszkedésnek felelt meg. "
   ]
  },
  {
   "cell_type": "markdown",
   "metadata": {},
   "source": [
    "### Gradiens-módszer nemlineáris esetben\n",
    "\n",
    "A gradiens-módszert is tudjuk alkalmazni nemlineáris feladatokra. A következő tételt alkalmazhatjuk speciális $A$ leképezések esetén. A tételt általános esetben mondjuk ki, egy $A: H\\rightarrow H$ Hilbert-tér operátor esetén, az $A(u)=b$ egyenletre.\n",
    "\n",
    "**Tétel:** Legyen $H$ valós Hilbert-tér (gondolhatunk $H=\\mathbb{R}^n$-re is az Euklideszi skalárszorzattal ellátva) és $A:H\\rightarrow H$ legyen deriválható minden $u\\in H$ pontban, azaz létezik az $A'(u)\\in B(H)$ lineáris operátor. Legyen $A'(u)$ önadjungált minden $u\\in H$ esetén. Tegyük fel, hogy léteznek $0<m\\leq M$ állandók, hogy\n",
    "\n",
    "$$m\\|h\\|^2\\leq \\langle A'(u)h,h\\rangle \\leq M\\|h\\|^2 \\qquad \\forall u,h\\in H.$$\n",
    "\n",
    "Ekkor létezik a $\\phi: H\\rightarrow \\mathbb{R}$ funkcionál, amelyre teljesül, hogy $\\phi'=A$, továbbá a $\\phi$ funkcionál szigorúan konvex. $A(u^*)=b$ pontosan akkor áll fenn, ha ($\\phi(u^*)-\\langle b, u^*\\rangle$)'=0, vagyis ha $u^*$ minimumhelye a $\\phi(u)-\\langle b,u\\rangle$ leképezésnek. Ekkor tetszőleges $u_0$ esetén az\n",
    "\n",
    "$$u_{n+1}=u_n-\\tau(A(u_n)-b)$$\n",
    "\n",
    "sorozat konvergál az $u^*$-hoz, $\\tau=\\dfrac{2}{m+M}$ mellett.\n",
    "\n",
    "**Megjegyzés:** Feladattól függően nem állandó lépésköz is választható, ezt azonban most nem tárgyaljuk.\n",
    "\n",
    "Ez az tétel valamilyen értelemben analóg a lineáris esetben tanultakkal: a feltételek miatt létezik az egyenletben adott monoton $A$ függvény \"primitív függvénye\", ami konvex is, így az erre felírt minimalizási feladat az eredeti feladatunk egyértelmű megoldása lesz. \n",
    " \n",
    "\n",
    "\n"
   ]
  },
  {
   "cell_type": "markdown",
   "metadata": {},
   "source": [
    "### 5. Feladat\n",
    "Gondoljuk meg mit jelentenek a tétel feltételei $H=\\mathbb{R}^n$ esetén, illetve azt is hogy a képletben milyen dimenziójú objektumok szerepelnek."
   ]
  },
  {
   "cell_type": "markdown",
   "metadata": {},
   "source": [
    "### 6. Feladat\n",
    "\n",
    "Legyen  $H=\\mathbb{R}^n$, ekkor ellenőrizzük, hogy ha teljesülnek az előbbi tétel $A$-ra vonatkozó feltételei, akkor $F(u)=u-\\tau (A(u)-b)$ kontrakció. Mutassuk meg, hogy bármely $0<\\tau<\\dfrac{2}{M}$ választás jó."
   ]
  },
  {
   "cell_type": "markdown",
   "metadata": {},
   "source": [
    "### 7. Feladat\n",
    "Keressük meg az $f(x) = x^3 + 2 x^2 + 10 x - 20$ egyenlet gyökét, ha valahonnan sejtjük, hogy a $K=[1,2]$  intervallumban van. Alkalmazzunk fixpont-iterációt és addig iteráljunk, míg a szomszédos iteráltak távolsága $10^{-10}$ alá nem csökken."
   ]
  },
  {
   "cell_type": "markdown",
   "metadata": {},
   "source": [
    "### *8. Feladat \n",
    "Tekintsük az alábbi függvényt, ahol $c \\in \\mathbb{R}^+$:\n",
    "\n",
    "$$f(x) = \\frac{1}{x} - \\frac{x}{c}$$\n",
    "\n",
    "(a) Keressük a függvény $x^*>0$ zérushelyét fixpont iteráció segítségével! Írjuk fel alkalmas $F(x) $ függvényt, és bizonyítsuk be, hogy valóban konvergál minden $c>0$ esetén! Hová fog tartani?"
   ]
  },
  {
   "cell_type": "markdown",
   "metadata": {},
   "source": [
    "### P1. Feladat\n",
    "\n",
    "Implementáljuk a gradiens-módszert az optimális lépéshosszválasztással az SZPD-baloldalú lineáris egyenletrendszer iteratív megoldására."
   ]
  },
  {
   "cell_type": "code",
   "execution_count": 19,
   "metadata": {},
   "outputs": [
    {
     "name": "stdout",
     "output_type": "stream",
     "text": [
      "Solution: [ 5.24999937 -5.49999939  0.25000063]\n",
      "Number of iterations: 46\n",
      "Success: True\n",
      "[ 4.99999936 -6.00000003  6.00000064]\n"
     ]
    }
   ],
   "source": [
    "import numpy as np\n",
    "\n",
    "def gradient_descent(A, b, x0, tol=1e-6, max_iter=1000):\n",
    "    \"\"\"\n",
    "    Gradient Descent method for solving symmetric positive definite (SPD) linear systems.\n",
    "\n",
    "    Parameters:\n",
    "        A (numpy.ndarray): The symmetric positive definite matrix.\n",
    "        b (numpy.ndarray): The right-hand side vector.\n",
    "        x0 (numpy.ndarray): Initial guess for the solution.\n",
    "        tol (float): Tolerance for convergence.\n",
    "        max_iter (int): Maximum number of iterations.\n",
    "\n",
    "    Returns:\n",
    "        x (numpy.ndarray): Solution vector.\n",
    "        iter (int): Number of iterations performed.\n",
    "        is_success (bool): True if the method was successful, False otherwise.\n",
    "    \"\"\"\n",
    "    is_success = False\n",
    "    x = x0.copy()\n",
    "    for iter in range(max_iter):\n",
    "        r = A @ x - b  # Compute residual\n",
    "        if np.linalg.norm(r) < tol:\n",
    "            is_success = True\n",
    "            break  # Convergence achieved\n",
    "\n",
    "        # Compute step size\n",
    "        omega = r @ r / (r @ (A @ r))\n",
    "        d = -omega * r\n",
    "\n",
    "        x = x + d  # Update solution\n",
    "\n",
    "    return x, iter + 1, is_success\n",
    "\n",
    "# Example usage:\n",
    "A = np.array([[2, 1, 0],\n",
    "              [1, 2, -1],\n",
    "              [0, -1, 2]])\n",
    "b = np.array([5, -6, 6])\n",
    "x0 = np.zeros_like(b)\n",
    "\n",
    "solution, iterations, is_success = gradient_descent(A, b, x0)\n",
    "print(\"Solution:\", solution)\n",
    "print(\"Number of iterations:\", iterations)\n",
    "print(\"Success:\", is_success)\n",
    "print(A@solution)"
   ]
  },
  {
   "cell_type": "code",
   "execution_count": null,
   "metadata": {},
   "outputs": [],
   "source": []
  }
 ],
 "metadata": {
  "kernelspec": {
   "display_name": "Python 3",
   "language": "python",
   "name": "python3"
  },
  "language_info": {
   "codemirror_mode": {
    "name": "ipython",
    "version": 3
   },
   "file_extension": ".py",
   "mimetype": "text/x-python",
   "name": "python",
   "nbconvert_exporter": "python",
   "pygments_lexer": "ipython3",
   "version": "3.8.5"
  }
 },
 "nbformat": 4,
 "nbformat_minor": 5
}
