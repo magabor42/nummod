{
 "cells": [
  {
   "cell_type": "markdown",
   "id": "36b7a0d5",
   "metadata": {},
   "source": [
    "# 5. Feladatsor\n",
    "\n",
    "*(Nemlineáris egyenletek: intervallumfelezés, fixpont iteráció)*"
   ]
  },
  {
   "cell_type": "markdown",
   "id": "eb7e8d6b",
   "metadata": {},
   "source": [
    "**Cél:** Az $f(x)=0$ egyenlet megoldása, ahol  adott, szép tulajdonságú (pl. folytonosan deriválható) függvény, azaz keressük az $f$ függvény gyökeit/zérushelyeit. Ekvivalensen $g(x)=b$  megoldása az $f = g-b$ függvényre alkamazott gyökkereséssel.\n",
    "\n"
   ]
  },
  {
   "cell_type": "markdown",
   "id": "cdf91620",
   "metadata": {},
   "source": [
    "## Intervallumfelezés\n",
    "Tegyük fel, hogy tudjuk, hogy egy adott $[a,b]$ intervallumon a függvényünknek van egy gyöke; például ezt onnan tudhatjuk, hogy a végpontokban különböző előjelű a függvény, pontosabban: $f(a) \\cdot f(b) < 0$. Tegyük fel, hogy ez fennáll és hogy $f(a) < 0, f(b)>0$. Ez utóbbi nem megszorítás, mert $f$ és  $-f$ gyökei ugyanott vannak.\n",
    "\n",
    "**Alapgondolat**: Vizsgáljuk meg a függvény előjelét az $\\frac{a+b}{2}$ pontban! Ha itt pozitív, az azt jelenti, hogy a keresett zérushely az $\\left[a,\\; \\frac{a+b}{2}\\right)$ intervallumban van, azaz itt érdemes folytatni a keresést. Ugyanakkor ha itt negatív, akkor a zérushely az $\\left( \\frac{a+b}{2},\\; b\\right]$ intervallumban található, és itt kell tovább keresnünk. Ezt követően az előbbi gondolatot folytatjuk az új, kisebb intervallumokon, azaz vagy az $\\frac{a+b}{4}$, vagy a $\\frac{3 (a+b)}{4}$ pontban vizsgáljuk a előjelet, és így tovább. \n",
    "Az algoritmus addig fut, amíg  értéke a vizsgált pontban nulla nem lesz (ez programok esetén a gépi hibák miatt ritkán következik be), vagy amikor a vizsgált intervallum már nagyon kicsi/rövid, de természetesen megadhatunk maximális lépésszámot is, amely után álljon le mindenképpen a program. Határértékben ez a módszer mindenképpen megtalál egy zérushelyet (ha több is van, akkor a zérushelyek közül valamelyiket)."
   ]
  },
  {
   "cell_type": "markdown",
   "id": "50bf33a1",
   "metadata": {},
   "source": [
    "### P1. Feladat\n",
    "Fibonacci egyik cikkében szerepel az alábbi állítás: az\n",
    "\n",
    "$$f(x) = x^3 + 2 x^2 + 10 x - 20$$\n",
    "\n",
    "egyenlet gyöke $x = 1.368808107...$ Ellenőrizzük le az intervallumfelezéses módszerrel, hogy jól számolt-e!\n",
    "Megoldás: Legyen a toleranciánk $10^{-10}$ és indítsuk az iterációt az $[1,2]$ intervallumon!"
   ]
  },
  {
   "cell_type": "code",
   "execution_count": 3,
   "id": "0c4c8eae-4825-48bf-9063-786c16c9ddcf",
   "metadata": {},
   "outputs": [
    {
     "name": "stdout",
     "output_type": "stream",
     "text": [
      "1.368808107858058\n",
      "34\n"
     ]
    }
   ],
   "source": [
    "import numpy as np\n",
    "\n",
    "tol=10**(-10)\n",
    "\n",
    "a=1\n",
    "b=2\n",
    "k=0\n",
    "\n",
    "while np.abs(b-a) > tol:\n",
    "    x=(a+b)/2\n",
    "    f=x**3+2*x**2+10*x-20\n",
    "    if f==0:\n",
    "        break\n",
    "    else:\n",
    "        if f>0:\n",
    "            b=x\n",
    "        else:\n",
    "            a=x\n",
    "    k=k+1\n",
    "\n",
    "print(x)\n",
    "print(k)\n",
    "\n"
   ]
  },
  {
   "cell_type": "code",
   "execution_count": null,
   "id": "7165e139",
   "metadata": {},
   "outputs": [],
   "source": []
  },
  {
   "cell_type": "markdown",
   "id": "59d063e2",
   "metadata": {},
   "source": [
    "### Fixpont-iteráció (még egyszer)\n",
    "\n",
    "**Emlék:** A Banach-féle fixponttétel következtében ha $X$ Banach-tér és $f:X\\rightarrow X$ kontrakció $0\\leq q<1$ együtthatóval, akkor van $x^*$ fixpontja, amire $f(x^*) = x^*$; továbbá az $x_{n+1} = f(x_n)$ sorozat tetszőleges $X$-beli pontból indítva $x^*$-hoz fog tartani; továbbá $e_n = x_n - x^*$ választással látható, hogy\n",
    "\n",
    "$$\\|e_{n+1}\\| = \\| x_{n+1} - x^* \\| =  \\| f(x_{n}) - f(x^*) \\| \\leq q \\|x_n - x^*\\| = q \\| e_n\\|$$\n",
    "és\n",
    "$$\\|e_n\\| = \\|  (f\\circ \\ldots \\circ f)(x_0) - (f\\circ \\ldots \\circ f)(x^*) \\| \\leq q^n\\|x_0 - x^*\\| = q^n\\|e_0\\|$$\n",
    "\n",
    "**Emlék:** Legyen $X$ végesdimenziós valós vektortér, $U \\subseteq X$ nyílt halmaz, $f: U \\to X$ folytonosan differenciálható és legyen $x, h \\in U$ olyan, hogy az $x+h\\cdot[0,1] \\subseteq U$, azaz az $x$-ből induló $x+h$ végű szakasz része $U$-nak; ekkor\n",
    "\n",
    "$$f(x+h) - f(x) = \\int_{0}^1 f'(x+th) \\cdot h\\, dt.$$\n",
    "\n",
    "Ebből kapjuk a középérték-tétel magasabbdimenziós változatát:\n",
    "\n",
    "$$\\|f(x+h) - f(x)\\| \\leq \\left(\\sup_{0\\leq t \\leq 1}\\|f'(x+th)\\| \\right) \\|h\\|.$$\n",
    "\n",
    "Ha $K \\subseteq U\\subseteq X$ és $K$ kompakt, akkor\n",
    "\n",
    "$$M = \\sup_{K}\\|f'\\|$$\n",
    "\n",
    "választással $x, y \\in K$ esetén ha az $x$ és $y$ pontok által határolt szakasz $K$-ban van (pl. ha  konvex), akkor\n",
    "\n",
    "$$\\| f(x) - f(y) \\| \\leq M \\|x -y\\|.$$\n",
    "\n",
    "Ha $f(K) \\subseteq K$ (hívjuk ezt ráképezésnek) és $M<1$, akkor $f|_K:K \\to K$ kontrakció. Mivel teljes tér zárt részhalmaza teljes, $K$ ezért teljes, tehát $f|_K$-ra is alkalmazható a Banach-féle fixponttétel. Érdemes lehet megjegyezni, hogy $K$ általában nem vektortér, azonban az eredeti tér normája által generált metrikával a halmaz teljes metrikus tér, tehát a Banach-féle fixponttétel valóban alkalmazható."
   ]
  },
  {
   "cell_type": "code",
   "execution_count": null,
   "id": "8d6e6c43",
   "metadata": {},
   "outputs": [],
   "source": []
  },
  {
   "cell_type": "markdown",
   "id": "6454fa25",
   "metadata": {},
   "source": [
    "\n",
    "A lineáris esettel analóg módon bizonyos feltételek mellett fixpontiterációt készíthetünk az alábbi átalakítással:\n",
    "\n",
    "$$\n",
    "\\begin{align}\n",
    "f(x) &= b\\\\\n",
    "0 &= b - f(x) \\\\\n",
    "x &= x - f(x) + b \\\\\n",
    "\\end{align}\n",
    "$$\n",
    "\n",
    "Az iterációt ugyanolyan módon el tudjuk végezni mint a lineáris esetben, amíg $f(x)=x-(f(x)-b)$ kontrakció. Ha nem az, akkor valamely $c$ megválasztása mellett még lehet esélyünk arra, hogy az $f_c(x)=x-c(f(x)-b)$ függvény kontrakció legyen, a kérdés, hogy ezt hogy válasszuk meg. \n",
    "\n",
    "Egy lehetséges választ kaphatunk erre a kérdésre az alábbi gradiens-módszerre vonatkozó tételben, mely analóg lesz a lineáris esetnél látottakkal, melyek szerint a Richardson iteráció tulajdonképpen egy állandó lépésközű Gradiens-ereszkedésnek felelt meg."
   ]
  },
  {
   "cell_type": "markdown",
   "id": "ff052e4a",
   "metadata": {},
   "source": [
    "### Gradiens-módszer\n",
    "\n",
    "A gradiens-módszert is tudjuk alkalmazni nemlineáris feladatokra. A következő tételt alkalmazhatjuk speciális $A$ leképezések esetén. A tételt általános esetben mondjuk ki, egy $A: H\\rightarrow H$ Hilbert-tér operátor esetén, az $A(u)=b$ egyenletre.\n",
    "\n",
    "**Tétel:** Legyen $H$ valós Hilbert-tér (gondolhatunk $H=\\mathbb{R}^n$-re is az Euklideszi skalárszorzattal ellátva) és $A:H\\rightarrow H$ legyen deriválható minden $u\\in H$ pontban, azaz létezik az $A'(u)\\in B(H)$ lineáris operátor. Legyen $A'(u)$ önadjungált minden $u\\in H$ esetén. Tegyük fel, hogy léteznek $0<m\\leq M$ állandók, hogy\n",
    "\n",
    "$$m\\|h\\|^2\\leq \\langle A'(u)h,h\\rangle \\leq M\\|h\\|^2 \\qquad \\forall u,h\\in H.$$\n",
    "\n",
    "Ekkor létezik olyan $\\phi: H\\rightarrow \\mathbb{R}$ funkcionál, amelyre teljesül, hogy $\\phi'=A$, és a $\\phi$ funkcionál szigorúan konvex, továbbá, mint a lineáris esetben láthattuk:\n",
    "$A(u^*)=b$ pontosan akkor áll fenn, ha $(\\phi(u^*)-\\langle b, u^*\\rangle)'=0$, azaz ha $u^*$ minimumhelye az $u \\mapsto \\phi(u)-\\langle b,u\\rangle$ leképezésnek. Ekkor tetszőleges $u_0$ esetén az\n",
    "\n",
    "$$u_{n+1}=u_n-\\tau(A(u_n)-b)$$\n",
    "\n",
    "sorozat konvergál az $u^*$-hoz, $\\tau=\\dfrac{2}{m+M}$ mellett.\n",
    "\n",
    "Ez a tétel valamilyen értelemben analóg a lineáris esetben tanultakkal: a feltételek miatt létezik az egyenletben adott monoton $A$ függvény \"primitív függvénye\", ami konvex is, így az erre felírt minimalizási feladat az eredeti feladatunk egyértelmű megoldása lesz. \n",
    " \n",
    "\n",
    "**Megjegyzés:** Feladattól függően nem állandó lépésköz is választható, ezt azonban most nem tárgyaljuk.\n",
    "Ennél valójában megengedőbbet is elég ellenőriznünk gyakran.\n",
    "\n",
    "Legyen $f: V \\to V$ folytonosan differenciálható függvény, melynek gyöke van az $x^*$ pontban, továbbá tegyük fel, hogy léteznek $m, M$ pozitív konstansok, melyekkel tetszőleges $x$ pontra az $x^*$ egy gömbi környezetéből\n",
    "$$ m \\|h\\| \\leq \\| f'(x) h \\| \\leq M\\| h \\| \\quad \\forall h \\in V.$$\n",
    "\n",
    "\n",
    "\n",
    "\n",
    "\n"
   ]
  },
  {
   "cell_type": "markdown",
   "id": "5c472281",
   "metadata": {},
   "source": [
    "### 1. Feladat\n",
    "Gondoljuk meg mit jelentenek a tétel feltételei $H=\\mathbb{R}^n$ esetén, illetve azt is hogy a képletben milyen dimenziójú objektumok szerepelnek. Gondoljuk meg, hogy a tétel visszaadja a lineáris esetnél látottakat."
   ]
  },
  {
   "cell_type": "markdown",
   "id": "58937402-373d-4ea4-96fc-669afbd11782",
   "metadata": {},
   "source": [
    "### 2. Feladat\n",
    "\n",
    "Legyen a norma a $\\| \\cdot \\|_2$. Teljesülhet-e a fenti feltétel a $0$ körüli zárt egységgömbön, ha\n",
    "\n",
    "a)  $f(x,y) = [2x - y, -x + 2y]$;\n",
    "\n",
    "b) $f(x,y) = [2x^3 + x, y^3 +y]$;\n",
    "\n",
    "és ha igen, akkor milyen $M,m$ értékekkel?"
   ]
  },
  {
   "cell_type": "code",
   "execution_count": null,
   "id": "fc810f87",
   "metadata": {},
   "outputs": [],
   "source": []
  },
  {
   "cell_type": "markdown",
   "id": "4ef55504-17f7-41a4-b628-c967f46b4d5d",
   "metadata": {},
   "source": [
    "### 3. Feladat\n",
    "\n",
    "Vizsgáljuk meg, hogy az alábbi $x^*$-hoz tartó $(x_n)_n$ valós számsorozatok esetén melyekre teljesül,\n",
    "\n",
    "* egy lineáris becslés $ \\| x_{n+1} - x^* \\| \\leq L \\| x_n - x^* \\|, $ ahol $ 0 < L < 1$;\n",
    "\n",
    "* egy kvadratikus becslés, azaz $\\| x_{n+1} - x^* \\| \\leq q \\| x_n - x^* \\|^2$, ahol $ 0 < q$\n",
    "\n",
    "a) $2^{-n}$\n",
    "\n",
    "b) $2^{-n^2}$\n",
    "\n",
    "c) $2^{-2^{n}}$"
   ]
  },
  {
   "cell_type": "code",
   "execution_count": null,
   "id": "abb08e70-7664-415b-9693-ca3baf98ac2c",
   "metadata": {},
   "outputs": [],
   "source": []
  },
  {
   "cell_type": "markdown",
   "id": "cce48691-633e-4dd7-86dc-c922715fc72f",
   "metadata": {},
   "source": [
    "\n",
    "### 4. Feladat\n",
    "\n",
    "Legyen $A:\\mathbb{R}^2\\rightarrow \\mathbb{R}^2$\n",
    "$$A(x,y)=\\left[\\begin{matrix} \n",
    "x(3x^2+5+2y^2) \\\\\n",
    "y(2x^2+5+y^2) \n",
    "\\end{matrix}\\right]$$\n",
    "\n",
    "Gradiens-ereszkedés segítségével szeretnénk megoldani az\n",
    "\n",
    "$$A(x,y)=\\begin{pmatrix}2 \\\\ 2 \\end{pmatrix}$$\n",
    "\n",
    "feladatot. Írjuk fel a gradiens iteráció első lépését $(x_0,y_0)$ pontból kiindulva egy konstans $\\tau>0$ lépéshossz mellett. Ellenőrizzük, hogy teljesül-e a\n",
    "\n",
    "$$m\\|h\\|^2\\leq \\langle A'(x,y)h,h\\rangle \\leq M\\|h\\|^2 \\qquad \\forall h\\in \\mathbb{R}^2,\\forall \\;\\|(x,y)\\|_2\\leq 1$$\n",
    "\n",
    "feltétel valamely $0<m\\leq M$ mellett, és adjuk meg $m$ és $M$ értékeit. \n",
    "\n",
    "Gersgorin-tétel: Ha $A$ négyzetes mátrix, akkor minden $\\lambda$ sajátértékhez létezik $i$ index, hogy $\\lambda_i\\in[a_{ii}-\\sum_{i\\neq j}|a_{ij}|,a_{ii}+\\sum_{i\\neq j}|a_{ij}|]$.\n"
   ]
  },
  {
   "cell_type": "code",
   "execution_count": null,
   "id": "49686159-43dd-4186-aef5-851ee5437857",
   "metadata": {},
   "outputs": [],
   "source": []
  },
  {
   "cell_type": "code",
   "execution_count": 13,
   "id": "d5dd78ac-db5e-4aac-9291-0dfd5866fb45",
   "metadata": {},
   "outputs": [
    {
     "name": "stdout",
     "output_type": "stream",
     "text": [
      "0.12124191154040738 0.2711051558417675\n",
      "[4.5870821e-11 3.7790493e-11]\n",
      "43\n"
     ]
    }
   ],
   "source": [
    "import numpy as np\n",
    "\n",
    "def f(x,y):\n",
    "    return np.array([\n",
    "        5*x**2-y**2,\n",
    "        y-0.25*(np.sin(x)+np.cos(y))\n",
    "    ])\n",
    "\n",
    "b=np.array([0,0])\n",
    "\n",
    "def fixpont_it(x0, y0, f, b, omega, atol, max_it):\n",
    "    x=x0\n",
    "    y=y0\n",
    "    a=np.array([x,y])\n",
    "\n",
    "    for num_steps in range (1, max_it+1):\n",
    "\n",
    "        dxy=f(x,y)-b\n",
    "        a=a-omega*dxy\n",
    "        x=a[0]\n",
    "        y=a[1]\n",
    "        if np.linalg.norm(dxy) < atol:\n",
    "            break\n",
    "    return x,y,num_steps\n",
    "\n",
    "x,y,num=fixpont_it(0.5,0.5,f,b,0.5,10**(-10),1000)\n",
    "print(x,y)\n",
    "print(f(x,y))\n",
    "print(num)\n",
    "    \n",
    "    "
   ]
  },
  {
   "cell_type": "code",
   "execution_count": null,
   "id": "25790248-cefc-4667-9782-b0408173d214",
   "metadata": {},
   "outputs": [],
   "source": []
  }
 ],
 "metadata": {
  "kernelspec": {
   "display_name": "Python 3 (ipykernel)",
   "language": "python",
   "name": "python3"
  },
  "language_info": {
   "codemirror_mode": {
    "name": "ipython",
    "version": 3
   },
   "file_extension": ".py",
   "mimetype": "text/x-python",
   "name": "python",
   "nbconvert_exporter": "python",
   "pygments_lexer": "ipython3",
   "version": "3.13.2"
  }
 },
 "nbformat": 4,
 "nbformat_minor": 5
}
