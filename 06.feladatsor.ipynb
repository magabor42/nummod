{
 "cells": [
  {
   "cell_type": "markdown",
   "id": "1959972d",
   "metadata": {},
   "source": [
    "# 5. Feladatsor\n",
    "\n",
    "*(Nemlineáris egyenletek: visszatekintés a gradiens-ereszkedésre, Newton-iteráció)*"
   ]
  },
  {
   "cell_type": "markdown",
   "id": "a172a153",
   "metadata": {},
   "source": [
    "## I. Függvényminimalizálás lokális Taylor-közelítéssel"
   ]
  },
  {
   "cell_type": "markdown",
   "id": "91df961c",
   "metadata": {},
   "source": [
    "**Emlék:**\n",
    "\n",
    "Egy $f: V \\to \\mathbb{R}$ kétszer folytonosan differenciálható funkcionál adott rendű lokális közelítése egy $x$ pontban:\n",
    "* nulladrend: $f(x)$,\n",
    "* elsőrend: $f(x) + \\langle f'(x), y-x \\rangle $,\n",
    "* másodrend: $f(x) +  \\langle f'(x), y-x \\rangle +  \\frac12 \\langle f''(x)(y-x), y-x \\rangle $.\n",
    "\n",
    "Itt $f(x) \\in \\mathbb{R}$, $f'(x) \\in V^*$, $f''(x) \\in L(V, V^*) \\cong V^* \\otimes V^*$, továbbá $f''(x)$ szimmetrikus."
   ]
  },
  {
   "cell_type": "markdown",
   "id": "c2bcfa83",
   "metadata": {},
   "source": [
    "### 1. Feladat\n",
    "Tegyük fel, hogy értelmes a függvényt lokálisan elsőrendben közelíteni. Tegyük fel, hogy szeretnénk egy lépést tenni egy $x$ pontból kiindulva, úgy, hogy ezáltal a függvény értékét minél jobban csökkentsük. Mutassuk meg, hogy a modell szerint ehhez $-f'(x)$ irányba érdemes lépnünk, amennyiben ez nem nullvektor."
   ]
  },
  {
   "cell_type": "code",
   "execution_count": null,
   "id": "d05047a4",
   "metadata": {},
   "outputs": [],
   "source": []
  },
  {
   "cell_type": "markdown",
   "id": "38a43d68",
   "metadata": {},
   "source": [
    "### 2. Feladat\n",
    "Tegyük fel, hogy értelmes a függvényt lokálisan másodrendben közelíteni. Tegyük fel, hogy szeretnénk egy lépést tenni egy pontból kiindulva, úgy, hogy ezáltal a függvény értékét minél jobban csökkentsük. Mutassuk meg, hogy a modell szerint, amennyiben $f''(x)$ pozitív (szemi)definit, akkor ehhez egy $d$ irányba érdemes lépnünk, mely megoldása az\n",
    "$$\n",
    "f''(x)(d) = - f'(x)\n",
    "$$\n",
    "egyenletnek.\n"
   ]
  },
  {
   "cell_type": "code",
   "execution_count": null,
   "id": "2a39c6fe",
   "metadata": {},
   "outputs": [],
   "source": []
  },
  {
   "cell_type": "markdown",
   "id": "36070a4f",
   "metadata": {},
   "source": [
    "## II. A Newton-iteráció hagyományos motivációja"
   ]
  },
  {
   "cell_type": "markdown",
   "id": "e8725c54",
   "metadata": {},
   "source": [
    "Keressük azt az $r$ pontot, melyben egy $f: V \\to V$ folytonosan differenciálható függvénynek gyöke van.\n",
    "Tegyük fel, hogy egy $x$ pontból indulunk ki, és egy lépést szeretnénk tenni a gyökhely felé.\n",
    "\n",
    "Ekkor\n",
    "$$\n",
    " f(r) - f(x)  = M(x, r) \\cdot(r - x).\n",
    "$$"
   ]
  },
  {
   "cell_type": "markdown",
   "id": "915f341a",
   "metadata": {},
   "source": [
    "### 3.* Feladat\n",
    "\n",
    "Mutassuk meg, hogy a fenti kontextus mellett \n",
    "\n",
    "a) \n",
    "\n",
    "$$\n",
    "M(x, r) = \\int\\limits_0^1 f'\\left(tr + (1-t)x\\right) \\, dt;\n",
    "$$\n",
    "\n",
    "továbbá, \n",
    "\n",
    "b) amennyiben az $x$ pontból $x+d$ pontba lépünk, akkor az ideális $d = r - x$ vektorra\n",
    "\n",
    "$$\n",
    "M(x, r) d = - f(x).\n",
    "$$"
   ]
  },
  {
   "cell_type": "code",
   "execution_count": null,
   "id": "4c84185c",
   "metadata": {},
   "outputs": [],
   "source": []
  },
  {
   "cell_type": "markdown",
   "id": "ca70d0d9",
   "metadata": {},
   "source": [
    "### Newton-iteráció\n",
    "\n",
    "Amennyiben az $M(x, r)$ kifejezést az $f'(x)$ értékkel közelítjük, akkor megkapjuk a Newton-iterációt, melynek egy lépésének képlete $x \\gets x + d$, ahol\n",
    "$$\n",
    "    f'(x)d = -f(x).\n",
    "$$\n",
    "\n",
    "Minderre tehát úgy is gondolhatunk, hogy egy nemlineáris egyenletrendszer megoldását végessok lineáris egyenletrendszer egymásutáni megoldásával közelítjük meg."
   ]
  },
  {
   "cell_type": "markdown",
   "id": "1d18b676",
   "metadata": {},
   "source": [
    "### 4. Feladat\n",
    "\n",
    "Legyen $f: V \\to V$ egy affin függvény, azaz legyen $f(x) = Ax - b$. \n",
    "\n",
    "a) Mi lesz az $M(x, r)$ kifejezés?\n",
    "\n",
    "b) Tegyük fel, hogy $A$ invertálható is. Hány lépés alatt fog célbaérni a Newton-iteráció?"
   ]
  },
  {
   "cell_type": "code",
   "execution_count": null,
   "id": "b3829707",
   "metadata": {},
   "outputs": [],
   "source": []
  },
  {
   "cell_type": "markdown",
   "id": "18ffa0ee",
   "metadata": {},
   "source": [
    "## III. A Newton-iteráció mint fixpontiteráció\n",
    "\n",
    "Hogyan készíthetünk az $f(x) = 0$ egyenletből fixpontiterációt?\n",
    "\n",
    "A lineáris egyenletrendszereknél láthattuk, hogy az $Ax = b$ egyenlrendszert eltranszformáltuk például\n",
    "$$\n",
    "\\omega^{-1} Ax = \\omega^{-1} b,\\quad \\text{vagy} \\quad (I+D^{-1}(L+U))x = D^{-1} b\n",
    "$$\n",
    "módon. Ez iterációs lépésenként extra műveletek elvégzését jelenti, azonban az eredeti egyenlet megoldásához képest ezek gyorsan végrehajthatók.\n",
    "\n",
    "Ennek ellenére $\\omega$ és $D$ igyekeztek megragadni az eredeti mátrix \"lényegét\": SZPD esetben a spektrum középpontja lett az optimális $\\omega$; $D$ pedig a mátrix főátlójából képezett diagonális mátrix volt.\n",
    "\n",
    "Nemlineáris esetben, amennyiben a függvényünk szép (pl. folytonosan differenciálható), akkor a függvény \"lényegét\" egy pontban a függvény deriváltja ragadhatja meg, így motiválható a következő átalakítás:\n",
    "\n",
    "$$\n",
    "\\begin{align*}\n",
    "     f(x) &= 0, \\\\\n",
    "     -[f'(x)]^{-1} f(x) &= 0, \\\\\n",
    "     x - [f'(x)]^{-1} f(x) &= x.\n",
    "\\end{align*}\n",
    "$$"
   ]
  },
  {
   "cell_type": "markdown",
   "id": "a7445ade",
   "metadata": {},
   "source": [
    "Nemrég láttuk, hogy a Newton-iteráció konvergenciája érdemben különbözhet az eddig tanult módszerekétől. A következőkben kiderül, hogy ez nem csak affin függvények esetén van így."
   ]
  },
  {
   "cell_type": "markdown",
   "id": "429953cb",
   "metadata": {},
   "source": [
    "## IV. Lokális kvadratikus konvergencia\n",
    "\n",
    "Legyen $f: V \\to V$ folytonosan differenciálható függvény, melynek gyöke van az $x^*$ pontban, továbbá tegyük fel, hogy léteznek $m, M$ pozitív konstansok, melyekkel tetszőleges $x$ pontra az $x^*$ egy gömbi környezetéből\n",
    "$$ m \\|h\\| \\leq \\| f'(x) h \\| \\leq M\\| h \\| \\quad \\forall h \\in V.$$\n"
   ]
  },
  {
   "cell_type": "markdown",
   "id": "646e570c",
   "metadata": {},
   "source": [
    "### 5. Feladat\n",
    "Legyen a norma a $\\| \\cdot \\|_2$. Teljesülhet-e a fenti feltétel a $0$ körüli zárt egységgömbön, ha\n",
    "\n",
    "a)  $f(x,y) = [2x - y, -x + 2y]$;\n",
    "\n",
    "b) $f(x,y) = [2x^3 + x, y^3 +y]$;\n",
    "\n",
    "és ha igen, akkor milyen $M,m$ értékekkel?"
   ]
  },
  {
   "cell_type": "code",
   "execution_count": null,
   "id": "c3c2dbc8",
   "metadata": {},
   "outputs": [],
   "source": []
  },
  {
   "cell_type": "markdown",
   "id": "f4c1406c",
   "metadata": {},
   "source": [
    "A feltétel mellett tehát amennyiben $d$ a Newton-lépésbeli eltolásvektor, akkor\n",
    "\n",
    "$$\n",
    "\\begin{align*}\n",
    "f'(x) \\cdot (x+d - x^*) \n",
    "&= f'(x) \\cdot (x - x^*) - f(x) \\\\\n",
    "&= f'(x) \\cdot (x - x^*) - \\left( f(x) - f(x^*) \\right) \\\\\n",
    "&= f'(x) \\cdot (x - x^*) -  \\int\\limits_0^1 f'(tx + (1-t)x^*) \\cdot (x - x^*) \\, dt \\\\\n",
    "&= \\int\\limits_0^1 \\left( f'(x) - f'(tx + (1-t)x^*\\right) \\cdot (x - x^*) \\, dt\n",
    "\\end{align*}\n",
    "$$"
   ]
  },
  {
   "cell_type": "markdown",
   "id": "5cd63887",
   "metadata": {},
   "source": [
    "amiből mindkét oldalon normákat véve és kihasználva az $f'$-re vonatkozó feltételeket (a baloldalt alulról, a jobboldalt pedig felülről becsülve) kapjuk, hogy \n",
    "$$\n",
    "m \\|x+d - x^*\\| \\leq  \\left|\\int\\limits_0^1 1-t \\, dt \\right| M \\|x -x^*\\|^2,\n",
    "$$\n",
    "\n",
    "azaz egy Newton-lépés végeztével az $x^*$-tól való távolság felülről becsülhető a lépés előtti távolság négyzetének konstansszorosával.\n",
    "\n",
    "**Emlék:** Ha $x^*$ egy $f$ kontrakció fixpontja, akkor egy lépés során általában csak lineáris becslést kapunk:\n",
    "$$\n",
    "\\| f(x) - x^* \\| = \\| f(x) - f(x^*) \\| \\leq L \\| x - x^* \\|.\n",
    "$$"
   ]
  },
  {
   "cell_type": "code",
   "execution_count": null,
   "id": "7f9818e5",
   "metadata": {},
   "outputs": [],
   "source": []
  },
  {
   "cell_type": "markdown",
   "id": "3fe884d4",
   "metadata": {},
   "source": [
    "### 6. Feladat (már láttuk, előző feladatlapon)\n",
    "\n",
    "Vizsgáljuk meg, hogy az alábbi $x^*$-hoz tartó $(x_n)_n$ valós számsorozatok esetén melyekre teljesül,\n",
    "\n",
    "* egy lineáris becslés $ \\| x_{n+1} - x^* \\| \\leq L \\| x_n - x^* \\|, $ ahol $ 0 < L < 1$;\n",
    "\n",
    "* egy kvadratikus becslés, azaz $\\| x_{n+1} - x^* \\| \\leq q \\| x_n - x^* \\|^2$, ahol $ 0 < q$\n",
    "\n",
    "a) $2^{-n}$\n",
    "\n",
    "b) $2^{-n^2}$\n",
    "\n",
    "c) $2^{-2^{n}}$"
   ]
  },
  {
   "cell_type": "code",
   "execution_count": null,
   "id": "ec067ee4",
   "metadata": {},
   "outputs": [],
   "source": []
  },
  {
   "cell_type": "markdown",
   "id": "8c5be34f",
   "metadata": {},
   "source": [
    "### 7.* Feladat\n",
    "\n",
    "Gondoljuk meg, hogy amennyiben egy $\\phi: V \\to \\mathbb{R}$ funkcionál kétszer folytonosan differenciálható, és egy $x^*$ pont körüli gömbi környezetben valamilyen $0 < m \\leq M$ konstansokkal,\n",
    "\n",
    "$$ m h^Th \\leq h^T \\phi''(x) h \\leq M h^Th \\quad \\forall h \\in V,$$\n",
    "\n",
    "teljesül, valamint $\\phi'(x^*) = 0$, akkor a Newton-iterációt a $\\phi'$ függvényre alkalmazhatjuk, és a konvergencia lokálisan kvadratikus lesz.\n",
    "\n",
    "Ekkor egyébként a $\\phi$ függvény lokális minimumhelye $x^*$, akörül egyenletesen konvex, és valójában a Newton-iterációval ezt minimalizáljuk."
   ]
  },
  {
   "cell_type": "code",
   "execution_count": null,
   "id": "22bed779",
   "metadata": {},
   "outputs": [],
   "source": []
  },
  {
   "cell_type": "markdown",
   "id": "796e52b5",
   "metadata": {},
   "source": [
    "### 8. Feladat\n",
    "\n",
    "Teljesülnek ezek a feltételek az $f(x, y) = \\sin^2(x) + \\sin^2(y) $ függvényre a $0$ körül?"
   ]
  },
  {
   "cell_type": "code",
   "execution_count": null,
   "id": "3b09c3fb",
   "metadata": {},
   "outputs": [],
   "source": []
  },
  {
   "cell_type": "markdown",
   "id": "be22084c",
   "metadata": {},
   "source": [
    "----"
   ]
  },
  {
   "cell_type": "code",
   "execution_count": null,
   "id": "fb51acb6",
   "metadata": {},
   "outputs": [],
   "source": []
  },
  {
   "cell_type": "markdown",
   "id": "f334f05f",
   "metadata": {},
   "source": [
    "### P1. Feladat\n",
    "\n",
    "Tekinsük az alábbi egyenletrendszert:\n",
    "$$\n",
    "\\begin{cases}\n",
    "5 x^2 - y^2 &= 0,\\\\\n",
    "y - 0.25(\\sin x +\\cos y) &= 0.\n",
    "\\end{cases}\n",
    "$$\n",
    "\n",
    "Newton-iteráció segítségével keressük ennek a $(\\frac12, \\frac12)$ pont környezetében lévő megoldását!"
   ]
  },
  {
   "cell_type": "code",
   "execution_count": null,
   "id": "8a228ae9-9ba2-42fd-ac28-9b56be2a0fdb",
   "metadata": {},
   "outputs": [],
   "source": []
  },
  {
   "cell_type": "markdown",
   "id": "89c1f78d",
   "metadata": {},
   "source": [
    "### P2. Feladat\n",
    "\n",
    "Alkalmazzuk a Newton-iterációt az $f(x, y) = \\sin^2(x) + \\sin^2(y) $ függvény $0$-hoz legközelebb eső minimumhelyének meghatározására, ha tudjuk, hogy az a nulla körül konvex, az alábbiak szerint:\n",
    "\n",
    "a) Számoljuk ki $f$ deriváltját.\n",
    " \n",
    "b) Az $(\\frac14, \\frac14)$ pontból indítsunk Newton-iterációt az $f'$ (egy) gyökének meghatározására."
   ]
  },
  {
   "cell_type": "code",
   "execution_count": null,
   "id": "028fe8e9",
   "metadata": {},
   "outputs": [],
   "source": []
  },
  {
   "cell_type": "code",
   "execution_count": null,
   "id": "6c83638e",
   "metadata": {},
   "outputs": [],
   "source": []
  },
  {
   "cell_type": "code",
   "execution_count": null,
   "id": "b36e5e15",
   "metadata": {},
   "outputs": [],
   "source": []
  }
 ],
 "metadata": {
  "kernelspec": {
   "display_name": "Python 3 (ipykernel)",
   "language": "python",
   "name": "python3"
  },
  "language_info": {
   "codemirror_mode": {
    "name": "ipython",
    "version": 3
   },
   "file_extension": ".py",
   "mimetype": "text/x-python",
   "name": "python",
   "nbconvert_exporter": "python",
   "pygments_lexer": "ipython3",
   "version": "3.13.2"
  }
 },
 "nbformat": 4,
 "nbformat_minor": 5
}
