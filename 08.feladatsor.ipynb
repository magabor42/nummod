{
 "cells": [
  {
   "cell_type": "markdown",
   "metadata": {},
   "source": [
    "## 8. Numerikus deriválás"
   ]
  },
  {
   "cell_type": "markdown",
   "metadata": {},
   "source": []
  },
  {
   "cell_type": "markdown",
   "metadata": {},
   "source": [
    "### Interpolációból származtatható  deriváltformulák\n",
    "\n",
    "Amint láttuk, ha az $f$ függvényt nem tudjuk közvetlenül deriválni, akkor vegyük helyette egy $p$ interpolációs polinomját. Közelítsük a keresett derivált értékét a $p'$ függvényekbe való helyettesítéssel."
   ]
  },
  {
   "cell_type": "markdown",
   "metadata": {},
   "source": [
    "Vegyük egy $I=[a,b]$ intervallum egy egyenletes $[x_0,x_1,x_2,...x_n]$ felosztását, ahol $x_k=k\\cdot h$, $h=\\dfrac{b-a}{n+1}$, $f(x_k)=y_k$."
   ]
  },
  {
   "cell_type": "markdown",
   "metadata": {},
   "source": [
    "Hogyan közelítsük az $f'(x_k)$ értéket? Első fokú polinom közelítéssel pl.\n",
    "Az $[x_k,x_{k+1}]$ intervallumon, $p(x)=y_k+(x-x_k)\\dfrac{y_{k+1}-y_k}{x_{k+1}-x_k}$, ennek deriváltja $\\dfrac{y_{k+1}-y_k}{x_{k+1}-x_k}=\\dfrac{f(x_k+h)-f(x_k)}{h}\\approx f'(x_k)$.\n",
    "\n",
    "Ha az $[x_{k-1},x_k]$ intervallumon interpolálunk, akkor a $\\dfrac{f(x_k)-f(x_{k}-h)}{h}\\approx f'(x_k)$ közelítést kapjuk.\n",
    "\n",
    "Vehetünk magasabb fokú interpolációt is. Az előző órán láttuk, hogy a másodfokú interpolációból kiindulva az $x_{k-1},x_{k},x_{k+1}$ alappontokon az $\\dfrac{f(x_{k}+h)-f(x_{k}-h)}{2h}\\approx f'(x_k)$ közelítést kapjuk."
   ]
  },
  {
   "cell_type": "markdown",
   "metadata": {},
   "source": [
    "A kvadratúrák esetén a közelítés általában annál jobb volt, minél több alappontot (és jobb súlyokat) vettünk. Most is beszélhetünk numerikus módszerek rendjéről. Emlékezzünk vissza, hogy $n$-edfokú $L_n$ Lagrange-interpoláció esetén a hiba képlete az alábbi volt, $\\displaystyle{w_n=\\prod_{j=0}^n(x-x_j)}$ mellett:\n",
    "\n",
    "$$f(x)=L_n(x)+\\dfrac{1}{(n+1)!}f^{n+1}(\\xi)w_n(x).$$\n",
    "\n",
    "Ezt deriválva $x$ szerint:\n",
    "\n",
    "$$f'(x)=L_n'(x)+\\dfrac{1}{(n+1)!}f^{n+1}(\\xi)w_n'(x).$$\n",
    "\n",
    "Itt $\\displaystyle{w'_n(x)=\\sum_{i=0}^n \\prod_{j=0,j\\neq i}^n(x-x_j)=\\sum_{i=0}^n (x-x_0)\\cdot ... (x-x_{i-1})(x-x_{i+1})\\cdot...\\cdot(x-x_n)}.$\n",
    "\n",
    "Ha most $x=x_k$ az interpoláció egy alappontja akkor\n",
    "\n",
    "$$f'(x_k)=L_n'(x_k)+\\dfrac{1}{(n+1)!}f^{n+1}(\\xi)\\sum_{i=0}^n \\prod_{j=0,j\\neq i}^n(x_k-x_j)=L_n'(x_k)+\\dfrac{1}{(n+1)!}f^{n+1}(\\xi)\\prod_{j=0,j\\neq k}^n(x_k-x_j).$$\n",
    "\n",
    "Az $L_n'(x_k)$ lesz az interpolációból származó deriváltformulánk, a maradéktag pedig az ehhez tartozó hiba. A hibából láthatjuk, hogy ha $f$ legfeljebb $n$-edfokú polinom, akkor a hiba $0$, így ilyenkor pontos a derivált."
   ]
  },
  {
   "cell_type": "markdown",
   "metadata": {},
   "source": [
    "#### 1. Feladat\n",
    "Az előző módszer alapján adjunk közelítést az $f'(x-h)$ és $f'(x)$ értékekre 3 pontos interpolációval, ha $f$ értékeit az $\\{x-h,x,x+h\\}$ pontokban ismerjük! (Most használhatjuk az interpoláció Lagrange alakját)"
   ]
  },
  {
   "cell_type": "code",
   "execution_count": null,
   "metadata": {},
   "outputs": [],
   "source": []
  },
  {
   "cell_type": "markdown",
   "metadata": {},
   "source": [
    "Hasonlóan járhatunk el magasabb rendű deriváltak közelítésekor $(k<n)$.\n",
    "\n",
    "$$f^{(k)}(x)=L_n^{(k)}(x)+\\dfrac{1}{(n+1)!}f^{(n+1)}(\\xi)w_n^{(k)}(x).$$"
   ]
  },
  {
   "cell_type": "markdown",
   "metadata": {},
   "source": [
    "#### 2. Feladat\n",
    "Adjunk közelítést az $f''(x)$ értékére 3 pontos interpolációval, ha $f$ értékeit az $\\{x-h,x,x+h\\}$ pontokban ismerjük! "
   ]
  },
  {
   "cell_type": "code",
   "execution_count": null,
   "metadata": {},
   "outputs": [],
   "source": []
  },
  {
   "cell_type": "markdown",
   "metadata": {},
   "source": [
    "### Direkt megközelítés - Taylor kifejtés"
   ]
  },
  {
   "cell_type": "markdown",
   "metadata": {},
   "source": [
    "Ha egy függvény deriváltjának értékét szeretnénk közelíteni, nem feltétlenül kell interpolációból kiindulnunk. Induljunk ki egy egy megfelelően sima függvény Taylor-sorából, fejtsük ki $f(x+h)$-t $x$ körül.\n",
    "\n",
    "$$f(x+h)=\\sum_{k=0}^\\infty \\frac{1}{k!}f^{(k)}(x)(x+h-x)^k=\\sum_{k=0}^\\infty \\frac{1}{k!} f^{(k)}(x)h^k.$$\n",
    "\n",
    "Hibataggal felírva \n",
    "\n",
    "$$f(x+h)=\\sum_{k=0}^n  \\frac{1}{k!}f^{(k)}(x)h^k+\\frac{1}{(n+1)!}f^{(n+1)}(\\xi)h^{n+1}=T_{n,x}(x+h)+\\frac{1}{(n+1)!}f^{(n+1)}(\\xi)h^{n+1}.$$\n",
    "\n",
    "Azt mondjuk hogy a $T_{n,x}(x+h)$ közelítés egy kompakt $I$ intervallumon $n+1$-edrendű hiszen $\\displaystyle{|f(x+h)-T_{n,x}(x+h)|\\leq |\\max_{\\xi\\in I}f^{(n+1)}(\\xi)|\\cdot h^{n+1}}\\leq ch^{n+1},$ ahol $c$ nem függ $h$-tól.\n",
    "\n",
    "Egy numerikus közelítés esetében minél magasabb a rend általában annál jobb a közelítés, hiszen a gyakorlatban $h<<1$. Ha a hibában több különböző kitevőjű (pl. $c_1h^k+c_2 h^j$) tag szerepel, akkor ezek közül  $\\min\\{k,j\\}$ fog dominálni, ez lesz a rend.\n",
    "\n",
    "Most tegyük fel, hogy $f\\in C^3(I)$ egy kompakt $I$ intervallumon. Irjuk fel az alábbi Taylor közelítő polinomokat hibataggal:\n",
    "\n",
    "$$f(x+h)=f(x)+hf'(x)+ \\frac{h^2}{2}f''(x)+\\frac{1}{6}f'''(\\xi_1)h^3$$\n",
    "$$f(x-h)=f(x)-hf'(x)+ \\frac{h^2}{2}f''(x)-\\frac{1}{6}f'''(\\xi_2)h^3$$\n",
    "\n",
    "A két egyenletet kivonva egymásból\n",
    "\n",
    "$$f(x+h)-f(x-h)=2hf'(x)+\\frac{1}{6}(f'''(\\xi_1)+f'''(\\xi_2))h^3.$$\n",
    "\n",
    "Ezt $2h$-val leosztva\n",
    "\n",
    "$$\\frac{f(x+h)-f(x-h)}{2h}=f'(x)+\\frac{1}{12}(f'''(\\xi_1)+f'''(\\xi_2))h^2,$$\n",
    "vagyis megkaptuk az $f'(x)$ egy másodrendű közelítését (valójában ugyanazt mint az interpolációknál).\n",
    "Láthatjuk, ha megfelelő lineáris kombinációját vettük $f(x+h)$-nak és $f(x-h)$-nak, akkor a Taylor kifejtésben kiesnek bizonyos tagok ($f(x),f''(x)$), így a maradék pont a közelítendő érték + egy magasabb rendű hibatag."
   ]
  },
  {
   "cell_type": "markdown",
   "metadata": {},
   "source": [
    "#### 3. Feladat \n",
    "Tegyük fel, hogy $f\\in C^4(I)$ próbáljunk megadni másodrendű közelítést $f''(x)$-re, felhasználva $f(x+h)$ és $f(x-h)$ $x$ körül kifejtett értékeit és magát $f(x)$-et."
   ]
  },
  {
   "cell_type": "code",
   "execution_count": null,
   "metadata": {},
   "outputs": [],
   "source": []
  },
  {
   "cell_type": "markdown",
   "metadata": {},
   "source": [
    "#### 4. Feladat \n",
    "Megadható-e az $\\alpha$ és $\\beta$ paraméterek értéke úgy, hogy az\n",
    " $$f''(x)\\approx \\dfrac{\\alpha f(x+2h) -(\\alpha+\\beta)f(x)+ \\beta f(x-h)}{h^2}$$ közelítés másodrendű legyen?"
   ]
  },
  {
   "cell_type": "code",
   "execution_count": null,
   "metadata": {},
   "outputs": [],
   "source": []
  },
  {
   "cell_type": "markdown",
   "metadata": {},
   "source": [
    "### Magasabb rendű módszerek konstrukciója - Richardson-extrapoláció\n",
    "Magasabb rendű módszereket konstruálni az eddigi módszerekkel kissé körülyményes, ahogy azt láthattuk. A Richardson-extrapoláció erre ad egy általános és egyszerű konstrukciót.\n",
    "\n",
    "Vegyük ismét $f(x+h)$ és $f(x-h)$ Taylor-sorait.\n",
    "\n",
    "$$f(x+h)=\\sum_{k=0}^\\infty \\frac{1}{k!}f^{(k)}(x)h^k \\Rightarrow f'(x)= \\frac{f(x+h)}{h}-\\sum_{k=0, k\\neq1}^\\infty \\frac{1}{k!}f^{k}(x)h^{k-1}$$\n",
    "$$f(x-h)=\\sum_{k=0}^\\infty \\frac{1}{k!}(-1)^kf^{(k)}(x)h^k\\Rightarrow f'(x)= -\\frac{f(x-h)}{h}+\\sum_{k=0, k\\neq1}^\\infty \\frac{1}{k!}(-1)^kf^{(k)}(x)h^{k-1}$$\n",
    "\n",
    "Ezeket összeadva és 2-vel leosztva\n",
    "\n",
    "$$f'(x)=\\frac{f(x+h)-f(x-h)}{2h}-\\bigg[\\frac{h^2}{3!}f^{(3)}(x)+\\frac{h^4}{5!}f^{(5)}(x)+...\\bigg]$$\n",
    "\n",
    "Az $e_k=\\dfrac{f^{(k+1)}}{(k+1)!}$ és $D_0(h)=\\dfrac{f(x+h)-f(x-h)}{2h}$ jelöléseket bevezetve\n",
    "\n",
    "$f'(x)=D_0(h)+e_2h^2+e_4h^4+...$, vagyis a hiba $E=e_2h^2+e_4h^4+...$\n",
    "\n",
    "Ha most $h$ helyett $2h$ paramétert, azaz $D_0(2h)$-t vesszük, akkor az is igaz, hogy $f'(x)=D_0(2h)+e_2(2h)^2+e_4(2h)^4+...$\n",
    "Ez is egy másodrendű közelítés, csak kétszer akkora rácstávolság mellet. Az ötlet az, hogy a két különböző rácstávolságú módszer ollyan lineáris kombinációját vegyük, hogy a hiba legalacsonyabb rendű tagja kiessen.\n",
    "\n",
    "$4f'(x)=4D_0(h)+4e_2h^2+4e_4h^4+...$\n",
    "\n",
    "$f'(x)=D_0(2h)+e_2(2h)^2+e_4(2h)^4+...=D_0(2h)+4e_2h^2+16e_4h^4+...$\n",
    "\n",
    "Ekkor $f'(x)=\\dfrac{4D_0(h)-D_0(2h)}{3}-4e_4h^4...$\n",
    "\n",
    "Ez már egy negyedrendű módszer lesz, ez látható a hibából.\n",
    "\n",
    "A $D_0(h)=\\dfrac{f(x+h)-f(x-h)}{2h}$ és $D_0(2h)=\\dfrac{f(x+2h)-f(x-2h)}{4h}$ jelöléseket felhasználva a módszer az alábbi lesz:\n",
    "\n",
    "$$f'(x)\\approx \\frac{4(f(x+h)-f(x-h))}{6h}-\\frac{f(x+2h)-f(x-2h)}{12h}=\\frac{-f(x+2h)+8f(x+h)-8f(x-h)+f(x-2h)}{12h}$$\n"
   ]
  },
  {
   "cell_type": "markdown",
   "metadata": {},
   "source": [
    "#### 5. Feladat\n",
    "Richardson-extrapolációval készítsünk magasabb rendű módszert az $f'(x)\\approx \\dfrac{f(x+h)-f(x)}{h}$ közelítésből."
   ]
  },
  {
   "cell_type": "code",
   "execution_count": null,
   "metadata": {},
   "outputs": [],
   "source": []
  },
  {
   "cell_type": "markdown",
   "metadata": {},
   "source": [
    "#### Deriváltfüggvény közelítése rácson\n",
    "\n",
    "Tegyük fel, hogy most is egyenletes rácsokon dolgozunk. Tetszőleges függvényt az $x=[x_0,x_1,...x_n]^T$ $(x_{j+1}-x_j=h)$ rácspontokon kiértékelve az $f(x)=[f(x_0),f(x_1),...f(x_n)]^T$ vektorral reprezentálhatjuk. Vegyük észre, hogy pl. az $f'(x)\\approx \\dfrac{f(x+h)-f(x-h)}{2h}$ közelítést könnyen felírhatjuk a vektorok eltolásával:\n",
    "(most tegyük fel, hogy $f(x)=0$, ha $x<x_0$ vagy $x>x_n$)\n",
    "$$\\dfrac{f(x+h)-f(x-h)}{2h}=\\dfrac{f([x_1,x_2...x_{n},0])^T-f([0,x_0,x_1,...,x_{n-2},x_{n-1}])^T}{2h}.$$\n",
    "\n",
    "Ez azét jó nekünk mert egyszerűen implementáljhatjuk Pythonban, többféleképpen is. Egyszerűen eltolhatjuk a vektorokat, vagy felírhatjuk egy mátrix-vektor szorzatként is.\n",
    "\n",
    "Ha $D_0=\\begin{pmatrix}0 & 1 & 0 & 0 &\\dots & 0\\\\\n",
    "                     -1 & 0 & 1 & 0 & \\dots & 0\\\\\n",
    "                     0 & -1 & 0 & 1 & \\dots  & 0 \\\\\n",
    "                     \\vdots & \\vdots & \\ddots  & \\ddots & \\ddots & \\vdots \\\\\n",
    "                     0 & 0 & 0 & -1 & 0 &  1 \\\\\n",
    "                     0 & 0 & 0 & 0 & -1 & 0\n",
    "\\end{pmatrix},$\n",
    "\n",
    "akkor $\\frac{1}{2h}D_0\\cdot f(x)$ visszaadja a $\\dfrac{f([x_1,x_2...x_{n},0])^T-f([0,x_0,x_1,...,x_{n-2},x_{n-1}])^T}{2h}$ vektort. Hasonlóan felírható bármely differenciaséma ilyen alakban.\n"
   ]
  },
  {
   "cell_type": "markdown",
   "metadata": {},
   "source": [
    "#### 6. Feladat\n",
    "Írjuk fel a $f''(x)\\approx \\dfrac{f(x+h)-2f(x)+f(x-h)}{h^2}$ sémát is az előbbi mátrix szorzatos alakban."
   ]
  },
  {
   "cell_type": "code",
   "execution_count": null,
   "metadata": {},
   "outputs": [],
   "source": []
  },
  {
   "cell_type": "markdown",
   "metadata": {},
   "source": [
    "#### 7. Feladat\n",
    "\n",
    "Vizsgáljuk meg mi történik az $\\frac{1}{2h}D_0\\cdot f(x)$ felírásban akkor, ha $f$ most nem $0$ a $[x_0,x_n]$-en kívül, hanem periodikus függvény ezen az intervallumon. Hogyan kell megváltoztatnunk a $D_0$ mátrixot?"
   ]
  },
  {
   "cell_type": "code",
   "execution_count": null,
   "metadata": {},
   "outputs": [],
   "source": []
  },
  {
   "cell_type": "markdown",
   "metadata": {},
   "source": [
    "#### P0. Feladat\n",
    "Írjunk programot, ami előállítja a Newton-alakhoz tartozó együtthatókat (pl. egy táblázat formájában)."
   ]
  },
  {
   "cell_type": "code",
   "execution_count": 2,
   "metadata": {},
   "outputs": [],
   "source": [
    "import numpy as np\n",
    "import matplotlib.pyplot as plt\n",
    "\n",
    "xs = np.array([-1, 0, 1])\n",
    "ys = np.array([1, 0, 1])\n",
    "\n",
    "def delta(n: int, m: int):\n",
    "    assert n <= m\n",
    "    \n",
    "    if n == m:\n",
    "        return ys[n]\n",
    "    \n",
    "    return (delta(n, m-1) - delta(n+1, m))/(xs[n] - xs[m])\n",
    "\n",
    "def delta_table(xs: np.array, ys: np.array):\n",
    "    assert len(xs) == len(ys)\n",
    "    dX = xs.reshape((-1, 1)) - xs\n",
    "    deltas = np.diag(ys) + 0.0\n",
    "    \n",
    "    for j in range(1, len(ys)):\n",
    "        d = np.diag(deltas, j-1)\n",
    "        deltas += np.diag((d[:-1] - d[1:])/np.diag(dX, j), j)\n",
    "    \n",
    "    return deltas"
   ]
  },
  {
   "cell_type": "code",
   "execution_count": 3,
   "metadata": {},
   "outputs": [
    {
     "data": {
      "text/plain": [
       "array([[ 1., -1.,  1.],\n",
       "       [ 0.,  0.,  1.],\n",
       "       [ 0.,  0.,  1.]])"
      ]
     },
     "execution_count": 3,
     "metadata": {},
     "output_type": "execute_result"
    }
   ],
   "source": [
    "delta_table(xs, ys)"
   ]
  },
  {
   "cell_type": "markdown",
   "metadata": {},
   "source": [
    "#### P1. Feladat\n",
    "Írjunk programot amely adott (egyenletes) $[x_0,x_1,..x_n]$ alappontokra és $[y_0,y_1,..y_n]$ függvényértékekre kiszámítja az $n$-edfokú interpolációból származó deriváltformula értékeit minden alapponton. "
   ]
  },
  {
   "cell_type": "code",
   "execution_count": 4,
   "metadata": {},
   "outputs": [],
   "source": [
    "xs = np.linspace(-1,2,10)\n",
    "ys = np.exp(1/2*xs)\n",
    "\n",
    "# osztott differenciás táblázat\n",
    "\n",
    "def delta(n: int, m: int):\n",
    "    assert n <= m\n",
    "    \n",
    "    if n == m:\n",
    "        return ys[n]\n",
    "    \n",
    "    return (delta(n, m-1) - delta(n+1, m))/(xs[n] - xs[m])\n",
    "\n",
    "def delta_table(xs: np.array, ys: np.array):\n",
    "    assert len(xs) == len(ys)\n",
    "    dX = xs.reshape((-1, 1)) - xs\n",
    "    deltas = np.diag(ys) + 0.0\n",
    "    \n",
    "    for j in range(1, len(ys)):\n",
    "        d = np.diag(deltas, j-1)\n",
    "        deltas += np.diag((d[:-1] - d[1:])/np.diag(dX, j), j)\n",
    "    \n",
    "    return deltas\n",
    "\n",
    "#Newton interpoláció deriváltja - az alappontokon ez lesz a derivált közelítése is\n",
    "\n",
    "def poly_(xs,deltas):\n",
    "    coeff=deltas[0,:]\n",
    "    def g(z,k):\n",
    "        v=0\n",
    "        for j in np.arange(0,k):\n",
    "            v+=np.prod(z - xs[0:k])/(z - xs[j]+1e-60)\n",
    "        return v\n",
    "    \n",
    "    def h(z):\n",
    "        v=0\n",
    "        for j in np.arange(0,len(xs)):\n",
    "            v+=g(z,j)*coeff[j]\n",
    "        return v\n",
    "    return h\n",
    "            \n",
    "   \n",
    "        \n"
   ]
  },
  {
   "cell_type": "code",
   "execution_count": 15,
   "metadata": {},
   "outputs": [
    {
     "data": {
      "image/png": "[encoded data removed]",
      "text/plain": [
       "<Figure size 432x288 with 1 Axes>"
      ]
     },
     "metadata": {
      "needs_background": "light"
     },
     "output_type": "display_data"
    }
   ],
   "source": [
    "# interpolációs polinomok deriváltjának ábrázolása\n",
    "\n",
    "h=3/200\n",
    "xx=np.linspace(-1+h,2,200)\n",
    "\n",
    "def deriv(xs,ys):\n",
    "    deltas=delta_table(xs,ys)\n",
    "    polyD=poly_(xs,deltas)\n",
    "    polyD_vec=np.vectorize(polyD)\n",
    "    dy=polyD_vec(xx) \n",
    "    return dy\n",
    "\n",
    "plt.title('derivált közelítése')\n",
    "for N in [2,3,4,8]:\n",
    "    \n",
    "    plt.plot(xx, deriv(np.linspace(-1,2,N),np.exp(1/2*np.linspace(-1,2,N))), label=f'N={N} pontos interpoláció')\n",
    "plt.plot(xx, 1/2*np.exp(1/2*xx),label=f'1/2*e^(x/2)' )\n",
    "\n",
    "plt.legend()\n",
    "plt.show()"
   ]
  },
  {
   "cell_type": "markdown",
   "metadata": {},
   "source": [
    "#### P2. Feladat\n",
    "Írjunk programot, amelyben $\\sin(x)$ függvényt deriváljuk numerikusan. A $[0,2\\pi]$ intervallumon egyenletes felosztás mellett alkalmazzuk a $f'(x_k)\\approx\\dfrac{f(x_k+h)-f(x_k-h)}{2h}$ közelítést minden rácsponton, ábrázoljuk is az eredményt. Nézzük meg mi történik, ha egymás után többször is végrehajtjuk ezt a műveletet."
   ]
  },
  {
   "cell_type": "code",
   "execution_count": 7,
   "metadata": {},
   "outputs": [
    {
     "data": {
      "image/png": "[encoded data removed]",
      "text/plain": [
       "<Figure size 432x288 with 1 Axes>"
      ]
     },
     "metadata": {
      "needs_background": "light"
     },
     "output_type": "display_data"
    }
   ],
   "source": [
    "import matplotlib.pyplot as plt\n",
    "n=100\n",
    "h=2*np.pi/n\n",
    "xs=np.linspace(0,2*np.pi-h,n)\n",
    "ys = np.sin(xs)\n",
    "\n",
    "def mtx_A(n: int) -> np.ndarray:\n",
    "    A=(np.diag(-np.ones(n-1), -1)  + np.diag(np.ones(n-1), 1))\n",
    "    A[0,-1]=-1\n",
    "    A[-1,0]=1\n",
    "    A/=(2*2*np.pi/(n))\n",
    "    return A \n",
    "\n",
    "\n",
    "\n",
    "A=mtx_A(n)\n",
    "\n",
    "plt.title('sin(x) deriváltjai')\n",
    "for N in [1,2,3,4]:\n",
    "    An=np.linalg.matrix_power(A,N)\n",
    "    plt.plot(xs, An@ys, label=f'A^{N}*x')\n",
    "\n",
    "plt.legend()\n",
    "plt.show()"
   ]
  },
  {
   "cell_type": "code",
   "execution_count": null,
   "metadata": {},
   "outputs": [],
   "source": []
  },
  {
   "cell_type": "markdown",
   "metadata": {},
   "source": [
    "#### P3. Feladat\n",
    "\n"
   ]
  },
  {
   "cell_type": "markdown",
   "metadata": {},
   "source": [
    "Tekinsük az alábbi egyenletet:\n",
    "$$\n",
    "x^5-10e^{-x} = 0\n",
    "$$\n",
    "\n",
    "Newton-iteráció segítségével keressük ennek az $[1,2]$ intervallumban lévő megoldását, úgy, hogy módosítjuk a Newton módszert a következőképpen: Az $x_{n+1}=x_n-\\dfrac{f(x_n)}{f'(x_n)}$ iterációban $f'(x_n)$ helyett vegyük az $f'(x_n)\\approx\\dfrac{f(x_n)-f(x_{n-1})}{x_n-x_{n-1}}$ közelítést! Most 2 kezdőpontra is szükségünk lesz, ezek legyenek $1$ és $1,1$."
   ]
  },
  {
   "cell_type": "code",
   "execution_count": 23,
   "metadata": {},
   "outputs": [
    {
     "name": "stdout",
     "output_type": "stream",
     "text": [
      "9.605935747336277\n",
      "13.168861254444977\n",
      "15.251731118112845\n",
      "14.497698936087497\n",
      "14.61855292311157\n",
      "14.624515760798415\n",
      "Megoldás találva: 1.2374244146263222\n",
      "numerikus megoldás behelyettesítve: -1.6944790015571698e-08\n",
      "iterációk száma: 5\n"
     ]
    }
   ],
   "source": [
    "import numpy as np\n",
    "\n",
    "# Függvények definiálása\n",
    "def f(x):\n",
    "    return x**5-10*np.exp(-x)\n",
    "\n",
    "# df(x,y):\n",
    "    \n",
    "# Newton-iteráció\n",
    "def newton_iteration(x0,x1,max_iter=100, tol=1e-6):\n",
    "    for i in range(max_iter):\n",
    "        # Függvényértékek és deriváltak kiszámítása a jelenlegi pontban\n",
    "        f_val0 = f(x0)\n",
    "        f_val1 = f(x1)\n",
    "        \n",
    "        it_num=i\n",
    "        \n",
    "        \n",
    "        df_val = (f_val1-f_val0)/(x1-x0)\n",
    "        print(df_val)\n",
    "        # Hiba kiszámítása\n",
    "        error = np.abs(f_val1)\n",
    "        \n",
    "        # Ha elég közel vagyunk a megoldáshoz, kilépünk\n",
    "        if error < tol:\n",
    "            print(\"Megoldás találva:\", x1)\n",
    "            break\n",
    "        \n",
    "        # Newton lépés\n",
    "        dx=-f_val1/df_val\n",
    "        x0 = np.copy(x1)\n",
    "        x1 += dx\n",
    "        #print(x0)\n",
    "        #print(x1)\n",
    "        \n",
    "    \n",
    "    else:\n",
    "        print(\"Nem sikerült megoldást találni\")\n",
    "        \n",
    "    return x1, it_num\n",
    "\n",
    "# Kezdeti pont beállítása\n",
    "x0, x1 = 1, 1.1\n",
    "\n",
    "# Newton-iteráció hívása\n",
    "a,it = newton_iteration(x0, x1)\n",
    "\n",
    "print(\"numerikus megoldás behelyettesítve:\",f(a))\n",
    "print(\"iterációk száma:\", it)"
   ]
  },
  {
   "cell_type": "code",
   "execution_count": null,
   "metadata": {},
   "outputs": [],
   "source": []
  }
 ],
 "metadata": {
  "kernelspec": {
   "display_name": "Python 3",
   "language": "python",
   "name": "python3"
  },
  "language_info": {
   "codemirror_mode": {
    "name": "ipython",
    "version": 3
   },
   "file_extension": ".py",
   "mimetype": "text/x-python",
   "name": "python",
   "nbconvert_exporter": "python",
   "pygments_lexer": "ipython3",
   "version": "3.8.5"
  }
 },
 "nbformat": 4,
 "nbformat_minor": 5
}
