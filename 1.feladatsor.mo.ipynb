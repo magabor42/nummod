{
 "cells": [
  {
   "cell_type": "markdown",
   "id": "c6aa9b59-95ff-4b34-9302-afc5a24f4508",
   "metadata": {},
   "source": [
    "# 1. Feladatsor\n",
    "*(Normált tér, indukált mátrixnorma, kondíciószám, fixponttétel)*"
   ]
  },
  {
   "cell_type": "markdown",
   "id": "908be6e5-c11f-436c-bcc2-065caae68077",
   "metadata": {},
   "source": [
    "**Vektortér**\n",
    "\n",
    "   $V$ (k test feletti, végesdimenziós)\n",
    "  \n",
    "**Lineáris leképezések vektortere**\n",
    "\n",
    "   $L(V, W) \\cong V^* \\otimes W$\n",
    " \n",
    "**Duális tér**\n",
    "\n",
    "   $L(V, k) = V^*$\n",
    "\n",
    "**Bilineáris formák vektortere**\n",
    "\n",
    "  $\\operatorname{BL}(V \\times V, k) \\cong L(V \\otimes V, k) = (V \\otimes V)^* \\cong V^* \\otimes V^*$\n",
    "\n",
    "**Funkcionálok és deriváltjaik**\n",
    "\n",
    "Ha $f:V \\to k$ kétszer differenciálható, akkor\n",
    "\n",
    "- $f: V \\to k$\n",
    "\n",
    "- $f': V \\to L(V, k) = V^* $\n",
    "\n",
    "- $ f'': V \\to L(V, L(V, k)) \\cong V^* \\otimes V^* $"
   ]
  },
  {
   "cell_type": "markdown",
   "id": "ab36f5d8-7934-4ae5-8770-3e45e9620499",
   "metadata": {},
   "source": [
    "**Metrika**\n",
    "\n",
    "A metrika egy $d: S \\times S \\to \\mathbb{R}$ leképezés, ami szimmetrikus, amire teljesül a háromszög-egyenlőtlenség, és ami pontosan akkor vesz fel nulla értéket, ha a két bemeneti paramétere egybeesik. Ezekből következik, hogy nemnegatív.\n",
    "\n",
    "**Norma**\n",
    "\n",
    "A félnorma egy szubadditív, (abszolút-)homogén, valós értékű funkcionál. Ezekből következik, hogy a nullát nullába képezi és nemnegatív. A norma egy olyan félnorma, ami csak a nullában vesz fel nullát.\n",
    "\n",
    "**(valós) Skalárszorzat**\n",
    "\n",
    "A valós félskalárszorzat egy szimmetrikus, pozitív-szemidefinit bilineáris forma. A skalárszorzat egy olyan (valós) félskalárszorzat, amihez tartozó kvadratikus alak csak a nullában vesz fel nullát."
   ]
  },
  {
   "cell_type": "markdown",
   "id": "341e2f0e-8b76-49ad-9bc2-0b01565753c2",
   "metadata": {},
   "source": [
    "**Topológia (mese 1/1)**\n",
    "\n",
    "Metrikus tér, normált tér, euklideszi tér. (valós) Skalárszorzat által indukált norma által indukált metrika által indukált topológia. Végesdimenzióban bármely két norma ekvivalens, tehát, például az, hogy egy sorozat konvergens-e nem függ a norma választásától.\n",
    "\n",
    "**Teljesség**\n",
    "\n",
    "Egy metrikus tér teljes, ha benne minden Cauchy-sorozat konvergens.\n",
    "\n",
    "**Topológia (mese 2/2)**\n",
    "\n",
    "Teljes metrikus tér, Banach-tér, Hilbert-tér."
   ]
  },
  {
   "cell_type": "markdown",
   "id": "8e634d6e-f4df-49ff-aa5d-c86c16131d5d",
   "metadata": {},
   "source": [
    "**Operátornorma, indukált mátrixnorma**\n",
    "\n",
    "Ha $(V, \\| \\, \\|')$ és $(W, \\|\\, \\|'')$ normált terek, továbbá $A \\in L(V, W)$ esetén\n",
    "$$\n",
    "    \\|A\\| := \\sup_{x\\neq 0}\\frac{\\|Ax\\|''}{\\|x\\|'},\n",
    "$$\n",
    "akkor $(L(V, W), \\|\\, \\|)$ is normált tér. Ez utóbbi normát hívják operátornormának (a megfelelő mátrix esetén indukált mátrixnormának). Láthatóan függ a két normált téren található normától."
   ]
  },
  {
   "cell_type": "markdown",
   "id": "41557968-66e5-42b8-acf2-46a2dae71787",
   "metadata": {},
   "source": [
    "### 1. Feladat\n",
    "\n",
    "Gondoljuk meg, hogy\n",
    "$$\n",
    "    \\sup_{x\\neq 0}\\frac{\\|Ax\\|''}{\\|x\\|'} = \n",
    "    \\sup_{\\|x\\|' = 1} \\|Ax\\|'' =  \\sup\\limits_{\\|x\\|'\\leq 1} \\|Ax\\|''.\n",
    "$$"
   ]
  },
  {
   "cell_type": "code",
   "execution_count": 1,
   "id": "7d19d651-f1a4-4462-a47f-e65f02182409",
   "metadata": {},
   "outputs": [],
   "source": [
    "# definícióból"
   ]
  },
  {
   "cell_type": "markdown",
   "id": "8b589d30-c872-4910-b92b-f6d88ddacc8a",
   "metadata": {},
   "source": [
    "### 2. Feladat\n",
    "Legyen $(V, \\|\\,\\|')$ normált tér. Jelöljük $\\|\\,\\|$-vel az $L(V, V)$ téren indukált operátornormát. Mutassuk meg, hogy ez utóbbi szubmultiplikatív, azaz $A, B \\in L(V,V)$ esetén\n",
    "$$\n",
    "\\| AB \\| \\leq \\| A \\| \\| B \\|.\n",
    "$$"
   ]
  },
  {
   "cell_type": "code",
   "execution_count": 2,
   "id": "81abb0a2-4acf-4ba2-8a38-f99797b46ef1",
   "metadata": {},
   "outputs": [],
   "source": [
    "# definícióból"
   ]
  },
  {
   "cell_type": "markdown",
   "id": "da54447b-9aa7-4102-a749-e5ecb9f21dc0",
   "metadata": {},
   "source": [
    "### 3. Feladat\n",
    "\n",
    "Legyen $(V, \\| \\, \\|)$ normált tér. Az eddigiek felhasználásával definiáljunk egy $\\| \\, \\|_*$ leképezést, amivel $(V^*, \\| \\, \\|_*)$ is normált tér."
   ]
  },
  {
   "cell_type": "code",
   "execution_count": 3,
   "id": "732811d0-14ab-4f3d-a640-cc7982f39019",
   "metadata": {},
   "outputs": [],
   "source": [
    "# V* elemei sorvektorok, azaz egysoros mátrixok. Vegyük az indukált mátrixnormát."
   ]
  },
  {
   "cell_type": "markdown",
   "id": "cf5df2b4-25fd-484e-afc2-2cab24da1997",
   "metadata": {},
   "source": [
    "**Duális norma**\n",
    "\n",
    "A $\\| \\, \\|_*$ leképezést szokás a $\\| \\, \\|$ duális normájának hívni."
   ]
  },
  {
   "cell_type": "markdown",
   "id": "3645a8f7-bb2c-4e1b-bfcd-711156c92e57",
   "metadata": {},
   "source": [
    "### 4. Feladat\n",
    "\n",
    "Mutassuk meg, hogy a $\\| \\, \\|_2$ duális normája önmaga."
   ]
  },
  {
   "cell_type": "code",
   "execution_count": 4,
   "id": "3ca25238-eae5-4df3-8eaf-af6ca1833f68",
   "metadata": {},
   "outputs": [],
   "source": [
    "# CBS-egyenlőtlenség adja a felsőbecslést, a maximum fel is vétetik \n",
    "# ha a vektort párhuzamosnak választjuk"
   ]
  },
  {
   "cell_type": "markdown",
   "id": "71d271b8-3efa-4264-85a9-aa2fac694c60",
   "metadata": {},
   "source": [
    "### 5. Feladat\n",
    "\n",
    "Mutassuk meg, hogy $\\| \\, \\|_1$ és $\\| \\, \\|_\\infty$ egymás duális normái."
   ]
  },
  {
   "cell_type": "code",
   "execution_count": 5,
   "id": "bc709b83-9119-4285-bdd2-3a840c0950bc",
   "metadata": {},
   "outputs": [],
   "source": [
    "# Azt a vektort kell megkonstruálni, amin felvétetik a maximum:\n",
    "#\n",
    "# egyik esetben (+1, -1)-ből álló vektort kell készíteni, hogy az azzal vett skalárszorzat pont\n",
    "# az elemek abszolútértékének összegét adja ki\n",
    "#\n",
    "# másik esetben (0, -1, +1)-ből álló vektort kell készíteni, hogy az azzal vett skalárszorzat pont \n",
    "# a legnagyobb abszolútértékű elem abszolútértékét adja ki"
   ]
  },
  {
   "cell_type": "markdown",
   "id": "fb3c9dd3-8868-418f-8dc6-e6b933bb68c2",
   "metadata": {},
   "source": [
    "---"
   ]
  },
  {
   "cell_type": "markdown",
   "id": "07f41b80-bdd8-45f9-b63e-623761131391",
   "metadata": {},
   "source": [
    "**Rayleigh-hányados**\n",
    "\n",
    "Legyen az $A$ mátrix önadjungált $(A^* = A)$. Ekkor a sajátértékei valósak (miért?). Egy $x \\neq 0$ vektor esetén a\n",
    "\n",
    "$$\n",
    "R_A(x) = \\frac{x^*Ax}{x^*x}\n",
    "$$\n",
    "\n",
    "kifejezést Rayleigh-hányadosnak nevezzük."
   ]
  },
  {
   "cell_type": "markdown",
   "id": "a82839b1-aa8a-448c-989c-33ce0fe1df45",
   "metadata": {},
   "source": [
    "### 6. Feladat\n",
    "Mutassuk meg, hogy ha $A$ önadjungált, akkor tetszőleges $x \\neq 0$ vektorra \n",
    "\n",
    "$$\n",
    "\\lambda_{\\min}(A) \\leq R_A(x) \\leq \\lambda_{\\max}(A).\n",
    "$$"
   ]
  },
  {
   "cell_type": "code",
   "execution_count": 6,
   "id": "13456660-a217-4303-80a3-eb457b855e18",
   "metadata": {},
   "outputs": [],
   "source": [
    "# diagonalizálunk, majd józan paraszti ésszel maximalizálunk "
   ]
  },
  {
   "cell_type": "markdown",
   "id": "759819db-0ed8-481a-a564-fe50b9c44566",
   "metadata": {},
   "source": [
    "### 7. Feladat\n",
    "\n",
    "Mutassuk meg, hogy a kettes vektornorma által indukált mátrixnormára teljesül, hogy\n",
    "$$\n",
    "\\| A \\|_{2,2} = \\sqrt{\\lambda_{\\max}(A^*A)}.\n",
    "$$"
   ]
  },
  {
   "cell_type": "code",
   "execution_count": 7,
   "id": "30ca895a-53e4-47d3-abe3-105fe089406a",
   "metadata": {},
   "outputs": [],
   "source": [
    "# A kettes indukált norma négyzetének definíciójában R_{A*A}(x) szerepel, melynek\n",
    "# maximuma az előző feladat alapján pont a kért kifejezés négyzete"
   ]
  },
  {
   "cell_type": "markdown",
   "id": "251525d2-99a8-4061-9abf-6d294587eadb",
   "metadata": {},
   "source": [
    "### 8. Feladat\n",
    "\n",
    "Mutassuk meg, hogy a kettes vektornorma által indukált mátrixnorma invariáns unitér mátrixszal való szorzásra, azaz: ha $U, V$ unitér mátrixok $(U^*U = I = UU^*)$, akkor\n",
    "$$\\| VAU \\|_{2,2} = \\| A \\|_{2,2}.$$"
   ]
  },
  {
   "cell_type": "code",
   "execution_count": 8,
   "id": "697db086-333f-43a3-90d0-09fa9634dda9",
   "metadata": {},
   "outputs": [],
   "source": [
    "# Unitér mátrix tartja a standard skalárszorzatot, szóval a 2-es normát is,\n",
    "# tehát egyrészt elég \\|AU|\\_{2,2}-t nézni,\n",
    "# másrészt az U pedig eltüntethető a szuprémum argumentumában"
   ]
  },
  {
   "cell_type": "markdown",
   "id": "290ced7f-0df4-41d5-81d3-ed29306bf749",
   "metadata": {},
   "source": [
    "### 9. Feladat\n",
    "\n",
    "Tegyük fel, hogy $A = U\\Sigma V^*$ alakba írható, ahol $U, V$ unitér mátrixok, $\\Sigma$ pedig diagonális mátrix, $\\sigma_1 \\geq \\sigma_2 \\geq \\ldots \\geq \\sigma_n \\geq 0$ főátlóbeli elemekkel.\n",
    "\n",
    "Mutassuk meg, hogy ekkor\n",
    "$$\n",
    "\\| A \\|_{2,2} = \\sigma_1,\n",
    "$$\n",
    "\n",
    "továbbá, amennyiben $\\sigma_n > 0$, akkor $A$ invertálható és \n",
    "$$\n",
    "\\| A^{-1} \\|_{2,2} = \\sigma_n^{-1}.\n",
    "$$"
   ]
  },
  {
   "cell_type": "code",
   "execution_count": 9,
   "id": "619d2bf9-68f2-4dfb-a65e-e38dbf4331ee",
   "metadata": {},
   "outputs": [],
   "source": [
    "# előző feladat, illetve a 2-es indukált norma definíciója"
   ]
  },
  {
   "cell_type": "markdown",
   "id": "03ddb0f4-0cfc-4bbe-acbe-01e56f6c676c",
   "metadata": {},
   "source": [
    "### 10. Feladat\n",
    "Tegyük fel, hogy $A$ önadjungált.\n",
    "\n",
    "a)  Adjunk egy egyszerű formulát az $\\| A \\|_{2,2}$ kifejezésre."
   ]
  },
  {
   "cell_type": "code",
   "execution_count": 10,
   "id": "0212612f-c07a-46f5-87a9-8e7c58cfbb39",
   "metadata": {},
   "outputs": [],
   "source": [
    "# A legnagyobb abszolútértékű sajátértékének abszolútértéke"
   ]
  },
  {
   "cell_type": "markdown",
   "id": "46608815-44da-4e32-9afb-de92430356a6",
   "metadata": {},
   "source": [
    "b) Tegyük fel, hogy $A$ invertálható is. Adjunk egy egyszerű formulát az $\\| A^{-1} \\|_{2,2}$ kifejezésre.\n",
    "\n"
   ]
  },
  {
   "cell_type": "code",
   "execution_count": 11,
   "id": "33b46f68-6185-4e54-994a-3fed258348a6",
   "metadata": {},
   "outputs": [],
   "source": [
    "# A legkisebb abszolútértékű sajátértékének abszolútértékének reciproka"
   ]
  },
  {
   "cell_type": "markdown",
   "id": "23b29633-5ce1-4dc3-869b-9f495a981985",
   "metadata": {},
   "source": [
    "**Megjegyzés**\n",
    "\n",
    "Nevezetes indukált mátrixnormák még:\n",
    "$$\n",
    "  \\| A \\|_{1,1} = \\max_j \\sum_i |a_{ij}|, \\quad  \\| A \\|_{\\infty, \\infty} = \\max_i \\sum_j |a_{ij}|.\n",
    "$$\n",
    "\n",
    "Ami szavakkal leírva azt jelenti, hogy vegyük a mátrix elemenkénti abszolútértékét, majd vegyük az így kapott mátrixban a legnagyobb összegű sor/oszlop összegét. Hogy melyik melyik, annak megjegyzésében segíthet az, hogy ha visszaemlékszünk, hogy mit kapunk akkor, ha $A$ sorvektor."
   ]
  },
  {
   "cell_type": "markdown",
   "id": "84bb7ef9-691e-4f35-ba43-057f9676487e",
   "metadata": {},
   "source": [
    "### 11. Feladat\n",
    "\n",
    "Gondoljuk meg, hogy ez a két formula az $1$-es és $\\infty$-normák esetén az $(1, n)$ méretű mátrixokon, azaz sorvektorokon, a várt, $\\infty$-es és $1$-es normákat adják vissza."
   ]
  },
  {
   "cell_type": "code",
   "execution_count": 12,
   "id": "36dc4b8e-7ab2-4e83-ab75-60ea3d1976c4",
   "metadata": {},
   "outputs": [],
   "source": [
    "# definíció alapján"
   ]
  },
  {
   "cell_type": "markdown",
   "id": "23badefd-6a02-4b7a-acc0-109eeba0afe7",
   "metadata": {},
   "source": [
    "### 12. Feladat\n",
    "\n",
    "Legyen $u, v$ két vektor. Mik a sajátértékei és sajátvektorai az $uv^*$ mátrixnak?"
   ]
  },
  {
   "cell_type": "code",
   "execution_count": 13,
   "id": "078b1d98-7153-4888-8e58-720ae5756cf6",
   "metadata": {},
   "outputs": [],
   "source": [
    "# sajátvektorai: u, és a v-re merőleges hipersík egy bázisa\n",
    "# sajátértékei: v*u, és (n-1) db 0"
   ]
  },
  {
   "cell_type": "markdown",
   "id": "d65f8e28-a326-4b94-b99f-161d2ac17d28",
   "metadata": {},
   "source": [
    "### 13. Feladat\n",
    "\n",
    "Gondoljuk meg, hogy a kettes indukált mátrixnormára és a szokásos kettes vektornormára vonatkozó képletek egybeesnek sorvektorok esetén."
   ]
  },
  {
   "cell_type": "code",
   "execution_count": 14,
   "id": "fcf49c3e-d29b-439c-b3d0-ac0826ac0075",
   "metadata": {},
   "outputs": [],
   "source": [
    "# sqrt(lambda_max(u*u)) = sqrt(lambda_max(uu*)) = \\|u\\|_2"
   ]
  },
  {
   "cell_type": "markdown",
   "id": "8f2aa7ae-78c0-497a-892e-25ff606630f3",
   "metadata": {},
   "source": [
    "### 14. Feladat\n",
    "Tekintsük az\n",
    "$$\n",
    "\\| A \\|_F = \\left( \\sum\\limits_{i,j} |a_{ij}|^2 \\right)^{1/2}\n",
    "$$\n",
    "mátrixokon értelmezett funkcionált.\n",
    "\n",
    "a) Igaz-e, hogy norma?"
   ]
  },
  {
   "cell_type": "code",
   "execution_count": 15,
   "id": "ac42b55f-7ace-4ef4-9990-906e28633407",
   "metadata": {},
   "outputs": [],
   "source": [
    "# igen.. 2-es vektornormája a mátrix vektorrá lapításával kapott vektornak"
   ]
  },
  {
   "cell_type": "markdown",
   "id": "0c9cf405-3e65-41e6-aaaa-6c19872e1989",
   "metadata": {},
   "source": [
    "b) Lehet-e indukált norma? Ha igen, akkor milyen norma indukálja? Ha nem, miért nem?"
   ]
  },
  {
   "cell_type": "code",
   "execution_count": 16,
   "id": "4de357f3-7a6e-4c43-87bf-52b3512148c9",
   "metadata": {},
   "outputs": [],
   "source": [
    "# skalárokra igen\n",
    "# sorvektorokra igen\n",
    "# legalább 2x2-es négyzetes mátrixokra nem, mert \\|I\\|_F = n"
   ]
  },
  {
   "cell_type": "markdown",
   "id": "1a76d26d-e1b6-4282-9bfd-e3e8a82496af",
   "metadata": {},
   "source": [
    "c) Mutassuk meg, hogy szubmultiplikatív."
   ]
  },
  {
   "cell_type": "code",
   "execution_count": 17,
   "id": "c6c79388-863e-483c-885c-b853e0f449a9",
   "metadata": {},
   "outputs": [],
   "source": [
    "# lsd. a következő sort"
   ]
  },
  {
   "cell_type": "markdown",
   "id": "7ee86250-2fee-4c2d-b410-5804d1dcbef5",
   "metadata": {},
   "source": [
    "CBS-egyenlőtlenségből\n",
    "$$\n",
    "\\| AB \\|_F^2 = \\sum\\limits_{i,j} \\left|\\sum_k a_{ik}b_{kj}\\right|^2 \\leq \\sum\\limits_{i,j} \\left( \\sum_k a_{ik}^2 \\right) \\left( \\sum_k b_{kj}^2 \\right) = \\|A\\|_F^2 \\|B\\|_F^2\n",
    "$$"
   ]
  },
  {
   "cell_type": "markdown",
   "id": "d7e5a162-0f7a-40dd-8587-e799ccd9c5d3",
   "metadata": {},
   "source": [
    "**Spektrálsugár**\n",
    "\n",
    "Jelölje $\\rho(A)$ az $A$ mátrix legnagyobb abszolútértékű sajátértékének abszolútértékét. Ezt hívjuk $A$ spektrálsugarának."
   ]
  },
  {
   "cell_type": "markdown",
   "id": "09218b13-f728-4d30-97af-abd046a7177b",
   "metadata": {},
   "source": [
    "### 15. Feladat\n",
    "\n",
    "Mutassuk meg, hogy \n",
    "$$ \\rho \\leq \\|\\, \\| $$\n",
    "tetszőleges $\\| \\, \\|$ indukált mátrixnormára."
   ]
  },
  {
   "cell_type": "code",
   "execution_count": 18,
   "id": "b391a0a5-d280-4021-9a6c-15eeac64f224",
   "metadata": {},
   "outputs": [],
   "source": [
    "# |\\lambda| \\leq \\| A \\| (sajátvektort a definícióba helyettesítve)"
   ]
  },
  {
   "cell_type": "markdown",
   "id": "dd3837c8-791c-4f17-9028-0edb2e917c3b",
   "metadata": {},
   "source": [
    "### 16. Feladat\n",
    "\n",
    "Lehetnek-e normák az alábbi leképezések? Ha igen, akkor milyen mátrixokon?\n",
    "\n",
    "a) $\\det$"
   ]
  },
  {
   "cell_type": "code",
   "execution_count": 19,
   "id": "f2c85c53-80f1-4e55-a4b0-3acc3afb7b0c",
   "metadata": {},
   "outputs": [],
   "source": [
    "# det(cA) = c^n det(A), szóval nem"
   ]
  },
  {
   "cell_type": "markdown",
   "id": "2bf78452-d392-49e8-adef-c9e4526017c3",
   "metadata": {},
   "source": [
    "b) $\\operatorname{trace}$"
   ]
  },
  {
   "cell_type": "code",
   "execution_count": 20,
   "id": "d2cb53c0-1e85-4daa-bda5-a57559730113",
   "metadata": {},
   "outputs": [],
   "source": [
    "# lineáris => nem abszolút-homogén"
   ]
  },
  {
   "cell_type": "markdown",
   "id": "cdb497fe-7303-400d-8622-ad017dd6b22d",
   "metadata": {},
   "source": [
    "c) $\\rho$"
   ]
  },
  {
   "cell_type": "code",
   "execution_count": 21,
   "id": "f515850a-ea53-4a3c-b9bc-4c444a97e552",
   "metadata": {},
   "outputs": [],
   "source": [
    "# önadjungáltakon pl. igen, általában nem"
   ]
  },
  {
   "cell_type": "markdown",
   "id": "027e35c0-7ad9-4664-aad5-827abe8d1221",
   "metadata": {},
   "source": [
    "---"
   ]
  },
  {
   "cell_type": "markdown",
   "id": "0ff67bcc-9636-4aa2-b5f7-a7cdb3dd2d74",
   "metadata": {},
   "source": [
    "**Kondíciószám**\n",
    "  \n",
    "Ha az $A$ mátrix invertálható, akkor adott $\\|\\,\\|$ indukált norma szerinti kondíciószáma alatt az\n",
    "$\\|A \\| \\|A^{-1}\\|$ kifejezést értjük. Ennek motiválásához legyen $Ax = b, Ay = c$. Ekkor\n",
    "$$\n",
    "\\| b \\| \\| x - y \\| = \\| Ax \\| \\| A^{-1}(b - c) \\| \\leq \\| A \\| \\|x\\| \\|A^{-1}\\| \\|b - c\\|  = \\|x\\| \\|b - c\\| \\operatorname{cond}_{\\|\\, \\|}(A).\n",
    "$$\n",
    "Ha $x \\neq 0$, akkor $b \\neq 0$. Ekkor normáikkal átosztva adódik, hogy\n",
    "$$\n",
    "\\frac{\\| x - y \\|}{\\| x \\|} \\leq  \\frac{\\|b - c\\|}{\\| b \\|} \\operatorname{cond}_{\\|\\, \\|}(A).\n",
    "$$\n",
    "\n",
    "Egy következmény, hogy ha egy $Ax = b$ egyenletrendszer jobboldala nem pontosan (például mérési\n",
    "hibákkal terhelten) áll rendelkezésünkre, akkor az így kapott hibás $Ay = c$ rendszer $y$\n",
    "megoldásának relatív hibája az adott $\\|\\cdot \\|$ norma szerint\n",
    "az eredeti rendszer $x$ megoldásához képest legfeljebb az $A$\n",
    "mátrixtól és az alkalmazott normától függõ konstansszorosa lehet a $c$ vektor\n",
    "$b$-hez képest vett relatív hibájának."
   ]
  },
  {
   "cell_type": "markdown",
   "id": "ec0b6989-01fa-4724-89ce-1f8f27ae8797",
   "metadata": {},
   "source": [
    "### 17. Feladat\n",
    "\n",
    "Mutassuk meg, hogy $\\operatorname{cond}_{\\|\\cdot\\|} \\geq 1.$"
   ]
  },
  {
   "cell_type": "code",
   "execution_count": 22,
   "id": "144b94b6-607b-46f6-bd28-6bf2fc1887a4",
   "metadata": {},
   "outputs": [],
   "source": [
    "# 1 = \\| I \\| = \\| A A^{-1} \\| \\leq cond(A)\n",
    "# szubmultiplikativitás"
   ]
  },
  {
   "cell_type": "markdown",
   "id": "f69203dc-6718-424f-8d5f-3046a665163c",
   "metadata": {},
   "source": [
    "### 18. Feladat\n",
    "\n",
    "Legyen $U$ unitér mátrix. Mennyi $\\operatorname{cond}_2(U)$?"
   ]
  },
  {
   "cell_type": "code",
   "execution_count": 23,
   "id": "d876ed03-81b7-4323-adba-8be2519b076b",
   "metadata": {},
   "outputs": [],
   "source": [
    "# \\| U \\| = \\| U^* \\| = 1, tehát 1 "
   ]
  },
  {
   "cell_type": "markdown",
   "id": "faf5c0bd-a33b-4730-b0d8-b55c9d75293d",
   "metadata": {},
   "source": [
    "### 19. Feladat\n",
    "\n",
    "Legyen $A = U \\Sigma V^*$, ahol $U,V$ unitér és $\\Sigma$ diagonális mátrix $\\sigma_1 \\geq \\sigma_2 \\geq \\ldots \\geq \\sigma_n > 0$ főátlóbeli elemekkel. Adjunk egy egyszerű formulát a\n",
    "$\n",
    "\\operatorname{cond}_{2}(A)\n",
    "$ mennyiségre."
   ]
  },
  {
   "cell_type": "code",
   "execution_count": 24,
   "id": "53ab0260-78c6-49cd-b127-624aa5957e9c",
   "metadata": {},
   "outputs": [],
   "source": [
    "# \\sigma_1 / \\sigma_n"
   ]
  },
  {
   "cell_type": "markdown",
   "id": "142b45d0-1de8-4442-ae3e-d35b29b10aa0",
   "metadata": {},
   "source": [
    "### 20. Feladat\n",
    "\n",
    "Legyen $A$ önadjungált. Adjunk egy egyszerű formulát a $\\operatorname{cond}_2(A)$ kifejezésre."
   ]
  },
  {
   "cell_type": "code",
   "execution_count": 25,
   "id": "d1e4f7d7-10f1-45f0-9582-834d3c2f05f3",
   "metadata": {},
   "outputs": [],
   "source": [
    "# mu_1 / mu_n, \n",
    "# ahol mu_j a sajátértékek abszolútértékei, nagyság szerint csökkenő sorrendben"
   ]
  },
  {
   "cell_type": "markdown",
   "id": "5ec07380-9b44-4866-a9c7-3ec05bbe6c5e",
   "metadata": {},
   "source": [
    "----"
   ]
  },
  {
   "cell_type": "markdown",
   "id": "b0661a94-d511-4a9e-8b3c-9325c044e69a",
   "metadata": {},
   "source": [
    "A Banach-féle fixponttétel szerint ha $(X, d)$ teljes metrikus tér, $f: X \\to X$ kontrakció, azaz létezik olyan $0 \\leq C < 1$ konstans, amivel tetszőleges $x, y \\in X$ elemekre\n",
    "\n",
    "$$d(f(x), f(y)) \\leq C \\, d(x, y),$$\n",
    "akkor egyértelműen létezik egy $x^*$ fixpontja, azaz $x^* \\in X$, amire\n",
    "$$f(x^*) = x^*.$$"
   ]
  },
  {
   "cell_type": "markdown",
   "id": "9971f1f4-1cec-469a-b5c5-2affa68b3957",
   "metadata": {},
   "source": [
    "### 21. Feladat\n",
    "\n",
    "Tekintsük az $x \\mapsto \\frac{x}{2}$ hozzárendelési szabályt. Készítsünk belőle függvényt az alábbiak szerint.\n",
    "\n",
    "a) Mutassuk meg, hogy ha értelmezési tartománynak az egész számegyenest választjuk, akkor kontrakciót kapunk, melynek lesz fixpontja, majd keressük is meg azt."
   ]
  },
  {
   "cell_type": "code",
   "execution_count": 26,
   "id": "89b40acd-0198-4cfe-9d1b-55acb2f0b678",
   "metadata": {},
   "outputs": [],
   "source": [
    "# C = 1/2; 0/2 = 0"
   ]
  },
  {
   "cell_type": "markdown",
   "id": "cefabf2a-8291-4f94-9e0d-3525f0ac11de",
   "metadata": {},
   "source": [
    "b) Keressünk olyan értelmezési tartományt, amivel a függvény kontrakció lesz, azonban nem lesz fixpontja. A fixponttétel melyik feltétele sérült?"
   ]
  },
  {
   "cell_type": "code",
   "execution_count": 27,
   "id": "38e59b12-7719-4a3b-b041-7b3004ccc371",
   "metadata": {},
   "outputs": [],
   "source": [
    "# X = (0, 1]\n",
    "# nem teljes"
   ]
  },
  {
   "cell_type": "markdown",
   "id": "8112b26b-5f1c-4a03-8833-fda3aca49e4b",
   "metadata": {},
   "source": [
    "---"
   ]
  },
  {
   "cell_type": "markdown",
   "id": "566459d5-dbc2-4379-b5f5-bbb9c1aae084",
   "metadata": {},
   "source": [
    "### 22. Feladat\n",
    "\n",
    "Legyen $x = [10^{200}, 1]$. Számítsuk ki a 2-es normáját kétféleképpen:\n",
    "\n",
    "- $\\sqrt{x_1^2 + x_2^2}$,\n",
    "- $c\\sqrt{\\left(\\frac{x_1}{c}\\right)^2 + \\left(\\frac{x_2}{c}\\right)^2},$\n",
    "\n",
    "ahol $ c = \\max\\{|x_1|, |x_2|\\}$. Mit tapasztalunk?"
   ]
  },
  {
   "cell_type": "code",
   "execution_count": 24,
   "id": "607545d9-6c2a-479f-a756-8dccbd6f6e7c",
   "metadata": {},
   "outputs": [],
   "source": [
    "import numpy as np\n"
   ]
  },
  {
   "cell_type": "code",
   "execution_count": 25,
   "id": "20799721-bafe-452a-abf1-45a8cf92e386",
   "metadata": {},
   "outputs": [
    {
     "data": {
      "text/plain": [
       "array([1.e+200, 1.e+000])"
      ]
     },
     "execution_count": 25,
     "metadata": {},
     "output_type": "execute_result"
    }
   ],
   "source": [
    "x = np.array([1e200, 1])\n",
    "x"
   ]
  },
  {
   "cell_type": "code",
   "execution_count": 26,
   "id": "f9a04483-81a2-4b87-9c21-a33b2e5a1b33",
   "metadata": {},
   "outputs": [
    {
     "data": {
      "text/plain": [
       "1e+200"
      ]
     },
     "execution_count": 26,
     "metadata": {},
     "output_type": "execute_result"
    }
   ],
   "source": [
    "sum((x / x.max())**2)**.5 *x.max()"
   ]
  },
  {
   "cell_type": "code",
   "execution_count": 27,
   "id": "6bdb6f6e-faa7-4168-926d-850aa11f8098",
   "metadata": {},
   "outputs": [
    {
     "name": "stderr",
     "output_type": "stream",
     "text": [
      "C:\\Users\\Gábor\\AppData\\Local\\Temp\\ipykernel_9152\\1582502929.py:1: RuntimeWarning: overflow encountered in square\n",
      "  x**2\n"
     ]
    },
    {
     "data": {
      "text/plain": [
       "array([inf,  1.])"
      ]
     },
     "execution_count": 27,
     "metadata": {},
     "output_type": "execute_result"
    }
   ],
   "source": [
    "x**2"
   ]
  },
  {
   "cell_type": "markdown",
   "id": "cbf13ee1-3b95-4df3-8a0b-0184ff8f0374",
   "metadata": {},
   "source": [
    "### 23. Feladat\n",
    "Írjunk programot, ami kiszámolja egy vektor $p$-normáját."
   ]
  },
  {
   "cell_type": "code",
   "execution_count": 28,
   "id": "c6e2c83e-177a-4b3c-a49c-b674d28be88e",
   "metadata": {},
   "outputs": [],
   "source": [
    "def p_norm(v: np.array, p: float):\n",
    "    \"\"\" kiszamitja v p-normajat az elso tengely menten \"\"\"\n",
    "    # p ertelmes\n",
    "    assert 1 <= p\n",
    "\n",
    "    if 1/p == 0:\n",
    "        return (abs(v)).max(axis=0)\n",
    "        \n",
    "    return ((abs(v)**p).sum(axis=0))**(1/p)"
   ]
  },
  {
   "cell_type": "code",
   "execution_count": 46,
   "id": "7337a162-542a-45ca-9b84-5e5a009a7867",
   "metadata": {},
   "outputs": [],
   "source": [
    "v = np.array([[1,1,1],[1,1,1]])"
   ]
  },
  {
   "cell_type": "code",
   "execution_count": 49,
   "id": "e269534b-f337-4ee5-a7e7-c64bba8a13bf",
   "metadata": {},
   "outputs": [
    {
     "data": {
      "text/plain": [
       "array([2., 2., 2.])"
      ]
     },
     "execution_count": 49,
     "metadata": {},
     "output_type": "execute_result"
    }
   ],
   "source": [
    "p_norm(v, 1)"
   ]
  },
  {
   "cell_type": "code",
   "execution_count": 31,
   "id": "88e498db-bfc4-4748-9a44-6bb467152395",
   "metadata": {},
   "outputs": [
    {
     "data": {
      "text/plain": [
       "1.0"
      ]
     },
     "execution_count": 31,
     "metadata": {},
     "output_type": "execute_result"
    }
   ],
   "source": [
    "p_norm(v, 2)"
   ]
  },
  {
   "cell_type": "code",
   "execution_count": 32,
   "id": "faf381c4-e5b1-4a8a-91b0-81f4ae3d3c93",
   "metadata": {},
   "outputs": [
    {
     "data": {
      "text/plain": [
       "0.8660254037844386"
      ]
     },
     "execution_count": 32,
     "metadata": {},
     "output_type": "execute_result"
    }
   ],
   "source": [
    "p_norm(v, np.inf)"
   ]
  },
  {
   "cell_type": "markdown",
   "id": "3c69b122-e6f5-4fd9-a288-7021a29cd8dd",
   "metadata": {},
   "source": [
    "### 24. Feladat\n",
    "\n",
    "Írjunk programot, ami adott $p$ esetén felrajzolja a $\\| \\, \\|_p$ szerinti egységkört. Ábrázoljuk egy közös ábrán a $p=1,2,4, \\infty$ eseteket."
   ]
  },
  {
   "cell_type": "code",
   "execution_count": 33,
   "id": "e1e35973-79a2-4601-9428-dfc041fe32b5",
   "metadata": {},
   "outputs": [],
   "source": [
    "def unit_circle(num_pts: int, p: float) -> np.array:\n",
    "    ts = np.linspace(0, 2*np.pi, 201)\n",
    "    xs = np.sin(ts)\n",
    "    ys = np.cos(ts)\n",
    "\n",
    "    xys = np.vstack((xs, ys))\n",
    "    xys_normed = xys / p_norm(xys, p)\n",
    "    \n",
    "    return xys_normed"
   ]
  },
  {
   "cell_type": "code",
   "execution_count": 50,
   "id": "91259fa0-eb89-4d9b-8924-dfeb61dc9263",
   "metadata": {},
   "outputs": [],
   "source": [
    "from matplotlib import pyplot as plt"
   ]
  },
  {
   "cell_type": "code",
   "execution_count": 44,
   "id": "12caf639-3c01-4b7a-8dad-82a87aeeb18e",
   "metadata": {},
   "outputs": [
    {
     "data": {
      "text/plain": [
       "<matplotlib.legend.Legend at 0x1cc2d7d53c0>"
      ]
     },
     "execution_count": 44,
     "metadata": {},
     "output_type": "execute_result"
    },
    {
     "data": {
      "image/png": "[encoded data removed]",
      "text/plain": [
       "<Figure size 640x480 with 1 Axes>"
      ]
     },
     "metadata": {},
     "output_type": "display_data"
    }
   ],
   "source": [
    "for p in [1, 2,4,np.inf]:\n",
    "    plt.plot(*unit_circle(201, p), label=f\"p = {p}\")\n",
    "plt.title(\"p-norma szerinti egységkörök\")\n",
    "plt.legend()"
   ]
  },
  {
   "cell_type": "markdown",
   "id": "81013564-34a9-44fb-86cc-fa9dd17d9495",
   "metadata": {},
   "source": [
    "### 25. Feladat\n",
    "\n",
    "Írjunk programot az\n",
    "\n",
    "$$\n",
    "A_n = \\left(\\matrix{2 & -1 & 0 & \\dots & 0\\cr -1 & 2 & -1 & \\dots & 0 \\cr 0 & -1 & 2 & \\dots & 0 \\cr \\vdots & \\ddots & \\ddots & \\ddots& \\vdots \\cr 0 & \\dots & 0 & -1 & 2}\\right)\n",
    "$$\n",
    "\n",
    "és a\n",
    "\n",
    "$$\n",
    "H_n = \\left(\\matrix{1 & 1/2 & 1/3 & \\dots & 1/n \\cr 1/2 & 1/3 & 1/4 & \\dots & 1/(n+1) \\cr 1/3 & 1/4 & 1/5 & \\dots & 1/(n+2) \\cr \\vdots & \\vdots & \\vdots & \\vdots& \\vdots \\cr 1/n & 1/(n+1) & 1/(n+2) & \\dots & 1/(2n-1)}\\right)\n",
    "$$\n",
    "\n",
    "mátrixok megkonstruálására, majd számíttassuk is ki ezek 1-es, illetve 2-es norma szerinti kondíciószámát egy megfelelő parancs segítségével."
   ]
  },
  {
   "cell_type": "code",
   "execution_count": 51,
   "id": "a7fdd226-37c0-49ba-918a-c33729e3e817",
   "metadata": {},
   "outputs": [],
   "source": [
    "def mtx_a(n: int) -> np.ndarray:\n",
    "    return np.diag(-np.ones(n-1), -1) + np.diag(2*np.ones(n), 0) + np.diag(-np.ones(n-1), 1)\n"
   ]
  },
  {
   "cell_type": "code",
   "execution_count": 53,
   "id": "776c750e-2611-49b9-af8c-a017d5332cac",
   "metadata": {},
   "outputs": [
    {
     "data": {
      "text/plain": [
       "array([[ 2., -1.,  0.,  0.,  0.],\n",
       "       [-1.,  2., -1.,  0.,  0.],\n",
       "       [ 0., -1.,  2., -1.,  0.],\n",
       "       [ 0.,  0., -1.,  2., -1.],\n",
       "       [ 0.,  0.,  0., -1.,  2.]])"
      ]
     },
     "execution_count": 53,
     "metadata": {},
     "output_type": "execute_result"
    }
   ],
   "source": [
    "mtx_a(5)"
   ]
  },
  {
   "cell_type": "code",
   "execution_count": 86,
   "id": "6f7994b3-257d-4308-b0cc-166db959bc7f",
   "metadata": {},
   "outputs": [],
   "source": [
    "def mtx_h(n: int) -> np.ndarray:\n",
    "    v = np.array(list(range(n)))\n",
    "    return np.matmul(1/v[1:n],1/v[1:n])"
   ]
  },
  {
   "cell_type": "code",
   "execution_count": 85,
   "id": "402008c3-13fb-4b97-b620-9b741b30ee82",
   "metadata": {},
   "outputs": [
    {
     "data": {
      "text/plain": [
       "1.4236111111111112"
      ]
     },
     "execution_count": 85,
     "metadata": {},
     "output_type": "execute_result"
    }
   ],
   "source": [
    "mtx_h(5)"
   ]
  },
  {
   "cell_type": "markdown",
   "id": "2ea42394-9f66-407a-850a-a4a7dbafe83e",
   "metadata": {},
   "source": [
    "### 26. Feladat\n",
    "\n",
    "Állítsuk elő azt az $A \\in \\mathbb{R}^{100 \\times 100}$ mátrixot, melynek elemei az alábbi értékek:\n",
    "\n",
    "$$\n",
    "a_{ij}=\\begin{cases}\n",
    "1, &i=j, \\\\\n",
    "-1, &i<j, \\\\\n",
    "0 &\\text{egyébként.}\n",
    "\\end{cases}\n",
    "$$\n",
    "\n",
    "Legyen $b=[-98, -97, \\dots, 0, 1]^{T}$ és tekintsük az $Ax = b$ egyenletrendszert.\n",
    "\n",
    "a) Jól kondícionált a feladat?"
   ]
  },
  {
   "cell_type": "code",
   "execution_count": 44,
   "id": "0e755b55-9917-4ab2-aab3-cf5a7ad599f1",
   "metadata": {},
   "outputs": [
    {
     "data": {
      "text/plain": [
       "array([[ 1., -1., -1., ..., -1., -1., -1.],\n",
       "       [ 0.,  1., -1., ..., -1., -1., -1.],\n",
       "       [ 0.,  0.,  1., ..., -1., -1., -1.],\n",
       "       ...,\n",
       "       [ 0.,  0.,  0., ...,  1., -1., -1.],\n",
       "       [ 0.,  0.,  0., ...,  0.,  1., -1.],\n",
       "       [ 0.,  0.,  0., ...,  0.,  0.,  1.]])"
      ]
     },
     "execution_count": 44,
     "metadata": {},
     "output_type": "execute_result"
    }
   ],
   "source": [
    "def a26(n):\n",
    "    return np.eye(n) - np.triu(np.ones((n, n)), 1)\n",
    "    \n",
    "a26(100)"
   ]
  },
  {
   "cell_type": "code",
   "execution_count": 45,
   "id": "f9273a88-9f63-4c06-8c05-3114569a633b",
   "metadata": {},
   "outputs": [],
   "source": [
    "def b26(n):\n",
    "    return np.array(list(range(n))) - (n-2)"
   ]
  },
  {
   "cell_type": "code",
   "execution_count": 46,
   "id": "f3ce1bbb-c8a4-45a6-a6fb-41097de2fd2e",
   "metadata": {},
   "outputs": [
    {
     "data": {
      "text/plain": [
       "array([-98, -97, -96, -95, -94, -93, -92, -91, -90, -89, -88, -87, -86,\n",
       "       -85, -84, -83, -82, -81, -80, -79, -78, -77, -76, -75, -74, -73,\n",
       "       -72, -71, -70, -69, -68, -67, -66, -65, -64, -63, -62, -61, -60,\n",
       "       -59, -58, -57, -56, -55, -54, -53, -52, -51, -50, -49, -48, -47,\n",
       "       -46, -45, -44, -43, -42, -41, -40, -39, -38, -37, -36, -35, -34,\n",
       "       -33, -32, -31, -30, -29, -28, -27, -26, -25, -24, -23, -22, -21,\n",
       "       -20, -19, -18, -17, -16, -15, -14, -13, -12, -11, -10,  -9,  -8,\n",
       "        -7,  -6,  -5,  -4,  -3,  -2,  -1,   0,   1])"
      ]
     },
     "execution_count": 46,
     "metadata": {},
     "output_type": "execute_result"
    }
   ],
   "source": [
    "b26(100)"
   ]
  },
  {
   "cell_type": "code",
   "execution_count": 47,
   "id": "60532032-cc3a-441f-ad37-b43febb5d572",
   "metadata": {},
   "outputs": [
    {
     "data": {
      "text/plain": [
       "6.338253001141147e+31"
      ]
     },
     "execution_count": 47,
     "metadata": {},
     "output_type": "execute_result"
    }
   ],
   "source": [
    "from numpy.linalg import cond\n",
    "cond(a26(100), p=1)"
   ]
  },
  {
   "cell_type": "markdown",
   "id": "a68ce010-7651-456e-bcb8-c744ab07a8c7",
   "metadata": {},
   "source": [
    "b) Tegyük fel, hogy a $b$ vektor hibával terhelten áll csak a rendelkezésünkre: az utolsó eleme legyen $1$ helyett $1.0001$. Adjunk becslést a megoldásban keletkező hiba relatív mértékére $1$-es, $\\infty$-normákban, majd oldjuk meg a két egyenletrendszert és számítsuk ki a hiba pontos mértékét."
   ]
  },
  {
   "cell_type": "code",
   "execution_count": 48,
   "id": "e38e348c-63b8-4f7a-85f8-c47b1cd1ed97",
   "metadata": {},
   "outputs": [],
   "source": [
    "def delta_b26(n):\n",
    "    return 1e-4 * np.roll(np.eye(1, n), -1).ravel()"
   ]
  },
  {
   "cell_type": "code",
   "execution_count": 49,
   "id": "c6877a04-2f46-4fe6-9a50-8ba19de7bfc0",
   "metadata": {},
   "outputs": [
    {
     "data": {
      "text/plain": [
       "array([0.    , 0.    , 0.    , 0.    , 0.    , 0.    , 0.    , 0.    ,\n",
       "       0.    , 0.    , 0.    , 0.    , 0.    , 0.    , 0.    , 0.    ,\n",
       "       0.    , 0.    , 0.    , 0.    , 0.    , 0.    , 0.    , 0.    ,\n",
       "       0.    , 0.    , 0.    , 0.    , 0.    , 0.    , 0.    , 0.    ,\n",
       "       0.    , 0.    , 0.    , 0.    , 0.    , 0.    , 0.    , 0.    ,\n",
       "       0.    , 0.    , 0.    , 0.    , 0.    , 0.    , 0.    , 0.    ,\n",
       "       0.    , 0.    , 0.    , 0.    , 0.    , 0.    , 0.    , 0.    ,\n",
       "       0.    , 0.    , 0.    , 0.    , 0.    , 0.    , 0.    , 0.    ,\n",
       "       0.    , 0.    , 0.    , 0.    , 0.    , 0.    , 0.    , 0.    ,\n",
       "       0.    , 0.    , 0.    , 0.    , 0.    , 0.    , 0.    , 0.    ,\n",
       "       0.    , 0.    , 0.    , 0.    , 0.    , 0.    , 0.    , 0.    ,\n",
       "       0.    , 0.    , 0.    , 0.    , 0.    , 0.    , 0.    , 0.    ,\n",
       "       0.    , 0.    , 0.    , 0.0001])"
      ]
     },
     "execution_count": 49,
     "metadata": {},
     "output_type": "execute_result"
    }
   ],
   "source": [
    "delta_b26(100)"
   ]
  },
  {
   "cell_type": "code",
   "execution_count": 50,
   "id": "fa316cdd-f010-4605-91cc-32cc59ac0687",
   "metadata": {},
   "outputs": [],
   "source": [
    "from numpy.linalg import cond, solve"
   ]
  },
  {
   "cell_type": "code",
   "execution_count": 51,
   "id": "95d28a48-a971-45f1-963a-ac5eb10b5931",
   "metadata": {},
   "outputs": [],
   "source": [
    "def x26(n):\n",
    "    return solve(a26(n), b26(n))\n",
    "    \n",
    "def delta_x26(n):\n",
    "    return solve(a26(n), delta_b26(n))"
   ]
  },
  {
   "cell_type": "code",
   "execution_count": 52,
   "id": "f9a2e9e8-1901-495a-8478-d36570db71a0",
   "metadata": {},
   "outputs": [],
   "source": [
    "def f26(n, p):\n",
    "    return {\n",
    "        \"becsles\": p_norm(delta_b26(n), p)/p_norm(b26(n), p) * cond(a26(n), p),\n",
    "        \"tenyleges\": p_norm(delta_x26(n), p) / p_norm(x26(n), p)\n",
    "    }"
   ]
  },
  {
   "cell_type": "code",
   "execution_count": 53,
   "id": "ff393b21-9bf4-46ed-9296-2f5511a740ad",
   "metadata": {},
   "outputs": [
    {
     "data": {
      "text/plain": [
       "{'becsles': 1.306317601224474e+24, 'tenyleges': 6.338253001141147e+23}"
      ]
     },
     "execution_count": 53,
     "metadata": {},
     "output_type": "execute_result"
    }
   ],
   "source": [
    "f26(100, 1)"
   ]
  },
  {
   "cell_type": "code",
   "execution_count": 54,
   "id": "58b03992-3d91-4fb0-849e-e8fe1dba6cab",
   "metadata": {},
   "outputs": [
    {
     "data": {
      "text/plain": [
       "{'becsles': 6.467605103205253e+25, 'tenyleges': 3.1691265005705737e+25}"
      ]
     },
     "execution_count": 54,
     "metadata": {},
     "output_type": "execute_result"
    }
   ],
   "source": [
    "f26(100, np.inf)"
   ]
  },
  {
   "cell_type": "markdown",
   "id": "77751cb3-48ef-4ebe-95c7-fa3b9d23ceb3",
   "metadata": {},
   "source": [
    "c) Oldjuk meg a b) feladatrészt $2$-es norma választással. Mit tapasztalunk?"
   ]
  },
  {
   "cell_type": "code",
   "execution_count": 55,
   "id": "131d0a7c-74c2-4e99-8765-9285fb5a735e",
   "metadata": {},
   "outputs": [],
   "source": [
    "# Láthatjuk, hogy a 2-es kondíciószám kiszámítása problematikus tud lenni\n",
    "# kis n-ekre még jó, azonban pl. n=100-ra már nem"
   ]
  },
  {
   "cell_type": "code",
   "execution_count": 56,
   "id": "a561b948-8853-4047-9bb5-8e6b2508c02f",
   "metadata": {},
   "outputs": [
    {
     "data": {
      "text/plain": [
       "{'becsles': 0.013399293594904917, 'tenyleges': 0.009347833973707491}"
      ]
     },
     "execution_count": 56,
     "metadata": {},
     "output_type": "execute_result"
    }
   ],
   "source": [
    "f26(10, 2)"
   ]
  },
  {
   "cell_type": "code",
   "execution_count": 57,
   "id": "e2138e13-06f2-4d95-b1c3-b60b7e8408b1",
   "metadata": {},
   "outputs": [
    {
     "data": {
      "text/plain": [
       "{'becsles': 5952901962.42794, 'tenyleges': 4596467122.019238}"
      ]
     },
     "execution_count": 57,
     "metadata": {},
     "output_type": "execute_result"
    }
   ],
   "source": [
    "f26(50, 2)"
   ]
  },
  {
   "cell_type": "code",
   "execution_count": 58,
   "id": "1c725790-5a58-4769-9391-5d7b0122276c",
   "metadata": {},
   "outputs": [
    {
     "data": {
      "text/plain": [
       "{'becsles': 8198745506377.961, 'tenyleges': 3.6593920764007947e+24}"
      ]
     },
     "execution_count": 58,
     "metadata": {},
     "output_type": "execute_result"
    }
   ],
   "source": [
    "f26(100, 2)"
   ]
  }
 ],
 "metadata": {
  "kernelspec": {
   "display_name": "Python 3 (ipykernel)",
   "language": "python",
   "name": "python3"
  },
  "language_info": {
   "codemirror_mode": {
    "name": "ipython",
    "version": 3
   },
   "file_extension": ".py",
   "mimetype": "text/x-python",
   "name": "python",
   "nbconvert_exporter": "python",
   "pygments_lexer": "ipython3",
   "version": "3.10.6"
  }
 },
 "nbformat": 4,
 "nbformat_minor": 5
}
